{
  "nbformat": 4,
  "nbformat_minor": 0,
  "metadata": {
    "colab": {
      "provenance": [],
      "authorship_tag": "ABX9TyMEiporGhxhSm/0wESGf/eB",
      "include_colab_link": true
    },
    "kernelspec": {
      "name": "python3",
      "display_name": "Python 3"
    },
    "language_info": {
      "name": "python"
    }
  },
  "cells": [
    {
      "cell_type": "markdown",
      "metadata": {
        "id": "view-in-github",
        "colab_type": "text"
      },
      "source": [
        "<a href=\"https://colab.research.google.com/github/housekjh1/study-pandas/blob/main/%EC%83%81%EA%B0%80(%EC%83%81%EA%B6%8C)%EC%A0%95%EB%B3%B4.ipynb\" target=\"_parent\"><img src=\"https://colab.research.google.com/assets/colab-badge.svg\" alt=\"Open In Colab\"/></a>"
      ]
    },
    {
      "cell_type": "code",
      "execution_count": 1,
      "metadata": {
        "id": "Yh-5H9wZxyBe",
        "colab": {
          "base_uri": "https://localhost:8080/"
        },
        "outputId": "e03a8155-fc86-4691-9169-fb3b8c99725f"
      },
      "outputs": [
        {
          "output_type": "stream",
          "name": "stdout",
          "text": [
            "Requirement already satisfied: koreanize-matplotlib in /usr/local/lib/python3.10/dist-packages (0.1.1)\n",
            "Requirement already satisfied: matplotlib in /usr/local/lib/python3.10/dist-packages (from koreanize-matplotlib) (3.7.1)\n",
            "Requirement already satisfied: contourpy>=1.0.1 in /usr/local/lib/python3.10/dist-packages (from matplotlib->koreanize-matplotlib) (1.1.1)\n",
            "Requirement already satisfied: cycler>=0.10 in /usr/local/lib/python3.10/dist-packages (from matplotlib->koreanize-matplotlib) (0.12.1)\n",
            "Requirement already satisfied: fonttools>=4.22.0 in /usr/local/lib/python3.10/dist-packages (from matplotlib->koreanize-matplotlib) (4.43.1)\n",
            "Requirement already satisfied: kiwisolver>=1.0.1 in /usr/local/lib/python3.10/dist-packages (from matplotlib->koreanize-matplotlib) (1.4.5)\n",
            "Requirement already satisfied: numpy>=1.20 in /usr/local/lib/python3.10/dist-packages (from matplotlib->koreanize-matplotlib) (1.23.5)\n",
            "Requirement already satisfied: packaging>=20.0 in /usr/local/lib/python3.10/dist-packages (from matplotlib->koreanize-matplotlib) (23.2)\n",
            "Requirement already satisfied: pillow>=6.2.0 in /usr/local/lib/python3.10/dist-packages (from matplotlib->koreanize-matplotlib) (9.4.0)\n",
            "Requirement already satisfied: pyparsing>=2.3.1 in /usr/local/lib/python3.10/dist-packages (from matplotlib->koreanize-matplotlib) (3.1.1)\n",
            "Requirement already satisfied: python-dateutil>=2.7 in /usr/local/lib/python3.10/dist-packages (from matplotlib->koreanize-matplotlib) (2.8.2)\n",
            "Requirement already satisfied: six>=1.5 in /usr/local/lib/python3.10/dist-packages (from python-dateutil>=2.7->matplotlib->koreanize-matplotlib) (1.16.0)\n"
          ]
        }
      ],
      "source": [
        "import pandas as pd\n",
        "import numpy as np\n",
        "import matplotlib.pyplot as plt\n",
        "!pip install koreanize-matplotlib\n",
        "import koreanize_matplotlib"
      ]
    },
    {
      "cell_type": "code",
      "source": [
        "!ls"
      ],
      "metadata": {
        "colab": {
          "base_uri": "https://localhost:8080/"
        },
        "id": "Rd4P0s4SzZQu",
        "outputId": "92a624e3-1729-4662-9546-856624faf007"
      },
      "execution_count": 2,
      "outputs": [
        {
          "output_type": "stream",
          "name": "stdout",
          "text": [
            "'소상공인시장진흥공단_상가(상권)정보_부산_202306.csv'   sample_data\n"
          ]
        }
      ]
    },
    {
      "cell_type": "code",
      "source": [
        "# df = pd.read_csv(\"소상공인시장진흥공단_상가(상권)정보_부산_202306.csv\", encoding=\"cp949\") # 한글인코딩\n",
        "# df = pd.read_csv(\"소상공인시장진흥공단_상가(상권)정보_부산_202306.csv\", sep=\"|\")\n",
        "df = pd.read_csv(\"소상공인시장진흥공단_상가(상권)정보_부산_202306.csv\", encoding=\"utf-8\") # 코랩 버그, 강제로 utf-8로 읽기\n",
        "# 파일 안읽힐 시 1. 엑셀에서 선처리하기"
      ],
      "metadata": {
        "id": "omnU3WuHzndO"
      },
      "execution_count": null,
      "outputs": []
    },
    {
      "cell_type": "markdown",
      "source": [
        "# 할 일\n",
        "1. 데이터 불러오기\n",
        "2. DF로 바꾸기\n",
        "3. NA삭제 -> NA파악"
      ],
      "metadata": {
        "id": "yzoWq8I32mf2"
      }
    },
    {
      "cell_type": "code",
      "source": [
        "df.head()"
      ],
      "metadata": {
        "colab": {
          "base_uri": "https://localhost:8080/",
          "height": 426
        },
        "id": "m-AW6ks52VN_",
        "outputId": "70261c11-2f46-43f6-a390-fc5d5ecaccef"
      },
      "execution_count": 6,
      "outputs": [
        {
          "output_type": "execute_result",
          "data": {
            "text/plain": [
              "                 상가업소번호          상호명  지점명 상권업종대분류코드 상권업종대분류명 상권업종중분류코드  \\\n",
              "0  MA0101202210A0072343         선해횟집  NaN        I2       음식      I201   \n",
              "1  MA010120220805430802          미즈노  NaN        G2       소매      G209   \n",
              "2  MA010120220805430814          리스트  NaN        G2       소매      G209   \n",
              "3  MA010120220805430900  눈썹그리기교실동안눈썹  NaN        S2    수리·개인      S207   \n",
              "4  MA010120220805430935    카페051남포역점  NaN        I2       음식      I212   \n",
              "\n",
              "      상권업종중분류명 상권업종소분류코드   상권업종소분류명 표준산업분류코드  ...                     건물관리번호  \\\n",
              "0           한식    I20111         횟집   I56111  ...  2641011100100300027023409   \n",
              "1  섬유·의복·신발 소매    G20905  기타 의류 소매업   G47419  ...  2635010500114960000000001   \n",
              "2  섬유·의복·신발 소매    G20902  여성 의류 소매업   G47412  ...  2644010400134380000000001   \n",
              "3        이용·미용    S20702     피부 관리실   S96113  ...  2632010200122720005015331   \n",
              "4        비알코올     I21201         카페   I56221  ...  2611013700100010005007067   \n",
              "\n",
              "          건물명                 도로명주소   구우편번호  신우편번호  동정보  층정보  호정보          경도  \\\n",
              "0         NaN    부산광역시 금정구 사천로3번길 2  609808  46264  NaN    1  NaN  129.113321   \n",
              "1  롯데백화점센텀시티점   부산광역시 해운대구 센텀남대로 59  612022  48058  NaN    5  NaN  129.131099   \n",
              "2   스타필드시티명지점  부산광역시 강서구 명지국제6로 168  618200  46772  NaN    2  NaN  128.918174   \n",
              "3        현호타워      부산광역시 북구 화명대로 31  616852  46525  NaN  NaN  NaN  129.011641   \n",
              "4         NaN       부산광역시 중구 남포길 47  600042  48954  NaN    1  NaN  129.033875   \n",
              "\n",
              "          위도  \n",
              "0  35.223363  \n",
              "1  35.169873  \n",
              "2  35.093125  \n",
              "3  35.235217  \n",
              "4  35.098035  \n",
              "\n",
              "[5 rows x 39 columns]"
            ],
            "text/html": [
              "\n",
              "  <div id=\"df-63cbe541-d7d5-483f-ae44-5924eaff27ff\" class=\"colab-df-container\">\n",
              "    <div>\n",
              "<style scoped>\n",
              "    .dataframe tbody tr th:only-of-type {\n",
              "        vertical-align: middle;\n",
              "    }\n",
              "\n",
              "    .dataframe tbody tr th {\n",
              "        vertical-align: top;\n",
              "    }\n",
              "\n",
              "    .dataframe thead th {\n",
              "        text-align: right;\n",
              "    }\n",
              "</style>\n",
              "<table border=\"1\" class=\"dataframe\">\n",
              "  <thead>\n",
              "    <tr style=\"text-align: right;\">\n",
              "      <th></th>\n",
              "      <th>상가업소번호</th>\n",
              "      <th>상호명</th>\n",
              "      <th>지점명</th>\n",
              "      <th>상권업종대분류코드</th>\n",
              "      <th>상권업종대분류명</th>\n",
              "      <th>상권업종중분류코드</th>\n",
              "      <th>상권업종중분류명</th>\n",
              "      <th>상권업종소분류코드</th>\n",
              "      <th>상권업종소분류명</th>\n",
              "      <th>표준산업분류코드</th>\n",
              "      <th>...</th>\n",
              "      <th>건물관리번호</th>\n",
              "      <th>건물명</th>\n",
              "      <th>도로명주소</th>\n",
              "      <th>구우편번호</th>\n",
              "      <th>신우편번호</th>\n",
              "      <th>동정보</th>\n",
              "      <th>층정보</th>\n",
              "      <th>호정보</th>\n",
              "      <th>경도</th>\n",
              "      <th>위도</th>\n",
              "    </tr>\n",
              "  </thead>\n",
              "  <tbody>\n",
              "    <tr>\n",
              "      <th>0</th>\n",
              "      <td>MA0101202210A0072343</td>\n",
              "      <td>선해횟집</td>\n",
              "      <td>NaN</td>\n",
              "      <td>I2</td>\n",
              "      <td>음식</td>\n",
              "      <td>I201</td>\n",
              "      <td>한식</td>\n",
              "      <td>I20111</td>\n",
              "      <td>횟집</td>\n",
              "      <td>I56111</td>\n",
              "      <td>...</td>\n",
              "      <td>2641011100100300027023409</td>\n",
              "      <td>NaN</td>\n",
              "      <td>부산광역시 금정구 사천로3번길 2</td>\n",
              "      <td>609808</td>\n",
              "      <td>46264</td>\n",
              "      <td>NaN</td>\n",
              "      <td>1</td>\n",
              "      <td>NaN</td>\n",
              "      <td>129.113321</td>\n",
              "      <td>35.223363</td>\n",
              "    </tr>\n",
              "    <tr>\n",
              "      <th>1</th>\n",
              "      <td>MA010120220805430802</td>\n",
              "      <td>미즈노</td>\n",
              "      <td>NaN</td>\n",
              "      <td>G2</td>\n",
              "      <td>소매</td>\n",
              "      <td>G209</td>\n",
              "      <td>섬유·의복·신발 소매</td>\n",
              "      <td>G20905</td>\n",
              "      <td>기타 의류 소매업</td>\n",
              "      <td>G47419</td>\n",
              "      <td>...</td>\n",
              "      <td>2635010500114960000000001</td>\n",
              "      <td>롯데백화점센텀시티점</td>\n",
              "      <td>부산광역시 해운대구 센텀남대로 59</td>\n",
              "      <td>612022</td>\n",
              "      <td>48058</td>\n",
              "      <td>NaN</td>\n",
              "      <td>5</td>\n",
              "      <td>NaN</td>\n",
              "      <td>129.131099</td>\n",
              "      <td>35.169873</td>\n",
              "    </tr>\n",
              "    <tr>\n",
              "      <th>2</th>\n",
              "      <td>MA010120220805430814</td>\n",
              "      <td>리스트</td>\n",
              "      <td>NaN</td>\n",
              "      <td>G2</td>\n",
              "      <td>소매</td>\n",
              "      <td>G209</td>\n",
              "      <td>섬유·의복·신발 소매</td>\n",
              "      <td>G20902</td>\n",
              "      <td>여성 의류 소매업</td>\n",
              "      <td>G47412</td>\n",
              "      <td>...</td>\n",
              "      <td>2644010400134380000000001</td>\n",
              "      <td>스타필드시티명지점</td>\n",
              "      <td>부산광역시 강서구 명지국제6로 168</td>\n",
              "      <td>618200</td>\n",
              "      <td>46772</td>\n",
              "      <td>NaN</td>\n",
              "      <td>2</td>\n",
              "      <td>NaN</td>\n",
              "      <td>128.918174</td>\n",
              "      <td>35.093125</td>\n",
              "    </tr>\n",
              "    <tr>\n",
              "      <th>3</th>\n",
              "      <td>MA010120220805430900</td>\n",
              "      <td>눈썹그리기교실동안눈썹</td>\n",
              "      <td>NaN</td>\n",
              "      <td>S2</td>\n",
              "      <td>수리·개인</td>\n",
              "      <td>S207</td>\n",
              "      <td>이용·미용</td>\n",
              "      <td>S20702</td>\n",
              "      <td>피부 관리실</td>\n",
              "      <td>S96113</td>\n",
              "      <td>...</td>\n",
              "      <td>2632010200122720005015331</td>\n",
              "      <td>현호타워</td>\n",
              "      <td>부산광역시 북구 화명대로 31</td>\n",
              "      <td>616852</td>\n",
              "      <td>46525</td>\n",
              "      <td>NaN</td>\n",
              "      <td>NaN</td>\n",
              "      <td>NaN</td>\n",
              "      <td>129.011641</td>\n",
              "      <td>35.235217</td>\n",
              "    </tr>\n",
              "    <tr>\n",
              "      <th>4</th>\n",
              "      <td>MA010120220805430935</td>\n",
              "      <td>카페051남포역점</td>\n",
              "      <td>NaN</td>\n",
              "      <td>I2</td>\n",
              "      <td>음식</td>\n",
              "      <td>I212</td>\n",
              "      <td>비알코올</td>\n",
              "      <td>I21201</td>\n",
              "      <td>카페</td>\n",
              "      <td>I56221</td>\n",
              "      <td>...</td>\n",
              "      <td>2611013700100010005007067</td>\n",
              "      <td>NaN</td>\n",
              "      <td>부산광역시 중구 남포길 47</td>\n",
              "      <td>600042</td>\n",
              "      <td>48954</td>\n",
              "      <td>NaN</td>\n",
              "      <td>1</td>\n",
              "      <td>NaN</td>\n",
              "      <td>129.033875</td>\n",
              "      <td>35.098035</td>\n",
              "    </tr>\n",
              "  </tbody>\n",
              "</table>\n",
              "<p>5 rows × 39 columns</p>\n",
              "</div>\n",
              "    <div class=\"colab-df-buttons\">\n",
              "\n",
              "  <div class=\"colab-df-container\">\n",
              "    <button class=\"colab-df-convert\" onclick=\"convertToInteractive('df-63cbe541-d7d5-483f-ae44-5924eaff27ff')\"\n",
              "            title=\"Convert this dataframe to an interactive table.\"\n",
              "            style=\"display:none;\">\n",
              "\n",
              "  <svg xmlns=\"http://www.w3.org/2000/svg\" height=\"24px\" viewBox=\"0 -960 960 960\">\n",
              "    <path d=\"M120-120v-720h720v720H120Zm60-500h600v-160H180v160Zm220 220h160v-160H400v160Zm0 220h160v-160H400v160ZM180-400h160v-160H180v160Zm440 0h160v-160H620v160ZM180-180h160v-160H180v160Zm440 0h160v-160H620v160Z\"/>\n",
              "  </svg>\n",
              "    </button>\n",
              "\n",
              "  <style>\n",
              "    .colab-df-container {\n",
              "      display:flex;\n",
              "      gap: 12px;\n",
              "    }\n",
              "\n",
              "    .colab-df-convert {\n",
              "      background-color: #E8F0FE;\n",
              "      border: none;\n",
              "      border-radius: 50%;\n",
              "      cursor: pointer;\n",
              "      display: none;\n",
              "      fill: #1967D2;\n",
              "      height: 32px;\n",
              "      padding: 0 0 0 0;\n",
              "      width: 32px;\n",
              "    }\n",
              "\n",
              "    .colab-df-convert:hover {\n",
              "      background-color: #E2EBFA;\n",
              "      box-shadow: 0px 1px 2px rgba(60, 64, 67, 0.3), 0px 1px 3px 1px rgba(60, 64, 67, 0.15);\n",
              "      fill: #174EA6;\n",
              "    }\n",
              "\n",
              "    .colab-df-buttons div {\n",
              "      margin-bottom: 4px;\n",
              "    }\n",
              "\n",
              "    [theme=dark] .colab-df-convert {\n",
              "      background-color: #3B4455;\n",
              "      fill: #D2E3FC;\n",
              "    }\n",
              "\n",
              "    [theme=dark] .colab-df-convert:hover {\n",
              "      background-color: #434B5C;\n",
              "      box-shadow: 0px 1px 3px 1px rgba(0, 0, 0, 0.15);\n",
              "      filter: drop-shadow(0px 1px 2px rgba(0, 0, 0, 0.3));\n",
              "      fill: #FFFFFF;\n",
              "    }\n",
              "  </style>\n",
              "\n",
              "    <script>\n",
              "      const buttonEl =\n",
              "        document.querySelector('#df-63cbe541-d7d5-483f-ae44-5924eaff27ff button.colab-df-convert');\n",
              "      buttonEl.style.display =\n",
              "        google.colab.kernel.accessAllowed ? 'block' : 'none';\n",
              "\n",
              "      async function convertToInteractive(key) {\n",
              "        const element = document.querySelector('#df-63cbe541-d7d5-483f-ae44-5924eaff27ff');\n",
              "        const dataTable =\n",
              "          await google.colab.kernel.invokeFunction('convertToInteractive',\n",
              "                                                    [key], {});\n",
              "        if (!dataTable) return;\n",
              "\n",
              "        const docLinkHtml = 'Like what you see? Visit the ' +\n",
              "          '<a target=\"_blank\" href=https://colab.research.google.com/notebooks/data_table.ipynb>data table notebook</a>'\n",
              "          + ' to learn more about interactive tables.';\n",
              "        element.innerHTML = '';\n",
              "        dataTable['output_type'] = 'display_data';\n",
              "        await google.colab.output.renderOutput(dataTable, element);\n",
              "        const docLink = document.createElement('div');\n",
              "        docLink.innerHTML = docLinkHtml;\n",
              "        element.appendChild(docLink);\n",
              "      }\n",
              "    </script>\n",
              "  </div>\n",
              "\n",
              "\n",
              "<div id=\"df-1c9f2ab3-1e43-42a1-8919-fdd94dc73a64\">\n",
              "  <button class=\"colab-df-quickchart\" onclick=\"quickchart('df-1c9f2ab3-1e43-42a1-8919-fdd94dc73a64')\"\n",
              "            title=\"Suggest charts.\"\n",
              "            style=\"display:none;\">\n",
              "\n",
              "<svg xmlns=\"http://www.w3.org/2000/svg\" height=\"24px\"viewBox=\"0 0 24 24\"\n",
              "     width=\"24px\">\n",
              "    <g>\n",
              "        <path d=\"M19 3H5c-1.1 0-2 .9-2 2v14c0 1.1.9 2 2 2h14c1.1 0 2-.9 2-2V5c0-1.1-.9-2-2-2zM9 17H7v-7h2v7zm4 0h-2V7h2v10zm4 0h-2v-4h2v4z\"/>\n",
              "    </g>\n",
              "</svg>\n",
              "  </button>\n",
              "\n",
              "<style>\n",
              "  .colab-df-quickchart {\n",
              "      --bg-color: #E8F0FE;\n",
              "      --fill-color: #1967D2;\n",
              "      --hover-bg-color: #E2EBFA;\n",
              "      --hover-fill-color: #174EA6;\n",
              "      --disabled-fill-color: #AAA;\n",
              "      --disabled-bg-color: #DDD;\n",
              "  }\n",
              "\n",
              "  [theme=dark] .colab-df-quickchart {\n",
              "      --bg-color: #3B4455;\n",
              "      --fill-color: #D2E3FC;\n",
              "      --hover-bg-color: #434B5C;\n",
              "      --hover-fill-color: #FFFFFF;\n",
              "      --disabled-bg-color: #3B4455;\n",
              "      --disabled-fill-color: #666;\n",
              "  }\n",
              "\n",
              "  .colab-df-quickchart {\n",
              "    background-color: var(--bg-color);\n",
              "    border: none;\n",
              "    border-radius: 50%;\n",
              "    cursor: pointer;\n",
              "    display: none;\n",
              "    fill: var(--fill-color);\n",
              "    height: 32px;\n",
              "    padding: 0;\n",
              "    width: 32px;\n",
              "  }\n",
              "\n",
              "  .colab-df-quickchart:hover {\n",
              "    background-color: var(--hover-bg-color);\n",
              "    box-shadow: 0 1px 2px rgba(60, 64, 67, 0.3), 0 1px 3px 1px rgba(60, 64, 67, 0.15);\n",
              "    fill: var(--button-hover-fill-color);\n",
              "  }\n",
              "\n",
              "  .colab-df-quickchart-complete:disabled,\n",
              "  .colab-df-quickchart-complete:disabled:hover {\n",
              "    background-color: var(--disabled-bg-color);\n",
              "    fill: var(--disabled-fill-color);\n",
              "    box-shadow: none;\n",
              "  }\n",
              "\n",
              "  .colab-df-spinner {\n",
              "    border: 2px solid var(--fill-color);\n",
              "    border-color: transparent;\n",
              "    border-bottom-color: var(--fill-color);\n",
              "    animation:\n",
              "      spin 1s steps(1) infinite;\n",
              "  }\n",
              "\n",
              "  @keyframes spin {\n",
              "    0% {\n",
              "      border-color: transparent;\n",
              "      border-bottom-color: var(--fill-color);\n",
              "      border-left-color: var(--fill-color);\n",
              "    }\n",
              "    20% {\n",
              "      border-color: transparent;\n",
              "      border-left-color: var(--fill-color);\n",
              "      border-top-color: var(--fill-color);\n",
              "    }\n",
              "    30% {\n",
              "      border-color: transparent;\n",
              "      border-left-color: var(--fill-color);\n",
              "      border-top-color: var(--fill-color);\n",
              "      border-right-color: var(--fill-color);\n",
              "    }\n",
              "    40% {\n",
              "      border-color: transparent;\n",
              "      border-right-color: var(--fill-color);\n",
              "      border-top-color: var(--fill-color);\n",
              "    }\n",
              "    60% {\n",
              "      border-color: transparent;\n",
              "      border-right-color: var(--fill-color);\n",
              "    }\n",
              "    80% {\n",
              "      border-color: transparent;\n",
              "      border-right-color: var(--fill-color);\n",
              "      border-bottom-color: var(--fill-color);\n",
              "    }\n",
              "    90% {\n",
              "      border-color: transparent;\n",
              "      border-bottom-color: var(--fill-color);\n",
              "    }\n",
              "  }\n",
              "</style>\n",
              "\n",
              "  <script>\n",
              "    async function quickchart(key) {\n",
              "      const quickchartButtonEl =\n",
              "        document.querySelector('#' + key + ' button');\n",
              "      quickchartButtonEl.disabled = true;  // To prevent multiple clicks.\n",
              "      quickchartButtonEl.classList.add('colab-df-spinner');\n",
              "      try {\n",
              "        const charts = await google.colab.kernel.invokeFunction(\n",
              "            'suggestCharts', [key], {});\n",
              "      } catch (error) {\n",
              "        console.error('Error during call to suggestCharts:', error);\n",
              "      }\n",
              "      quickchartButtonEl.classList.remove('colab-df-spinner');\n",
              "      quickchartButtonEl.classList.add('colab-df-quickchart-complete');\n",
              "    }\n",
              "    (() => {\n",
              "      let quickchartButtonEl =\n",
              "        document.querySelector('#df-1c9f2ab3-1e43-42a1-8919-fdd94dc73a64 button');\n",
              "      quickchartButtonEl.style.display =\n",
              "        google.colab.kernel.accessAllowed ? 'block' : 'none';\n",
              "    })();\n",
              "  </script>\n",
              "</div>\n",
              "    </div>\n",
              "  </div>\n"
            ]
          },
          "metadata": {},
          "execution_count": 6
        }
      ]
    },
    {
      "cell_type": "code",
      "source": [
        "df.info()"
      ],
      "metadata": {
        "colab": {
          "base_uri": "https://localhost:8080/"
        },
        "id": "AHQR4vjN22jC",
        "outputId": "ff84d145-f02a-4f31-a365-488b927ea8f4"
      },
      "execution_count": 7,
      "outputs": [
        {
          "output_type": "stream",
          "name": "stdout",
          "text": [
            "<class 'pandas.core.frame.DataFrame'>\n",
            "RangeIndex: 153531 entries, 0 to 153530\n",
            "Data columns (total 39 columns):\n",
            " #   Column     Non-Null Count   Dtype  \n",
            "---  ------     --------------   -----  \n",
            " 0   상가업소번호     153531 non-null  object \n",
            " 1   상호명        153530 non-null  object \n",
            " 2   지점명        1893 non-null    object \n",
            " 3   상권업종대분류코드  153531 non-null  object \n",
            " 4   상권업종대분류명   153531 non-null  object \n",
            " 5   상권업종중분류코드  153531 non-null  object \n",
            " 6   상권업종중분류명   153531 non-null  object \n",
            " 7   상권업종소분류코드  153531 non-null  object \n",
            " 8   상권업종소분류명   153531 non-null  object \n",
            " 9   표준산업분류코드   153509 non-null  object \n",
            " 10  표준산업분류명    153509 non-null  object \n",
            " 11  시도코드       153531 non-null  int64  \n",
            " 12  시도명        153531 non-null  object \n",
            " 13  시군구코드      153531 non-null  int64  \n",
            " 14  시군구명       153531 non-null  object \n",
            " 15  행정동코드      153531 non-null  int64  \n",
            " 16  행정동명       153531 non-null  object \n",
            " 17  법정동코드      153531 non-null  int64  \n",
            " 18  법정동명       153531 non-null  object \n",
            " 19  지번코드       153531 non-null  int64  \n",
            " 20  대지구분코드     153531 non-null  int64  \n",
            " 21  대지구분명      153531 non-null  object \n",
            " 22  지번본번지      153530 non-null  float64\n",
            " 23  지번부번지      136195 non-null  float64\n",
            " 24  지번주소       153531 non-null  object \n",
            " 25  도로명코드      153531 non-null  int64  \n",
            " 26  도로명        153531 non-null  object \n",
            " 27  건물본번지      153531 non-null  int64  \n",
            " 28  건물부번지      24389 non-null   float64\n",
            " 29  건물관리번호     153528 non-null  object \n",
            " 30  건물명        51985 non-null   object \n",
            " 31  도로명주소      153531 non-null  object \n",
            " 32  구우편번호      153531 non-null  int64  \n",
            " 33  신우편번호      153531 non-null  int64  \n",
            " 34  동정보        0 non-null       float64\n",
            " 35  층정보        80366 non-null   object \n",
            " 36  호정보        0 non-null       float64\n",
            " 37  경도         153531 non-null  float64\n",
            " 38  위도         153531 non-null  float64\n",
            "dtypes: float64(7), int64(10), object(22)\n",
            "memory usage: 45.7+ MB\n"
          ]
        }
      ]
    },
    {
      "cell_type": "code",
      "source": [
        "n = df.isnull().sum()\n",
        "n"
      ],
      "metadata": {
        "colab": {
          "base_uri": "https://localhost:8080/"
        },
        "id": "S7FY8b4b3A2U",
        "outputId": "5296991d-f67e-4f79-ff91-a42659a0d277"
      },
      "execution_count": 11,
      "outputs": [
        {
          "output_type": "execute_result",
          "data": {
            "text/plain": [
              "상가업소번호            0\n",
              "상호명               1\n",
              "지점명          151638\n",
              "상권업종대분류코드         0\n",
              "상권업종대분류명          0\n",
              "상권업종중분류코드         0\n",
              "상권업종중분류명          0\n",
              "상권업종소분류코드         0\n",
              "상권업종소분류명          0\n",
              "표준산업분류코드         22\n",
              "표준산업분류명          22\n",
              "시도코드              0\n",
              "시도명               0\n",
              "시군구코드             0\n",
              "시군구명              0\n",
              "행정동코드             0\n",
              "행정동명              0\n",
              "법정동코드             0\n",
              "법정동명              0\n",
              "지번코드              0\n",
              "대지구분코드            0\n",
              "대지구분명             0\n",
              "지번본번지             1\n",
              "지번부번지         17336\n",
              "지번주소              0\n",
              "도로명코드             0\n",
              "도로명               0\n",
              "건물본번지             0\n",
              "건물부번지        129142\n",
              "건물관리번호            3\n",
              "건물명          101546\n",
              "도로명주소             0\n",
              "구우편번호             0\n",
              "신우편번호             0\n",
              "동정보          153531\n",
              "층정보           73165\n",
              "호정보          153531\n",
              "경도                0\n",
              "위도                0\n",
              "dtype: int64"
            ]
          },
          "metadata": {},
          "execution_count": 11
        }
      ]
    },
    {
      "cell_type": "code",
      "source": [
        "n.plot(kind=\"bar\").bar() # NA가 너무 많을 때는 해당 컬럼을 날리기"
      ],
      "metadata": {
        "colab": {
          "base_uri": "https://localhost:8080/",
          "height": 831
        },
        "id": "TVTixL6B2-6j",
        "outputId": "c6cfaa89-1141-424b-fa03-0ce6d85c2de4"
      },
      "execution_count": 13,
      "outputs": [
        {
          "output_type": "error",
          "ename": "TypeError",
          "evalue": "ignored",
          "traceback": [
            "\u001b[0;31m---------------------------------------------------------------------------\u001b[0m",
            "\u001b[0;31mTypeError\u001b[0m                                 Traceback (most recent call last)",
            "\u001b[0;32m<ipython-input-13-0c21cdee86c3>\u001b[0m in \u001b[0;36m<cell line: 1>\u001b[0;34m()\u001b[0m\n\u001b[0;32m----> 1\u001b[0;31m \u001b[0mn\u001b[0m\u001b[0;34m.\u001b[0m\u001b[0mplot\u001b[0m\u001b[0;34m(\u001b[0m\u001b[0mkind\u001b[0m\u001b[0;34m=\u001b[0m\u001b[0;34m\"bar\"\u001b[0m\u001b[0;34m)\u001b[0m\u001b[0;34m.\u001b[0m\u001b[0mbar\u001b[0m\u001b[0;34m(\u001b[0m\u001b[0;34m)\u001b[0m\u001b[0;34m\u001b[0m\u001b[0;34m\u001b[0m\u001b[0m\n\u001b[0m",
            "\u001b[0;32m/usr/local/lib/python3.10/dist-packages/matplotlib/__init__.py\u001b[0m in \u001b[0;36minner\u001b[0;34m(ax, data, *args, **kwargs)\u001b[0m\n\u001b[1;32m   1440\u001b[0m     \u001b[0;32mdef\u001b[0m \u001b[0minner\u001b[0m\u001b[0;34m(\u001b[0m\u001b[0max\u001b[0m\u001b[0;34m,\u001b[0m \u001b[0;34m*\u001b[0m\u001b[0margs\u001b[0m\u001b[0;34m,\u001b[0m \u001b[0mdata\u001b[0m\u001b[0;34m=\u001b[0m\u001b[0;32mNone\u001b[0m\u001b[0;34m,\u001b[0m \u001b[0;34m**\u001b[0m\u001b[0mkwargs\u001b[0m\u001b[0;34m)\u001b[0m\u001b[0;34m:\u001b[0m\u001b[0;34m\u001b[0m\u001b[0;34m\u001b[0m\u001b[0m\n\u001b[1;32m   1441\u001b[0m         \u001b[0;32mif\u001b[0m \u001b[0mdata\u001b[0m \u001b[0;32mis\u001b[0m \u001b[0;32mNone\u001b[0m\u001b[0;34m:\u001b[0m\u001b[0;34m\u001b[0m\u001b[0;34m\u001b[0m\u001b[0m\n\u001b[0;32m-> 1442\u001b[0;31m             \u001b[0;32mreturn\u001b[0m \u001b[0mfunc\u001b[0m\u001b[0;34m(\u001b[0m\u001b[0max\u001b[0m\u001b[0;34m,\u001b[0m \u001b[0;34m*\u001b[0m\u001b[0mmap\u001b[0m\u001b[0;34m(\u001b[0m\u001b[0msanitize_sequence\u001b[0m\u001b[0;34m,\u001b[0m \u001b[0margs\u001b[0m\u001b[0;34m)\u001b[0m\u001b[0;34m,\u001b[0m \u001b[0;34m**\u001b[0m\u001b[0mkwargs\u001b[0m\u001b[0;34m)\u001b[0m\u001b[0;34m\u001b[0m\u001b[0;34m\u001b[0m\u001b[0m\n\u001b[0m\u001b[1;32m   1443\u001b[0m \u001b[0;34m\u001b[0m\u001b[0m\n\u001b[1;32m   1444\u001b[0m         \u001b[0mbound\u001b[0m \u001b[0;34m=\u001b[0m \u001b[0mnew_sig\u001b[0m\u001b[0;34m.\u001b[0m\u001b[0mbind\u001b[0m\u001b[0;34m(\u001b[0m\u001b[0max\u001b[0m\u001b[0;34m,\u001b[0m \u001b[0;34m*\u001b[0m\u001b[0margs\u001b[0m\u001b[0;34m,\u001b[0m \u001b[0;34m**\u001b[0m\u001b[0mkwargs\u001b[0m\u001b[0;34m)\u001b[0m\u001b[0;34m\u001b[0m\u001b[0;34m\u001b[0m\u001b[0m\n",
            "\u001b[0;31mTypeError\u001b[0m: Axes.bar() missing 2 required positional arguments: 'x' and 'height'"
          ]
        },
        {
          "output_type": "display_data",
          "data": {
            "text/plain": [
              "<Figure size 640x480 with 1 Axes>"
            ],
            "image/png": "[encoded data removed]"
          },
          "metadata": {}
        }
      ]
    },
    {
      "cell_type": "code",
      "source": [
        "not_use = n.sort_values(ascending=False).head(9)\n",
        "not_use"
      ],
      "metadata": {
        "colab": {
          "base_uri": "https://localhost:8080/"
        },
        "id": "fuSaIide3UAk",
        "outputId": "a2622cf7-222a-4020-d45e-1be5a570edc7"
      },
      "execution_count": 19,
      "outputs": [
        {
          "output_type": "execute_result",
          "data": {
            "text/plain": [
              "호정보         153531\n",
              "동정보         153531\n",
              "지점명         151638\n",
              "건물부번지       129142\n",
              "건물명         101546\n",
              "층정보          73165\n",
              "지번부번지        17336\n",
              "표준산업분류코드        22\n",
              "표준산업분류명         22\n",
              "dtype: int64"
            ]
          },
          "metadata": {},
          "execution_count": 19
        }
      ]
    },
    {
      "cell_type": "code",
      "source": [
        "not_use_col = not_use.index\n",
        "not_use_col"
      ],
      "metadata": {
        "colab": {
          "base_uri": "https://localhost:8080/"
        },
        "id": "bYpVDZaB4gop",
        "outputId": "ff6a9427-9b49-455d-c3b8-912198822856"
      },
      "execution_count": 20,
      "outputs": [
        {
          "output_type": "execute_result",
          "data": {
            "text/plain": [
              "Index(['호정보', '동정보', '지점명', '건물부번지', '건물명', '층정보', '지번부번지', '표준산업분류코드',\n",
              "       '표준산업분류명'],\n",
              "      dtype='object')"
            ]
          },
          "metadata": {},
          "execution_count": 20
        }
      ]
    },
    {
      "cell_type": "code",
      "source": [
        "# df = df.drop(not_use_col, axis=1)\n",
        "df.info()"
      ],
      "metadata": {
        "colab": {
          "base_uri": "https://localhost:8080/"
        },
        "id": "XLjQyQnf4zoJ",
        "outputId": "f20623bd-fcac-4760-a281-f05f2d73c72d"
      },
      "execution_count": 23,
      "outputs": [
        {
          "output_type": "stream",
          "name": "stdout",
          "text": [
            "<class 'pandas.core.frame.DataFrame'>\n",
            "RangeIndex: 153531 entries, 0 to 153530\n",
            "Data columns (total 30 columns):\n",
            " #   Column     Non-Null Count   Dtype  \n",
            "---  ------     --------------   -----  \n",
            " 0   상가업소번호     153531 non-null  object \n",
            " 1   상호명        153530 non-null  object \n",
            " 2   상권업종대분류코드  153531 non-null  object \n",
            " 3   상권업종대분류명   153531 non-null  object \n",
            " 4   상권업종중분류코드  153531 non-null  object \n",
            " 5   상권업종중분류명   153531 non-null  object \n",
            " 6   상권업종소분류코드  153531 non-null  object \n",
            " 7   상권업종소분류명   153531 non-null  object \n",
            " 8   시도코드       153531 non-null  int64  \n",
            " 9   시도명        153531 non-null  object \n",
            " 10  시군구코드      153531 non-null  int64  \n",
            " 11  시군구명       153531 non-null  object \n",
            " 12  행정동코드      153531 non-null  int64  \n",
            " 13  행정동명       153531 non-null  object \n",
            " 14  법정동코드      153531 non-null  int64  \n",
            " 15  법정동명       153531 non-null  object \n",
            " 16  지번코드       153531 non-null  int64  \n",
            " 17  대지구분코드     153531 non-null  int64  \n",
            " 18  대지구분명      153531 non-null  object \n",
            " 19  지번본번지      153530 non-null  float64\n",
            " 20  지번주소       153531 non-null  object \n",
            " 21  도로명코드      153531 non-null  int64  \n",
            " 22  도로명        153531 non-null  object \n",
            " 23  건물본번지      153531 non-null  int64  \n",
            " 24  건물관리번호     153528 non-null  object \n",
            " 25  도로명주소      153531 non-null  object \n",
            " 26  구우편번호      153531 non-null  int64  \n",
            " 27  신우편번호      153531 non-null  int64  \n",
            " 28  경도         153531 non-null  float64\n",
            " 29  위도         153531 non-null  float64\n",
            "dtypes: float64(3), int64(10), object(17)\n",
            "memory usage: 35.1+ MB\n"
          ]
        }
      ]
    },
    {
      "cell_type": "code",
      "source": [
        "df.isnull().sum()"
      ],
      "metadata": {
        "colab": {
          "base_uri": "https://localhost:8080/"
        },
        "id": "0mE9-Tfr5IYb",
        "outputId": "4e000aa4-a8ca-488b-f99a-6305779e8abc"
      },
      "execution_count": 26,
      "outputs": [
        {
          "output_type": "execute_result",
          "data": {
            "text/plain": [
              "상가업소번호       0\n",
              "상호명          1\n",
              "상권업종대분류코드    0\n",
              "상권업종대분류명     0\n",
              "상권업종중분류코드    0\n",
              "상권업종중분류명     0\n",
              "상권업종소분류코드    0\n",
              "상권업종소분류명     0\n",
              "시도코드         0\n",
              "시도명          0\n",
              "시군구코드        0\n",
              "시군구명         0\n",
              "행정동코드        0\n",
              "행정동명         0\n",
              "법정동코드        0\n",
              "법정동명         0\n",
              "지번코드         0\n",
              "대지구분코드       0\n",
              "대지구분명        0\n",
              "지번본번지        1\n",
              "지번주소         0\n",
              "도로명코드        0\n",
              "도로명          0\n",
              "건물본번지        0\n",
              "건물관리번호       3\n",
              "도로명주소        0\n",
              "구우편번호        0\n",
              "신우편번호        0\n",
              "경도           0\n",
              "위도           0\n",
              "dtype: int64"
            ]
          },
          "metadata": {},
          "execution_count": 26
        }
      ]
    },
    {
      "cell_type": "code",
      "source": [
        "cols = df.columns\n",
        "not_use_code = cols[cols.str.contains(\"코드|번호\")]\n",
        "not_use_code"
      ],
      "metadata": {
        "colab": {
          "base_uri": "https://localhost:8080/"
        },
        "id": "sd4elBE_5ZBx",
        "outputId": "06d73491-ac58-4279-f9ad-7e33e181231b"
      },
      "execution_count": 32,
      "outputs": [
        {
          "output_type": "execute_result",
          "data": {
            "text/plain": [
              "Index(['상가업소번호', '상권업종대분류코드', '상권업종중분류코드', '상권업종소분류코드', '시도코드', '시군구코드',\n",
              "       '행정동코드', '법정동코드', '지번코드', '대지구분코드', '도로명코드', '건물관리번호', '구우편번호',\n",
              "       '신우편번호'],\n",
              "      dtype='object')"
            ]
          },
          "metadata": {},
          "execution_count": 32
        }
      ]
    },
    {
      "cell_type": "code",
      "source": [
        "df = df.drop(not_use_code, axis=1)\n",
        "df.info()"
      ],
      "metadata": {
        "colab": {
          "base_uri": "https://localhost:8080/"
        },
        "id": "lalN1tEz6MRU",
        "outputId": "818d6f0e-cb76-456e-8525-40224fd65c4f"
      },
      "execution_count": 33,
      "outputs": [
        {
          "output_type": "stream",
          "name": "stdout",
          "text": [
            "<class 'pandas.core.frame.DataFrame'>\n",
            "RangeIndex: 153531 entries, 0 to 153530\n",
            "Data columns (total 16 columns):\n",
            " #   Column    Non-Null Count   Dtype  \n",
            "---  ------    --------------   -----  \n",
            " 0   상호명       153530 non-null  object \n",
            " 1   상권업종대분류명  153531 non-null  object \n",
            " 2   상권업종중분류명  153531 non-null  object \n",
            " 3   상권업종소분류명  153531 non-null  object \n",
            " 4   시도명       153531 non-null  object \n",
            " 5   시군구명      153531 non-null  object \n",
            " 6   행정동명      153531 non-null  object \n",
            " 7   법정동명      153531 non-null  object \n",
            " 8   대지구분명     153531 non-null  object \n",
            " 9   지번본번지     153530 non-null  float64\n",
            " 10  지번주소      153531 non-null  object \n",
            " 11  도로명       153531 non-null  object \n",
            " 12  건물본번지     153531 non-null  int64  \n",
            " 13  도로명주소     153531 non-null  object \n",
            " 14  경도        153531 non-null  float64\n",
            " 15  위도        153531 non-null  float64\n",
            "dtypes: float64(3), int64(1), object(12)\n",
            "memory usage: 18.7+ MB\n"
          ]
        }
      ]
    }
  ]
}