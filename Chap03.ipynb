{
  "nbformat": 4,
  "nbformat_minor": 0,
  "metadata": {
    "colab": {
      "provenance": [],
      "authorship_tag": "ABX9TyN2vXDKPK2i3z9hOYz65vlI",
      "include_colab_link": true
    },
    "kernelspec": {
      "name": "python3",
      "display_name": "Python 3"
    },
    "language_info": {
      "name": "python"
    }
  },
  "cells": [
    {
      "cell_type": "markdown",
      "metadata": {
        "id": "view-in-github",
        "colab_type": "text"
      },
      "source": [
        "<a href=\"https://colab.research.google.com/github/housekjh1/study-pandas/blob/main/Chap03.ipynb\" target=\"_parent\"><img src=\"https://colab.research.google.com/assets/colab-badge.svg\" alt=\"Open In Colab\"/></a>"
      ]
    },
    {
      "cell_type": "markdown",
      "source": [
        "## 3.1 read_csv 함수로 데이터셋 가져오기"
      ],
      "metadata": {
        "id": "W7kjLQ5fcw-e"
      }
    },
    {
      "cell_type": "code",
      "source": [
        "import pandas as pd"
      ],
      "metadata": {
        "id": "hMjbApgRdv5v"
      },
      "execution_count": 1,
      "outputs": []
    },
    {
      "cell_type": "markdown",
      "source": [
        "read_csv 함수 : csv 파일을 읽어 DataFrame으로 반환\n",
        "---\n",
        "포켓몬 데이터셋"
      ],
      "metadata": {
        "id": "BYzhJ0PAd0BR"
      }
    },
    {
      "cell_type": "code",
      "source": [
        "#pd.read_csv(filepath_or_buffer=\"pokemon.csv\")\n",
        "pd.read_csv(\"pokemon.csv\")"
      ],
      "metadata": {
        "colab": {
          "base_uri": "https://localhost:8080/",
          "height": 424
        },
        "id": "cagHXunfd8h7",
        "outputId": "bed8f608-490e-4785-a9e2-508ef44f9a22"
      },
      "execution_count": 2,
      "outputs": [
        {
          "output_type": "execute_result",
          "data": {
            "text/plain": [
              "         Pokemon            Type\n",
              "0      Bulbasaur  Grass / Poison\n",
              "1        Ivysaur  Grass / Poison\n",
              "2       Venusaur  Grass / Poison\n",
              "3     Charmander            Fire\n",
              "4     Charmeleon            Fire\n",
              "..           ...             ...\n",
              "804    Stakataka    Rock / Steel\n",
              "805  Blacephalon    Fire / Ghost\n",
              "806      Zeraora        Electric\n",
              "807       Meltan           Steel\n",
              "808     Melmetal           Steel\n",
              "\n",
              "[809 rows x 2 columns]"
            ],
            "text/html": [
              "\n",
              "  <div id=\"df-f3ba8dcf-ed8e-4051-9a09-59a1b3805ef4\" class=\"colab-df-container\">\n",
              "    <div>\n",
              "<style scoped>\n",
              "    .dataframe tbody tr th:only-of-type {\n",
              "        vertical-align: middle;\n",
              "    }\n",
              "\n",
              "    .dataframe tbody tr th {\n",
              "        vertical-align: top;\n",
              "    }\n",
              "\n",
              "    .dataframe thead th {\n",
              "        text-align: right;\n",
              "    }\n",
              "</style>\n",
              "<table border=\"1\" class=\"dataframe\">\n",
              "  <thead>\n",
              "    <tr style=\"text-align: right;\">\n",
              "      <th></th>\n",
              "      <th>Pokemon</th>\n",
              "      <th>Type</th>\n",
              "    </tr>\n",
              "  </thead>\n",
              "  <tbody>\n",
              "    <tr>\n",
              "      <th>0</th>\n",
              "      <td>Bulbasaur</td>\n",
              "      <td>Grass / Poison</td>\n",
              "    </tr>\n",
              "    <tr>\n",
              "      <th>1</th>\n",
              "      <td>Ivysaur</td>\n",
              "      <td>Grass / Poison</td>\n",
              "    </tr>\n",
              "    <tr>\n",
              "      <th>2</th>\n",
              "      <td>Venusaur</td>\n",
              "      <td>Grass / Poison</td>\n",
              "    </tr>\n",
              "    <tr>\n",
              "      <th>3</th>\n",
              "      <td>Charmander</td>\n",
              "      <td>Fire</td>\n",
              "    </tr>\n",
              "    <tr>\n",
              "      <th>4</th>\n",
              "      <td>Charmeleon</td>\n",
              "      <td>Fire</td>\n",
              "    </tr>\n",
              "    <tr>\n",
              "      <th>...</th>\n",
              "      <td>...</td>\n",
              "      <td>...</td>\n",
              "    </tr>\n",
              "    <tr>\n",
              "      <th>804</th>\n",
              "      <td>Stakataka</td>\n",
              "      <td>Rock / Steel</td>\n",
              "    </tr>\n",
              "    <tr>\n",
              "      <th>805</th>\n",
              "      <td>Blacephalon</td>\n",
              "      <td>Fire / Ghost</td>\n",
              "    </tr>\n",
              "    <tr>\n",
              "      <th>806</th>\n",
              "      <td>Zeraora</td>\n",
              "      <td>Electric</td>\n",
              "    </tr>\n",
              "    <tr>\n",
              "      <th>807</th>\n",
              "      <td>Meltan</td>\n",
              "      <td>Steel</td>\n",
              "    </tr>\n",
              "    <tr>\n",
              "      <th>808</th>\n",
              "      <td>Melmetal</td>\n",
              "      <td>Steel</td>\n",
              "    </tr>\n",
              "  </tbody>\n",
              "</table>\n",
              "<p>809 rows × 2 columns</p>\n",
              "</div>\n",
              "    <div class=\"colab-df-buttons\">\n",
              "\n",
              "  <div class=\"colab-df-container\">\n",
              "    <button class=\"colab-df-convert\" onclick=\"convertToInteractive('df-f3ba8dcf-ed8e-4051-9a09-59a1b3805ef4')\"\n",
              "            title=\"Convert this dataframe to an interactive table.\"\n",
              "            style=\"display:none;\">\n",
              "\n",
              "  <svg xmlns=\"http://www.w3.org/2000/svg\" height=\"24px\" viewBox=\"0 -960 960 960\">\n",
              "    <path d=\"M120-120v-720h720v720H120Zm60-500h600v-160H180v160Zm220 220h160v-160H400v160Zm0 220h160v-160H400v160ZM180-400h160v-160H180v160Zm440 0h160v-160H620v160ZM180-180h160v-160H180v160Zm440 0h160v-160H620v160Z\"/>\n",
              "  </svg>\n",
              "    </button>\n",
              "\n",
              "  <style>\n",
              "    .colab-df-container {\n",
              "      display:flex;\n",
              "      gap: 12px;\n",
              "    }\n",
              "\n",
              "    .colab-df-convert {\n",
              "      background-color: #E8F0FE;\n",
              "      border: none;\n",
              "      border-radius: 50%;\n",
              "      cursor: pointer;\n",
              "      display: none;\n",
              "      fill: #1967D2;\n",
              "      height: 32px;\n",
              "      padding: 0 0 0 0;\n",
              "      width: 32px;\n",
              "    }\n",
              "\n",
              "    .colab-df-convert:hover {\n",
              "      background-color: #E2EBFA;\n",
              "      box-shadow: 0px 1px 2px rgba(60, 64, 67, 0.3), 0px 1px 3px 1px rgba(60, 64, 67, 0.15);\n",
              "      fill: #174EA6;\n",
              "    }\n",
              "\n",
              "    .colab-df-buttons div {\n",
              "      margin-bottom: 4px;\n",
              "    }\n",
              "\n",
              "    [theme=dark] .colab-df-convert {\n",
              "      background-color: #3B4455;\n",
              "      fill: #D2E3FC;\n",
              "    }\n",
              "\n",
              "    [theme=dark] .colab-df-convert:hover {\n",
              "      background-color: #434B5C;\n",
              "      box-shadow: 0px 1px 3px 1px rgba(0, 0, 0, 0.15);\n",
              "      filter: drop-shadow(0px 1px 2px rgba(0, 0, 0, 0.3));\n",
              "      fill: #FFFFFF;\n",
              "    }\n",
              "  </style>\n",
              "\n",
              "    <script>\n",
              "      const buttonEl =\n",
              "        document.querySelector('#df-f3ba8dcf-ed8e-4051-9a09-59a1b3805ef4 button.colab-df-convert');\n",
              "      buttonEl.style.display =\n",
              "        google.colab.kernel.accessAllowed ? 'block' : 'none';\n",
              "\n",
              "      async function convertToInteractive(key) {\n",
              "        const element = document.querySelector('#df-f3ba8dcf-ed8e-4051-9a09-59a1b3805ef4');\n",
              "        const dataTable =\n",
              "          await google.colab.kernel.invokeFunction('convertToInteractive',\n",
              "                                                    [key], {});\n",
              "        if (!dataTable) return;\n",
              "\n",
              "        const docLinkHtml = 'Like what you see? Visit the ' +\n",
              "          '<a target=\"_blank\" href=https://colab.research.google.com/notebooks/data_table.ipynb>data table notebook</a>'\n",
              "          + ' to learn more about interactive tables.';\n",
              "        element.innerHTML = '';\n",
              "        dataTable['output_type'] = 'display_data';\n",
              "        await google.colab.output.renderOutput(dataTable, element);\n",
              "        const docLink = document.createElement('div');\n",
              "        docLink.innerHTML = docLinkHtml;\n",
              "        element.appendChild(docLink);\n",
              "      }\n",
              "    </script>\n",
              "  </div>\n",
              "\n",
              "\n",
              "<div id=\"df-f0adb065-a32f-42ca-af72-ea4eff0aa97c\">\n",
              "  <button class=\"colab-df-quickchart\" onclick=\"quickchart('df-f0adb065-a32f-42ca-af72-ea4eff0aa97c')\"\n",
              "            title=\"Suggest charts.\"\n",
              "            style=\"display:none;\">\n",
              "\n",
              "<svg xmlns=\"http://www.w3.org/2000/svg\" height=\"24px\"viewBox=\"0 0 24 24\"\n",
              "     width=\"24px\">\n",
              "    <g>\n",
              "        <path d=\"M19 3H5c-1.1 0-2 .9-2 2v14c0 1.1.9 2 2 2h14c1.1 0 2-.9 2-2V5c0-1.1-.9-2-2-2zM9 17H7v-7h2v7zm4 0h-2V7h2v10zm4 0h-2v-4h2v4z\"/>\n",
              "    </g>\n",
              "</svg>\n",
              "  </button>\n",
              "\n",
              "<style>\n",
              "  .colab-df-quickchart {\n",
              "      --bg-color: #E8F0FE;\n",
              "      --fill-color: #1967D2;\n",
              "      --hover-bg-color: #E2EBFA;\n",
              "      --hover-fill-color: #174EA6;\n",
              "      --disabled-fill-color: #AAA;\n",
              "      --disabled-bg-color: #DDD;\n",
              "  }\n",
              "\n",
              "  [theme=dark] .colab-df-quickchart {\n",
              "      --bg-color: #3B4455;\n",
              "      --fill-color: #D2E3FC;\n",
              "      --hover-bg-color: #434B5C;\n",
              "      --hover-fill-color: #FFFFFF;\n",
              "      --disabled-bg-color: #3B4455;\n",
              "      --disabled-fill-color: #666;\n",
              "  }\n",
              "\n",
              "  .colab-df-quickchart {\n",
              "    background-color: var(--bg-color);\n",
              "    border: none;\n",
              "    border-radius: 50%;\n",
              "    cursor: pointer;\n",
              "    display: none;\n",
              "    fill: var(--fill-color);\n",
              "    height: 32px;\n",
              "    padding: 0;\n",
              "    width: 32px;\n",
              "  }\n",
              "\n",
              "  .colab-df-quickchart:hover {\n",
              "    background-color: var(--hover-bg-color);\n",
              "    box-shadow: 0 1px 2px rgba(60, 64, 67, 0.3), 0 1px 3px 1px rgba(60, 64, 67, 0.15);\n",
              "    fill: var(--button-hover-fill-color);\n",
              "  }\n",
              "\n",
              "  .colab-df-quickchart-complete:disabled,\n",
              "  .colab-df-quickchart-complete:disabled:hover {\n",
              "    background-color: var(--disabled-bg-color);\n",
              "    fill: var(--disabled-fill-color);\n",
              "    box-shadow: none;\n",
              "  }\n",
              "\n",
              "  .colab-df-spinner {\n",
              "    border: 2px solid var(--fill-color);\n",
              "    border-color: transparent;\n",
              "    border-bottom-color: var(--fill-color);\n",
              "    animation:\n",
              "      spin 1s steps(1) infinite;\n",
              "  }\n",
              "\n",
              "  @keyframes spin {\n",
              "    0% {\n",
              "      border-color: transparent;\n",
              "      border-bottom-color: var(--fill-color);\n",
              "      border-left-color: var(--fill-color);\n",
              "    }\n",
              "    20% {\n",
              "      border-color: transparent;\n",
              "      border-left-color: var(--fill-color);\n",
              "      border-top-color: var(--fill-color);\n",
              "    }\n",
              "    30% {\n",
              "      border-color: transparent;\n",
              "      border-left-color: var(--fill-color);\n",
              "      border-top-color: var(--fill-color);\n",
              "      border-right-color: var(--fill-color);\n",
              "    }\n",
              "    40% {\n",
              "      border-color: transparent;\n",
              "      border-right-color: var(--fill-color);\n",
              "      border-top-color: var(--fill-color);\n",
              "    }\n",
              "    60% {\n",
              "      border-color: transparent;\n",
              "      border-right-color: var(--fill-color);\n",
              "    }\n",
              "    80% {\n",
              "      border-color: transparent;\n",
              "      border-right-color: var(--fill-color);\n",
              "      border-bottom-color: var(--fill-color);\n",
              "    }\n",
              "    90% {\n",
              "      border-color: transparent;\n",
              "      border-bottom-color: var(--fill-color);\n",
              "    }\n",
              "  }\n",
              "</style>\n",
              "\n",
              "  <script>\n",
              "    async function quickchart(key) {\n",
              "      const quickchartButtonEl =\n",
              "        document.querySelector('#' + key + ' button');\n",
              "      quickchartButtonEl.disabled = true;  // To prevent multiple clicks.\n",
              "      quickchartButtonEl.classList.add('colab-df-spinner');\n",
              "      try {\n",
              "        const charts = await google.colab.kernel.invokeFunction(\n",
              "            'suggestCharts', [key], {});\n",
              "      } catch (error) {\n",
              "        console.error('Error during call to suggestCharts:', error);\n",
              "      }\n",
              "      quickchartButtonEl.classList.remove('colab-df-spinner');\n",
              "      quickchartButtonEl.classList.add('colab-df-quickchart-complete');\n",
              "    }\n",
              "    (() => {\n",
              "      let quickchartButtonEl =\n",
              "        document.querySelector('#df-f0adb065-a32f-42ca-af72-ea4eff0aa97c button');\n",
              "      quickchartButtonEl.style.display =\n",
              "        google.colab.kernel.accessAllowed ? 'block' : 'none';\n",
              "    })();\n",
              "  </script>\n",
              "</div>\n",
              "    </div>\n",
              "  </div>\n"
            ]
          },
          "metadata": {},
          "execution_count": 2
        }
      ]
    },
    {
      "cell_type": "markdown",
      "source": [
        "read_csv 함수의 반환값을 DataFrame --> Series로 바꾸기\n",
        "- 열 중에 하나를 Series의 인덱스로 설정하기"
      ],
      "metadata": {
        "id": "JEVzkGUCfE1n"
      }
    },
    {
      "cell_type": "code",
      "source": [
        "pd.read_csv(\"pokemon.csv\", index_col=\"Pokemon\")"
      ],
      "metadata": {
        "colab": {
          "base_uri": "https://localhost:8080/",
          "height": 455
        },
        "id": "tMV1SbE9fcpa",
        "outputId": "268d825a-5498-4c37-f6ae-792da2aa5cf7"
      },
      "execution_count": 5,
      "outputs": [
        {
          "output_type": "execute_result",
          "data": {
            "text/plain": [
              "                       Type\n",
              "Pokemon                    \n",
              "Bulbasaur    Grass / Poison\n",
              "Ivysaur      Grass / Poison\n",
              "Venusaur     Grass / Poison\n",
              "Charmander             Fire\n",
              "Charmeleon             Fire\n",
              "...                     ...\n",
              "Stakataka      Rock / Steel\n",
              "Blacephalon    Fire / Ghost\n",
              "Zeraora            Electric\n",
              "Meltan                Steel\n",
              "Melmetal              Steel\n",
              "\n",
              "[809 rows x 1 columns]"
            ],
            "text/html": [
              "\n",
              "  <div id=\"df-c76d7d3c-eaf6-43b0-bb86-0fc13b651e3a\" class=\"colab-df-container\">\n",
              "    <div>\n",
              "<style scoped>\n",
              "    .dataframe tbody tr th:only-of-type {\n",
              "        vertical-align: middle;\n",
              "    }\n",
              "\n",
              "    .dataframe tbody tr th {\n",
              "        vertical-align: top;\n",
              "    }\n",
              "\n",
              "    .dataframe thead th {\n",
              "        text-align: right;\n",
              "    }\n",
              "</style>\n",
              "<table border=\"1\" class=\"dataframe\">\n",
              "  <thead>\n",
              "    <tr style=\"text-align: right;\">\n",
              "      <th></th>\n",
              "      <th>Type</th>\n",
              "    </tr>\n",
              "    <tr>\n",
              "      <th>Pokemon</th>\n",
              "      <th></th>\n",
              "    </tr>\n",
              "  </thead>\n",
              "  <tbody>\n",
              "    <tr>\n",
              "      <th>Bulbasaur</th>\n",
              "      <td>Grass / Poison</td>\n",
              "    </tr>\n",
              "    <tr>\n",
              "      <th>Ivysaur</th>\n",
              "      <td>Grass / Poison</td>\n",
              "    </tr>\n",
              "    <tr>\n",
              "      <th>Venusaur</th>\n",
              "      <td>Grass / Poison</td>\n",
              "    </tr>\n",
              "    <tr>\n",
              "      <th>Charmander</th>\n",
              "      <td>Fire</td>\n",
              "    </tr>\n",
              "    <tr>\n",
              "      <th>Charmeleon</th>\n",
              "      <td>Fire</td>\n",
              "    </tr>\n",
              "    <tr>\n",
              "      <th>...</th>\n",
              "      <td>...</td>\n",
              "    </tr>\n",
              "    <tr>\n",
              "      <th>Stakataka</th>\n",
              "      <td>Rock / Steel</td>\n",
              "    </tr>\n",
              "    <tr>\n",
              "      <th>Blacephalon</th>\n",
              "      <td>Fire / Ghost</td>\n",
              "    </tr>\n",
              "    <tr>\n",
              "      <th>Zeraora</th>\n",
              "      <td>Electric</td>\n",
              "    </tr>\n",
              "    <tr>\n",
              "      <th>Meltan</th>\n",
              "      <td>Steel</td>\n",
              "    </tr>\n",
              "    <tr>\n",
              "      <th>Melmetal</th>\n",
              "      <td>Steel</td>\n",
              "    </tr>\n",
              "  </tbody>\n",
              "</table>\n",
              "<p>809 rows × 1 columns</p>\n",
              "</div>\n",
              "    <div class=\"colab-df-buttons\">\n",
              "\n",
              "  <div class=\"colab-df-container\">\n",
              "    <button class=\"colab-df-convert\" onclick=\"convertToInteractive('df-c76d7d3c-eaf6-43b0-bb86-0fc13b651e3a')\"\n",
              "            title=\"Convert this dataframe to an interactive table.\"\n",
              "            style=\"display:none;\">\n",
              "\n",
              "  <svg xmlns=\"http://www.w3.org/2000/svg\" height=\"24px\" viewBox=\"0 -960 960 960\">\n",
              "    <path d=\"M120-120v-720h720v720H120Zm60-500h600v-160H180v160Zm220 220h160v-160H400v160Zm0 220h160v-160H400v160ZM180-400h160v-160H180v160Zm440 0h160v-160H620v160ZM180-180h160v-160H180v160Zm440 0h160v-160H620v160Z\"/>\n",
              "  </svg>\n",
              "    </button>\n",
              "\n",
              "  <style>\n",
              "    .colab-df-container {\n",
              "      display:flex;\n",
              "      gap: 12px;\n",
              "    }\n",
              "\n",
              "    .colab-df-convert {\n",
              "      background-color: #E8F0FE;\n",
              "      border: none;\n",
              "      border-radius: 50%;\n",
              "      cursor: pointer;\n",
              "      display: none;\n",
              "      fill: #1967D2;\n",
              "      height: 32px;\n",
              "      padding: 0 0 0 0;\n",
              "      width: 32px;\n",
              "    }\n",
              "\n",
              "    .colab-df-convert:hover {\n",
              "      background-color: #E2EBFA;\n",
              "      box-shadow: 0px 1px 2px rgba(60, 64, 67, 0.3), 0px 1px 3px 1px rgba(60, 64, 67, 0.15);\n",
              "      fill: #174EA6;\n",
              "    }\n",
              "\n",
              "    .colab-df-buttons div {\n",
              "      margin-bottom: 4px;\n",
              "    }\n",
              "\n",
              "    [theme=dark] .colab-df-convert {\n",
              "      background-color: #3B4455;\n",
              "      fill: #D2E3FC;\n",
              "    }\n",
              "\n",
              "    [theme=dark] .colab-df-convert:hover {\n",
              "      background-color: #434B5C;\n",
              "      box-shadow: 0px 1px 3px 1px rgba(0, 0, 0, 0.15);\n",
              "      filter: drop-shadow(0px 1px 2px rgba(0, 0, 0, 0.3));\n",
              "      fill: #FFFFFF;\n",
              "    }\n",
              "  </style>\n",
              "\n",
              "    <script>\n",
              "      const buttonEl =\n",
              "        document.querySelector('#df-c76d7d3c-eaf6-43b0-bb86-0fc13b651e3a button.colab-df-convert');\n",
              "      buttonEl.style.display =\n",
              "        google.colab.kernel.accessAllowed ? 'block' : 'none';\n",
              "\n",
              "      async function convertToInteractive(key) {\n",
              "        const element = document.querySelector('#df-c76d7d3c-eaf6-43b0-bb86-0fc13b651e3a');\n",
              "        const dataTable =\n",
              "          await google.colab.kernel.invokeFunction('convertToInteractive',\n",
              "                                                    [key], {});\n",
              "        if (!dataTable) return;\n",
              "\n",
              "        const docLinkHtml = 'Like what you see? Visit the ' +\n",
              "          '<a target=\"_blank\" href=https://colab.research.google.com/notebooks/data_table.ipynb>data table notebook</a>'\n",
              "          + ' to learn more about interactive tables.';\n",
              "        element.innerHTML = '';\n",
              "        dataTable['output_type'] = 'display_data';\n",
              "        await google.colab.output.renderOutput(dataTable, element);\n",
              "        const docLink = document.createElement('div');\n",
              "        docLink.innerHTML = docLinkHtml;\n",
              "        element.appendChild(docLink);\n",
              "      }\n",
              "    </script>\n",
              "  </div>\n",
              "\n",
              "\n",
              "<div id=\"df-45b17627-22f2-41bf-a7e9-e872f5a6c1fc\">\n",
              "  <button class=\"colab-df-quickchart\" onclick=\"quickchart('df-45b17627-22f2-41bf-a7e9-e872f5a6c1fc')\"\n",
              "            title=\"Suggest charts.\"\n",
              "            style=\"display:none;\">\n",
              "\n",
              "<svg xmlns=\"http://www.w3.org/2000/svg\" height=\"24px\"viewBox=\"0 0 24 24\"\n",
              "     width=\"24px\">\n",
              "    <g>\n",
              "        <path d=\"M19 3H5c-1.1 0-2 .9-2 2v14c0 1.1.9 2 2 2h14c1.1 0 2-.9 2-2V5c0-1.1-.9-2-2-2zM9 17H7v-7h2v7zm4 0h-2V7h2v10zm4 0h-2v-4h2v4z\"/>\n",
              "    </g>\n",
              "</svg>\n",
              "  </button>\n",
              "\n",
              "<style>\n",
              "  .colab-df-quickchart {\n",
              "      --bg-color: #E8F0FE;\n",
              "      --fill-color: #1967D2;\n",
              "      --hover-bg-color: #E2EBFA;\n",
              "      --hover-fill-color: #174EA6;\n",
              "      --disabled-fill-color: #AAA;\n",
              "      --disabled-bg-color: #DDD;\n",
              "  }\n",
              "\n",
              "  [theme=dark] .colab-df-quickchart {\n",
              "      --bg-color: #3B4455;\n",
              "      --fill-color: #D2E3FC;\n",
              "      --hover-bg-color: #434B5C;\n",
              "      --hover-fill-color: #FFFFFF;\n",
              "      --disabled-bg-color: #3B4455;\n",
              "      --disabled-fill-color: #666;\n",
              "  }\n",
              "\n",
              "  .colab-df-quickchart {\n",
              "    background-color: var(--bg-color);\n",
              "    border: none;\n",
              "    border-radius: 50%;\n",
              "    cursor: pointer;\n",
              "    display: none;\n",
              "    fill: var(--fill-color);\n",
              "    height: 32px;\n",
              "    padding: 0;\n",
              "    width: 32px;\n",
              "  }\n",
              "\n",
              "  .colab-df-quickchart:hover {\n",
              "    background-color: var(--hover-bg-color);\n",
              "    box-shadow: 0 1px 2px rgba(60, 64, 67, 0.3), 0 1px 3px 1px rgba(60, 64, 67, 0.15);\n",
              "    fill: var(--button-hover-fill-color);\n",
              "  }\n",
              "\n",
              "  .colab-df-quickchart-complete:disabled,\n",
              "  .colab-df-quickchart-complete:disabled:hover {\n",
              "    background-color: var(--disabled-bg-color);\n",
              "    fill: var(--disabled-fill-color);\n",
              "    box-shadow: none;\n",
              "  }\n",
              "\n",
              "  .colab-df-spinner {\n",
              "    border: 2px solid var(--fill-color);\n",
              "    border-color: transparent;\n",
              "    border-bottom-color: var(--fill-color);\n",
              "    animation:\n",
              "      spin 1s steps(1) infinite;\n",
              "  }\n",
              "\n",
              "  @keyframes spin {\n",
              "    0% {\n",
              "      border-color: transparent;\n",
              "      border-bottom-color: var(--fill-color);\n",
              "      border-left-color: var(--fill-color);\n",
              "    }\n",
              "    20% {\n",
              "      border-color: transparent;\n",
              "      border-left-color: var(--fill-color);\n",
              "      border-top-color: var(--fill-color);\n",
              "    }\n",
              "    30% {\n",
              "      border-color: transparent;\n",
              "      border-left-color: var(--fill-color);\n",
              "      border-top-color: var(--fill-color);\n",
              "      border-right-color: var(--fill-color);\n",
              "    }\n",
              "    40% {\n",
              "      border-color: transparent;\n",
              "      border-right-color: var(--fill-color);\n",
              "      border-top-color: var(--fill-color);\n",
              "    }\n",
              "    60% {\n",
              "      border-color: transparent;\n",
              "      border-right-color: var(--fill-color);\n",
              "    }\n",
              "    80% {\n",
              "      border-color: transparent;\n",
              "      border-right-color: var(--fill-color);\n",
              "      border-bottom-color: var(--fill-color);\n",
              "    }\n",
              "    90% {\n",
              "      border-color: transparent;\n",
              "      border-bottom-color: var(--fill-color);\n",
              "    }\n",
              "  }\n",
              "</style>\n",
              "\n",
              "  <script>\n",
              "    async function quickchart(key) {\n",
              "      const quickchartButtonEl =\n",
              "        document.querySelector('#' + key + ' button');\n",
              "      quickchartButtonEl.disabled = true;  // To prevent multiple clicks.\n",
              "      quickchartButtonEl.classList.add('colab-df-spinner');\n",
              "      try {\n",
              "        const charts = await google.colab.kernel.invokeFunction(\n",
              "            'suggestCharts', [key], {});\n",
              "      } catch (error) {\n",
              "        console.error('Error during call to suggestCharts:', error);\n",
              "      }\n",
              "      quickchartButtonEl.classList.remove('colab-df-spinner');\n",
              "      quickchartButtonEl.classList.add('colab-df-quickchart-complete');\n",
              "    }\n",
              "    (() => {\n",
              "      let quickchartButtonEl =\n",
              "        document.querySelector('#df-45b17627-22f2-41bf-a7e9-e872f5a6c1fc button');\n",
              "      quickchartButtonEl.style.display =\n",
              "        google.colab.kernel.accessAllowed ? 'block' : 'none';\n",
              "    })();\n",
              "  </script>\n",
              "</div>\n",
              "    </div>\n",
              "  </div>\n"
            ]
          },
          "metadata": {},
          "execution_count": 5
        }
      ]
    },
    {
      "cell_type": "markdown",
      "source": [
        "squeeze 옵션을 True로 두어 Series로 강제 변환"
      ],
      "metadata": {
        "id": "a7iedOMLf8WR"
      }
    },
    {
      "cell_type": "code",
      "source": [
        "# pd.read_csv(\"pokemon.csv\", index_col=\"Pokemon\", squeeze=True) # 에러발생\n",
        "# pokemon = pd.read_csv(\"pokemon.csv\", index_col=\"Pokemon\").squeeze(\"columns\")\n",
        "pokemon = pd.read_csv(\"pokemon.csv\", index_col=\"Pokemon\", squeeze=True)\n",
        "pokemon"
      ],
      "metadata": {
        "colab": {
          "base_uri": "https://localhost:8080/"
        },
        "id": "2sN12lqKgB3r",
        "outputId": "e7cc415e-70ca-4575-a538-5e547375b3d8"
      },
      "execution_count": 52,
      "outputs": [
        {
          "output_type": "stream",
          "name": "stderr",
          "text": [
            "<ipython-input-52-3ff15f891236>:3: FutureWarning: The squeeze argument has been deprecated and will be removed in a future version. Append .squeeze(\"columns\") to the call to squeeze.\n",
            "\n",
            "\n",
            "  pokemon = pd.read_csv(\"pokemon.csv\", index_col=\"Pokemon\", squeeze=True)\n"
          ]
        },
        {
          "output_type": "execute_result",
          "data": {
            "text/plain": [
              "Pokemon\n",
              "Bulbasaur      Grass / Poison\n",
              "Ivysaur        Grass / Poison\n",
              "Venusaur       Grass / Poison\n",
              "Charmander               Fire\n",
              "Charmeleon               Fire\n",
              "                    ...      \n",
              "Stakataka        Rock / Steel\n",
              "Blacephalon      Fire / Ghost\n",
              "Zeraora              Electric\n",
              "Meltan                  Steel\n",
              "Melmetal                Steel\n",
              "Name: Type, Length: 809, dtype: object"
            ]
          },
          "metadata": {},
          "execution_count": 52
        }
      ]
    },
    {
      "cell_type": "markdown",
      "source": [
        "구글의 주가 데이터\n",
        "\n",
        "판다스는 데이터셋을 가져올 때 적합한 데이터 유형을 유추해서 가져옴.<br/>\n",
        "기본적으로는 안전함을 추구함.\n",
        "- yyyy-mm-dd의 경우 날짜로 명시적으로 지시하지 않으면 문자열로 처리\n",
        "- 날짜/시간 형으로 변환을 해주면 일반 문자열에서 사용할 수 없는 추가 메서드를 사용할 수 있음"
      ],
      "metadata": {
        "id": "nhAS-VE2ghpJ"
      }
    },
    {
      "cell_type": "code",
      "source": [
        "# pd.read_csv(\"google_stocks.csv\").dtypes\n",
        "pd.read_csv(\"google_stocks.csv\")"
      ],
      "metadata": {
        "colab": {
          "base_uri": "https://localhost:8080/"
        },
        "id": "yxAIipp8g5Pl",
        "outputId": "6f65d2ba-de1a-486f-c37c-46c713688b24"
      },
      "execution_count": 13,
      "outputs": [
        {
          "output_type": "execute_result",
          "data": {
            "text/plain": [
              "Date      object\n",
              "Close    float64\n",
              "dtype: object"
            ]
          },
          "metadata": {},
          "execution_count": 13
        }
      ]
    },
    {
      "cell_type": "markdown",
      "source": [
        " parse_dates 매개변수 : 날짜/시간으로 변환해야하는 텍스트값의 열 이름을 입력하면 변환해줌"
      ],
      "metadata": {
        "id": "cmwhD-X-hXvV"
      }
    },
    {
      "cell_type": "code",
      "source": [
        "pd.read_csv(\"google_stocks.csv\", parse_dates=[\"Date\"]).dtypes\n",
        "google = pd.read_csv(\"google_stocks.csv\", parse_dates=[\"Date\"], index_col=\"Date\", squeeze=True)\n",
        "google"
      ],
      "metadata": {
        "colab": {
          "base_uri": "https://localhost:8080/"
        },
        "id": "UmgJs56niGhZ",
        "outputId": "b1eb9a14-d59d-437d-e721-d34b83c70507"
      },
      "execution_count": 53,
      "outputs": [
        {
          "output_type": "stream",
          "name": "stderr",
          "text": [
            "<ipython-input-53-4d0fbfd21ac9>:2: FutureWarning: The squeeze argument has been deprecated and will be removed in a future version. Append .squeeze(\"columns\") to the call to squeeze.\n",
            "\n",
            "\n",
            "  google = pd.read_csv(\"google_stocks.csv\", parse_dates=[\"Date\"], index_col=\"Date\", squeeze=True)\n"
          ]
        },
        {
          "output_type": "execute_result",
          "data": {
            "text/plain": [
              "Date\n",
              "2004-08-19      49.98\n",
              "2004-08-20      53.95\n",
              "2004-08-23      54.50\n",
              "2004-08-24      52.24\n",
              "2004-08-25      52.80\n",
              "               ...   \n",
              "2019-10-21    1246.15\n",
              "2019-10-22    1242.80\n",
              "2019-10-23    1259.13\n",
              "2019-10-24    1260.99\n",
              "2019-10-25    1265.13\n",
              "Name: Close, Length: 3824, dtype: float64"
            ]
          },
          "metadata": {},
          "execution_count": 53
        }
      ]
    },
    {
      "cell_type": "markdown",
      "source": [
        "독립전쟁 데이터셋 가져오기\n",
        "\n",
        "- 결측값이 있음\n",
        " - NaN 값으로 대체됨"
      ],
      "metadata": {
        "id": "y1NXQkuajCAk"
      }
    },
    {
      "cell_type": "code",
      "source": [
        "pd.read_csv(\"revolutionary_war.csv\", parse_dates=[\"Start Date\"])"
      ],
      "metadata": {
        "colab": {
          "base_uri": "https://localhost:8080/",
          "height": 424
        },
        "id": "xnx_XrQvjlkg",
        "outputId": "909e623d-ba9c-4d7d-c646-b886c46c7aac"
      },
      "execution_count": 32,
      "outputs": [
        {
          "output_type": "execute_result",
          "data": {
            "text/plain": [
              "                                Battle Start Date          State\n",
              "0                         Powder Alarm 1774-09-01  Massachusetts\n",
              "1    Storming of Fort William and Mary 1774-12-14  New Hampshire\n",
              "2     Battles of Lexington and Concord 1775-04-19  Massachusetts\n",
              "3                      Siege of Boston 1775-04-19  Massachusetts\n",
              "4                   Gunpowder Incident 1775-04-20       Virginia\n",
              "..                                 ...        ...            ...\n",
              "227                Siege of Fort Henry 1782-09-11       Virginia\n",
              "228         Grand Assault on Gibraltar 1782-09-13            NaN\n",
              "229          Action of 18 October 1782 1782-10-18            NaN\n",
              "230          Action of 6 December 1782 1782-12-06            NaN\n",
              "231          Action of 22 January 1783 1783-01-22       Virginia\n",
              "\n",
              "[232 rows x 3 columns]"
            ],
            "text/html": [
              "\n",
              "  <div id=\"df-61b78e5a-9432-4a91-88e0-8bb91b9b1487\" class=\"colab-df-container\">\n",
              "    <div>\n",
              "<style scoped>\n",
              "    .dataframe tbody tr th:only-of-type {\n",
              "        vertical-align: middle;\n",
              "    }\n",
              "\n",
              "    .dataframe tbody tr th {\n",
              "        vertical-align: top;\n",
              "    }\n",
              "\n",
              "    .dataframe thead th {\n",
              "        text-align: right;\n",
              "    }\n",
              "</style>\n",
              "<table border=\"1\" class=\"dataframe\">\n",
              "  <thead>\n",
              "    <tr style=\"text-align: right;\">\n",
              "      <th></th>\n",
              "      <th>Battle</th>\n",
              "      <th>Start Date</th>\n",
              "      <th>State</th>\n",
              "    </tr>\n",
              "  </thead>\n",
              "  <tbody>\n",
              "    <tr>\n",
              "      <th>0</th>\n",
              "      <td>Powder Alarm</td>\n",
              "      <td>1774-09-01</td>\n",
              "      <td>Massachusetts</td>\n",
              "    </tr>\n",
              "    <tr>\n",
              "      <th>1</th>\n",
              "      <td>Storming of Fort William and Mary</td>\n",
              "      <td>1774-12-14</td>\n",
              "      <td>New Hampshire</td>\n",
              "    </tr>\n",
              "    <tr>\n",
              "      <th>2</th>\n",
              "      <td>Battles of Lexington and Concord</td>\n",
              "      <td>1775-04-19</td>\n",
              "      <td>Massachusetts</td>\n",
              "    </tr>\n",
              "    <tr>\n",
              "      <th>3</th>\n",
              "      <td>Siege of Boston</td>\n",
              "      <td>1775-04-19</td>\n",
              "      <td>Massachusetts</td>\n",
              "    </tr>\n",
              "    <tr>\n",
              "      <th>4</th>\n",
              "      <td>Gunpowder Incident</td>\n",
              "      <td>1775-04-20</td>\n",
              "      <td>Virginia</td>\n",
              "    </tr>\n",
              "    <tr>\n",
              "      <th>...</th>\n",
              "      <td>...</td>\n",
              "      <td>...</td>\n",
              "      <td>...</td>\n",
              "    </tr>\n",
              "    <tr>\n",
              "      <th>227</th>\n",
              "      <td>Siege of Fort Henry</td>\n",
              "      <td>1782-09-11</td>\n",
              "      <td>Virginia</td>\n",
              "    </tr>\n",
              "    <tr>\n",
              "      <th>228</th>\n",
              "      <td>Grand Assault on Gibraltar</td>\n",
              "      <td>1782-09-13</td>\n",
              "      <td>NaN</td>\n",
              "    </tr>\n",
              "    <tr>\n",
              "      <th>229</th>\n",
              "      <td>Action of 18 October 1782</td>\n",
              "      <td>1782-10-18</td>\n",
              "      <td>NaN</td>\n",
              "    </tr>\n",
              "    <tr>\n",
              "      <th>230</th>\n",
              "      <td>Action of 6 December 1782</td>\n",
              "      <td>1782-12-06</td>\n",
              "      <td>NaN</td>\n",
              "    </tr>\n",
              "    <tr>\n",
              "      <th>231</th>\n",
              "      <td>Action of 22 January 1783</td>\n",
              "      <td>1783-01-22</td>\n",
              "      <td>Virginia</td>\n",
              "    </tr>\n",
              "  </tbody>\n",
              "</table>\n",
              "<p>232 rows × 3 columns</p>\n",
              "</div>\n",
              "    <div class=\"colab-df-buttons\">\n",
              "\n",
              "  <div class=\"colab-df-container\">\n",
              "    <button class=\"colab-df-convert\" onclick=\"convertToInteractive('df-61b78e5a-9432-4a91-88e0-8bb91b9b1487')\"\n",
              "            title=\"Convert this dataframe to an interactive table.\"\n",
              "            style=\"display:none;\">\n",
              "\n",
              "  <svg xmlns=\"http://www.w3.org/2000/svg\" height=\"24px\" viewBox=\"0 -960 960 960\">\n",
              "    <path d=\"M120-120v-720h720v720H120Zm60-500h600v-160H180v160Zm220 220h160v-160H400v160Zm0 220h160v-160H400v160ZM180-400h160v-160H180v160Zm440 0h160v-160H620v160ZM180-180h160v-160H180v160Zm440 0h160v-160H620v160Z\"/>\n",
              "  </svg>\n",
              "    </button>\n",
              "\n",
              "  <style>\n",
              "    .colab-df-container {\n",
              "      display:flex;\n",
              "      gap: 12px;\n",
              "    }\n",
              "\n",
              "    .colab-df-convert {\n",
              "      background-color: #E8F0FE;\n",
              "      border: none;\n",
              "      border-radius: 50%;\n",
              "      cursor: pointer;\n",
              "      display: none;\n",
              "      fill: #1967D2;\n",
              "      height: 32px;\n",
              "      padding: 0 0 0 0;\n",
              "      width: 32px;\n",
              "    }\n",
              "\n",
              "    .colab-df-convert:hover {\n",
              "      background-color: #E2EBFA;\n",
              "      box-shadow: 0px 1px 2px rgba(60, 64, 67, 0.3), 0px 1px 3px 1px rgba(60, 64, 67, 0.15);\n",
              "      fill: #174EA6;\n",
              "    }\n",
              "\n",
              "    .colab-df-buttons div {\n",
              "      margin-bottom: 4px;\n",
              "    }\n",
              "\n",
              "    [theme=dark] .colab-df-convert {\n",
              "      background-color: #3B4455;\n",
              "      fill: #D2E3FC;\n",
              "    }\n",
              "\n",
              "    [theme=dark] .colab-df-convert:hover {\n",
              "      background-color: #434B5C;\n",
              "      box-shadow: 0px 1px 3px 1px rgba(0, 0, 0, 0.15);\n",
              "      filter: drop-shadow(0px 1px 2px rgba(0, 0, 0, 0.3));\n",
              "      fill: #FFFFFF;\n",
              "    }\n",
              "  </style>\n",
              "\n",
              "    <script>\n",
              "      const buttonEl =\n",
              "        document.querySelector('#df-61b78e5a-9432-4a91-88e0-8bb91b9b1487 button.colab-df-convert');\n",
              "      buttonEl.style.display =\n",
              "        google.colab.kernel.accessAllowed ? 'block' : 'none';\n",
              "\n",
              "      async function convertToInteractive(key) {\n",
              "        const element = document.querySelector('#df-61b78e5a-9432-4a91-88e0-8bb91b9b1487');\n",
              "        const dataTable =\n",
              "          await google.colab.kernel.invokeFunction('convertToInteractive',\n",
              "                                                    [key], {});\n",
              "        if (!dataTable) return;\n",
              "\n",
              "        const docLinkHtml = 'Like what you see? Visit the ' +\n",
              "          '<a target=\"_blank\" href=https://colab.research.google.com/notebooks/data_table.ipynb>data table notebook</a>'\n",
              "          + ' to learn more about interactive tables.';\n",
              "        element.innerHTML = '';\n",
              "        dataTable['output_type'] = 'display_data';\n",
              "        await google.colab.output.renderOutput(dataTable, element);\n",
              "        const docLink = document.createElement('div');\n",
              "        docLink.innerHTML = docLinkHtml;\n",
              "        element.appendChild(docLink);\n",
              "      }\n",
              "    </script>\n",
              "  </div>\n",
              "\n",
              "\n",
              "<div id=\"df-20e342de-182b-47e0-8237-5f7c63c46686\">\n",
              "  <button class=\"colab-df-quickchart\" onclick=\"quickchart('df-20e342de-182b-47e0-8237-5f7c63c46686')\"\n",
              "            title=\"Suggest charts.\"\n",
              "            style=\"display:none;\">\n",
              "\n",
              "<svg xmlns=\"http://www.w3.org/2000/svg\" height=\"24px\"viewBox=\"0 0 24 24\"\n",
              "     width=\"24px\">\n",
              "    <g>\n",
              "        <path d=\"M19 3H5c-1.1 0-2 .9-2 2v14c0 1.1.9 2 2 2h14c1.1 0 2-.9 2-2V5c0-1.1-.9-2-2-2zM9 17H7v-7h2v7zm4 0h-2V7h2v10zm4 0h-2v-4h2v4z\"/>\n",
              "    </g>\n",
              "</svg>\n",
              "  </button>\n",
              "\n",
              "<style>\n",
              "  .colab-df-quickchart {\n",
              "      --bg-color: #E8F0FE;\n",
              "      --fill-color: #1967D2;\n",
              "      --hover-bg-color: #E2EBFA;\n",
              "      --hover-fill-color: #174EA6;\n",
              "      --disabled-fill-color: #AAA;\n",
              "      --disabled-bg-color: #DDD;\n",
              "  }\n",
              "\n",
              "  [theme=dark] .colab-df-quickchart {\n",
              "      --bg-color: #3B4455;\n",
              "      --fill-color: #D2E3FC;\n",
              "      --hover-bg-color: #434B5C;\n",
              "      --hover-fill-color: #FFFFFF;\n",
              "      --disabled-bg-color: #3B4455;\n",
              "      --disabled-fill-color: #666;\n",
              "  }\n",
              "\n",
              "  .colab-df-quickchart {\n",
              "    background-color: var(--bg-color);\n",
              "    border: none;\n",
              "    border-radius: 50%;\n",
              "    cursor: pointer;\n",
              "    display: none;\n",
              "    fill: var(--fill-color);\n",
              "    height: 32px;\n",
              "    padding: 0;\n",
              "    width: 32px;\n",
              "  }\n",
              "\n",
              "  .colab-df-quickchart:hover {\n",
              "    background-color: var(--hover-bg-color);\n",
              "    box-shadow: 0 1px 2px rgba(60, 64, 67, 0.3), 0 1px 3px 1px rgba(60, 64, 67, 0.15);\n",
              "    fill: var(--button-hover-fill-color);\n",
              "  }\n",
              "\n",
              "  .colab-df-quickchart-complete:disabled,\n",
              "  .colab-df-quickchart-complete:disabled:hover {\n",
              "    background-color: var(--disabled-bg-color);\n",
              "    fill: var(--disabled-fill-color);\n",
              "    box-shadow: none;\n",
              "  }\n",
              "\n",
              "  .colab-df-spinner {\n",
              "    border: 2px solid var(--fill-color);\n",
              "    border-color: transparent;\n",
              "    border-bottom-color: var(--fill-color);\n",
              "    animation:\n",
              "      spin 1s steps(1) infinite;\n",
              "  }\n",
              "\n",
              "  @keyframes spin {\n",
              "    0% {\n",
              "      border-color: transparent;\n",
              "      border-bottom-color: var(--fill-color);\n",
              "      border-left-color: var(--fill-color);\n",
              "    }\n",
              "    20% {\n",
              "      border-color: transparent;\n",
              "      border-left-color: var(--fill-color);\n",
              "      border-top-color: var(--fill-color);\n",
              "    }\n",
              "    30% {\n",
              "      border-color: transparent;\n",
              "      border-left-color: var(--fill-color);\n",
              "      border-top-color: var(--fill-color);\n",
              "      border-right-color: var(--fill-color);\n",
              "    }\n",
              "    40% {\n",
              "      border-color: transparent;\n",
              "      border-right-color: var(--fill-color);\n",
              "      border-top-color: var(--fill-color);\n",
              "    }\n",
              "    60% {\n",
              "      border-color: transparent;\n",
              "      border-right-color: var(--fill-color);\n",
              "    }\n",
              "    80% {\n",
              "      border-color: transparent;\n",
              "      border-right-color: var(--fill-color);\n",
              "      border-bottom-color: var(--fill-color);\n",
              "    }\n",
              "    90% {\n",
              "      border-color: transparent;\n",
              "      border-bottom-color: var(--fill-color);\n",
              "    }\n",
              "  }\n",
              "</style>\n",
              "\n",
              "  <script>\n",
              "    async function quickchart(key) {\n",
              "      const quickchartButtonEl =\n",
              "        document.querySelector('#' + key + ' button');\n",
              "      quickchartButtonEl.disabled = true;  // To prevent multiple clicks.\n",
              "      quickchartButtonEl.classList.add('colab-df-spinner');\n",
              "      try {\n",
              "        const charts = await google.colab.kernel.invokeFunction(\n",
              "            'suggestCharts', [key], {});\n",
              "      } catch (error) {\n",
              "        console.error('Error during call to suggestCharts:', error);\n",
              "      }\n",
              "      quickchartButtonEl.classList.remove('colab-df-spinner');\n",
              "      quickchartButtonEl.classList.add('colab-df-quickchart-complete');\n",
              "    }\n",
              "    (() => {\n",
              "      let quickchartButtonEl =\n",
              "        document.querySelector('#df-20e342de-182b-47e0-8237-5f7c63c46686 button');\n",
              "      quickchartButtonEl.style.display =\n",
              "        google.colab.kernel.accessAllowed ? 'block' : 'none';\n",
              "    })();\n",
              "  </script>\n",
              "</div>\n",
              "    </div>\n",
              "  </div>\n"
            ]
          },
          "metadata": {},
          "execution_count": 32
        }
      ]
    },
    {
      "cell_type": "markdown",
      "source": [
        "parse_dates 매개변수 :\n",
        "- mm/dd/yyyy 문자열을 날짜형으로 변환해줌"
      ],
      "metadata": {
        "id": "ux2M6iDgkJK9"
      }
    },
    {
      "cell_type": "code",
      "source": [
        "pd.read_csv(\"revolutionary_war.csv\", parse_dates=[\"Start Date\"], index_col=\"Start Date\")"
      ],
      "metadata": {
        "colab": {
          "base_uri": "https://localhost:8080/",
          "height": 455
        },
        "id": "Au4NJgv9kSOP",
        "outputId": "dcea890b-14de-40fd-f593-49eb59cf690d"
      },
      "execution_count": 34,
      "outputs": [
        {
          "output_type": "execute_result",
          "data": {
            "text/plain": [
              "                                       Battle          State\n",
              "Start Date                                                  \n",
              "1774-09-01                       Powder Alarm  Massachusetts\n",
              "1774-12-14  Storming of Fort William and Mary  New Hampshire\n",
              "1775-04-19   Battles of Lexington and Concord  Massachusetts\n",
              "1775-04-19                    Siege of Boston  Massachusetts\n",
              "1775-04-20                 Gunpowder Incident       Virginia\n",
              "...                                       ...            ...\n",
              "1782-09-11                Siege of Fort Henry       Virginia\n",
              "1782-09-13         Grand Assault on Gibraltar            NaN\n",
              "1782-10-18          Action of 18 October 1782            NaN\n",
              "1782-12-06          Action of 6 December 1782            NaN\n",
              "1783-01-22          Action of 22 January 1783       Virginia\n",
              "\n",
              "[232 rows x 2 columns]"
            ],
            "text/html": [
              "\n",
              "  <div id=\"df-a993b19a-31a0-46d4-8607-108ebb887be3\" class=\"colab-df-container\">\n",
              "    <div>\n",
              "<style scoped>\n",
              "    .dataframe tbody tr th:only-of-type {\n",
              "        vertical-align: middle;\n",
              "    }\n",
              "\n",
              "    .dataframe tbody tr th {\n",
              "        vertical-align: top;\n",
              "    }\n",
              "\n",
              "    .dataframe thead th {\n",
              "        text-align: right;\n",
              "    }\n",
              "</style>\n",
              "<table border=\"1\" class=\"dataframe\">\n",
              "  <thead>\n",
              "    <tr style=\"text-align: right;\">\n",
              "      <th></th>\n",
              "      <th>Battle</th>\n",
              "      <th>State</th>\n",
              "    </tr>\n",
              "    <tr>\n",
              "      <th>Start Date</th>\n",
              "      <th></th>\n",
              "      <th></th>\n",
              "    </tr>\n",
              "  </thead>\n",
              "  <tbody>\n",
              "    <tr>\n",
              "      <th>1774-09-01</th>\n",
              "      <td>Powder Alarm</td>\n",
              "      <td>Massachusetts</td>\n",
              "    </tr>\n",
              "    <tr>\n",
              "      <th>1774-12-14</th>\n",
              "      <td>Storming of Fort William and Mary</td>\n",
              "      <td>New Hampshire</td>\n",
              "    </tr>\n",
              "    <tr>\n",
              "      <th>1775-04-19</th>\n",
              "      <td>Battles of Lexington and Concord</td>\n",
              "      <td>Massachusetts</td>\n",
              "    </tr>\n",
              "    <tr>\n",
              "      <th>1775-04-19</th>\n",
              "      <td>Siege of Boston</td>\n",
              "      <td>Massachusetts</td>\n",
              "    </tr>\n",
              "    <tr>\n",
              "      <th>1775-04-20</th>\n",
              "      <td>Gunpowder Incident</td>\n",
              "      <td>Virginia</td>\n",
              "    </tr>\n",
              "    <tr>\n",
              "      <th>...</th>\n",
              "      <td>...</td>\n",
              "      <td>...</td>\n",
              "    </tr>\n",
              "    <tr>\n",
              "      <th>1782-09-11</th>\n",
              "      <td>Siege of Fort Henry</td>\n",
              "      <td>Virginia</td>\n",
              "    </tr>\n",
              "    <tr>\n",
              "      <th>1782-09-13</th>\n",
              "      <td>Grand Assault on Gibraltar</td>\n",
              "      <td>NaN</td>\n",
              "    </tr>\n",
              "    <tr>\n",
              "      <th>1782-10-18</th>\n",
              "      <td>Action of 18 October 1782</td>\n",
              "      <td>NaN</td>\n",
              "    </tr>\n",
              "    <tr>\n",
              "      <th>1782-12-06</th>\n",
              "      <td>Action of 6 December 1782</td>\n",
              "      <td>NaN</td>\n",
              "    </tr>\n",
              "    <tr>\n",
              "      <th>1783-01-22</th>\n",
              "      <td>Action of 22 January 1783</td>\n",
              "      <td>Virginia</td>\n",
              "    </tr>\n",
              "  </tbody>\n",
              "</table>\n",
              "<p>232 rows × 2 columns</p>\n",
              "</div>\n",
              "    <div class=\"colab-df-buttons\">\n",
              "\n",
              "  <div class=\"colab-df-container\">\n",
              "    <button class=\"colab-df-convert\" onclick=\"convertToInteractive('df-a993b19a-31a0-46d4-8607-108ebb887be3')\"\n",
              "            title=\"Convert this dataframe to an interactive table.\"\n",
              "            style=\"display:none;\">\n",
              "\n",
              "  <svg xmlns=\"http://www.w3.org/2000/svg\" height=\"24px\" viewBox=\"0 -960 960 960\">\n",
              "    <path d=\"M120-120v-720h720v720H120Zm60-500h600v-160H180v160Zm220 220h160v-160H400v160Zm0 220h160v-160H400v160ZM180-400h160v-160H180v160Zm440 0h160v-160H620v160ZM180-180h160v-160H180v160Zm440 0h160v-160H620v160Z\"/>\n",
              "  </svg>\n",
              "    </button>\n",
              "\n",
              "  <style>\n",
              "    .colab-df-container {\n",
              "      display:flex;\n",
              "      gap: 12px;\n",
              "    }\n",
              "\n",
              "    .colab-df-convert {\n",
              "      background-color: #E8F0FE;\n",
              "      border: none;\n",
              "      border-radius: 50%;\n",
              "      cursor: pointer;\n",
              "      display: none;\n",
              "      fill: #1967D2;\n",
              "      height: 32px;\n",
              "      padding: 0 0 0 0;\n",
              "      width: 32px;\n",
              "    }\n",
              "\n",
              "    .colab-df-convert:hover {\n",
              "      background-color: #E2EBFA;\n",
              "      box-shadow: 0px 1px 2px rgba(60, 64, 67, 0.3), 0px 1px 3px 1px rgba(60, 64, 67, 0.15);\n",
              "      fill: #174EA6;\n",
              "    }\n",
              "\n",
              "    .colab-df-buttons div {\n",
              "      margin-bottom: 4px;\n",
              "    }\n",
              "\n",
              "    [theme=dark] .colab-df-convert {\n",
              "      background-color: #3B4455;\n",
              "      fill: #D2E3FC;\n",
              "    }\n",
              "\n",
              "    [theme=dark] .colab-df-convert:hover {\n",
              "      background-color: #434B5C;\n",
              "      box-shadow: 0px 1px 3px 1px rgba(0, 0, 0, 0.15);\n",
              "      filter: drop-shadow(0px 1px 2px rgba(0, 0, 0, 0.3));\n",
              "      fill: #FFFFFF;\n",
              "    }\n",
              "  </style>\n",
              "\n",
              "    <script>\n",
              "      const buttonEl =\n",
              "        document.querySelector('#df-a993b19a-31a0-46d4-8607-108ebb887be3 button.colab-df-convert');\n",
              "      buttonEl.style.display =\n",
              "        google.colab.kernel.accessAllowed ? 'block' : 'none';\n",
              "\n",
              "      async function convertToInteractive(key) {\n",
              "        const element = document.querySelector('#df-a993b19a-31a0-46d4-8607-108ebb887be3');\n",
              "        const dataTable =\n",
              "          await google.colab.kernel.invokeFunction('convertToInteractive',\n",
              "                                                    [key], {});\n",
              "        if (!dataTable) return;\n",
              "\n",
              "        const docLinkHtml = 'Like what you see? Visit the ' +\n",
              "          '<a target=\"_blank\" href=https://colab.research.google.com/notebooks/data_table.ipynb>data table notebook</a>'\n",
              "          + ' to learn more about interactive tables.';\n",
              "        element.innerHTML = '';\n",
              "        dataTable['output_type'] = 'display_data';\n",
              "        await google.colab.output.renderOutput(dataTable, element);\n",
              "        const docLink = document.createElement('div');\n",
              "        docLink.innerHTML = docLinkHtml;\n",
              "        element.appendChild(docLink);\n",
              "      }\n",
              "    </script>\n",
              "  </div>\n",
              "\n",
              "\n",
              "<div id=\"df-773b57b0-ae7d-4838-8f17-47331dc507cc\">\n",
              "  <button class=\"colab-df-quickchart\" onclick=\"quickchart('df-773b57b0-ae7d-4838-8f17-47331dc507cc')\"\n",
              "            title=\"Suggest charts.\"\n",
              "            style=\"display:none;\">\n",
              "\n",
              "<svg xmlns=\"http://www.w3.org/2000/svg\" height=\"24px\"viewBox=\"0 0 24 24\"\n",
              "     width=\"24px\">\n",
              "    <g>\n",
              "        <path d=\"M19 3H5c-1.1 0-2 .9-2 2v14c0 1.1.9 2 2 2h14c1.1 0 2-.9 2-2V5c0-1.1-.9-2-2-2zM9 17H7v-7h2v7zm4 0h-2V7h2v10zm4 0h-2v-4h2v4z\"/>\n",
              "    </g>\n",
              "</svg>\n",
              "  </button>\n",
              "\n",
              "<style>\n",
              "  .colab-df-quickchart {\n",
              "      --bg-color: #E8F0FE;\n",
              "      --fill-color: #1967D2;\n",
              "      --hover-bg-color: #E2EBFA;\n",
              "      --hover-fill-color: #174EA6;\n",
              "      --disabled-fill-color: #AAA;\n",
              "      --disabled-bg-color: #DDD;\n",
              "  }\n",
              "\n",
              "  [theme=dark] .colab-df-quickchart {\n",
              "      --bg-color: #3B4455;\n",
              "      --fill-color: #D2E3FC;\n",
              "      --hover-bg-color: #434B5C;\n",
              "      --hover-fill-color: #FFFFFF;\n",
              "      --disabled-bg-color: #3B4455;\n",
              "      --disabled-fill-color: #666;\n",
              "  }\n",
              "\n",
              "  .colab-df-quickchart {\n",
              "    background-color: var(--bg-color);\n",
              "    border: none;\n",
              "    border-radius: 50%;\n",
              "    cursor: pointer;\n",
              "    display: none;\n",
              "    fill: var(--fill-color);\n",
              "    height: 32px;\n",
              "    padding: 0;\n",
              "    width: 32px;\n",
              "  }\n",
              "\n",
              "  .colab-df-quickchart:hover {\n",
              "    background-color: var(--hover-bg-color);\n",
              "    box-shadow: 0 1px 2px rgba(60, 64, 67, 0.3), 0 1px 3px 1px rgba(60, 64, 67, 0.15);\n",
              "    fill: var(--button-hover-fill-color);\n",
              "  }\n",
              "\n",
              "  .colab-df-quickchart-complete:disabled,\n",
              "  .colab-df-quickchart-complete:disabled:hover {\n",
              "    background-color: var(--disabled-bg-color);\n",
              "    fill: var(--disabled-fill-color);\n",
              "    box-shadow: none;\n",
              "  }\n",
              "\n",
              "  .colab-df-spinner {\n",
              "    border: 2px solid var(--fill-color);\n",
              "    border-color: transparent;\n",
              "    border-bottom-color: var(--fill-color);\n",
              "    animation:\n",
              "      spin 1s steps(1) infinite;\n",
              "  }\n",
              "\n",
              "  @keyframes spin {\n",
              "    0% {\n",
              "      border-color: transparent;\n",
              "      border-bottom-color: var(--fill-color);\n",
              "      border-left-color: var(--fill-color);\n",
              "    }\n",
              "    20% {\n",
              "      border-color: transparent;\n",
              "      border-left-color: var(--fill-color);\n",
              "      border-top-color: var(--fill-color);\n",
              "    }\n",
              "    30% {\n",
              "      border-color: transparent;\n",
              "      border-left-color: var(--fill-color);\n",
              "      border-top-color: var(--fill-color);\n",
              "      border-right-color: var(--fill-color);\n",
              "    }\n",
              "    40% {\n",
              "      border-color: transparent;\n",
              "      border-right-color: var(--fill-color);\n",
              "      border-top-color: var(--fill-color);\n",
              "    }\n",
              "    60% {\n",
              "      border-color: transparent;\n",
              "      border-right-color: var(--fill-color);\n",
              "    }\n",
              "    80% {\n",
              "      border-color: transparent;\n",
              "      border-right-color: var(--fill-color);\n",
              "      border-bottom-color: var(--fill-color);\n",
              "    }\n",
              "    90% {\n",
              "      border-color: transparent;\n",
              "      border-bottom-color: var(--fill-color);\n",
              "    }\n",
              "  }\n",
              "</style>\n",
              "\n",
              "  <script>\n",
              "    async function quickchart(key) {\n",
              "      const quickchartButtonEl =\n",
              "        document.querySelector('#' + key + ' button');\n",
              "      quickchartButtonEl.disabled = true;  // To prevent multiple clicks.\n",
              "      quickchartButtonEl.classList.add('colab-df-spinner');\n",
              "      try {\n",
              "        const charts = await google.colab.kernel.invokeFunction(\n",
              "            'suggestCharts', [key], {});\n",
              "      } catch (error) {\n",
              "        console.error('Error during call to suggestCharts:', error);\n",
              "      }\n",
              "      quickchartButtonEl.classList.remove('colab-df-spinner');\n",
              "      quickchartButtonEl.classList.add('colab-df-quickchart-complete');\n",
              "    }\n",
              "    (() => {\n",
              "      let quickchartButtonEl =\n",
              "        document.querySelector('#df-773b57b0-ae7d-4838-8f17-47331dc507cc button');\n",
              "      quickchartButtonEl.style.display =\n",
              "        google.colab.kernel.accessAllowed ? 'block' : 'none';\n",
              "    })();\n",
              "  </script>\n",
              "</div>\n",
              "    </div>\n",
              "  </div>\n"
            ]
          },
          "metadata": {},
          "execution_count": 34
        }
      ]
    },
    {
      "cell_type": "markdown",
      "source": [
        "usecols 매개변수 : 가져올 열목록을 입력"
      ],
      "metadata": {
        "id": "mHGATYLAkv7L"
      }
    },
    {
      "cell_type": "code",
      "source": [
        "battles = pd.read_csv(\"revolutionary_war.csv\", parse_dates=[\"Start Date\"], index_col=\"Start Date\", usecols=[\"Start Date\", \"State\"], squeeze=True)\n",
        "battles"
      ],
      "metadata": {
        "colab": {
          "base_uri": "https://localhost:8080/"
        },
        "id": "98zyj_Ugk26h",
        "outputId": "a289a03e-f505-428d-a98d-ad69062a73b3"
      },
      "execution_count": 54,
      "outputs": [
        {
          "output_type": "stream",
          "name": "stderr",
          "text": [
            "<ipython-input-54-f38f1675f377>:1: FutureWarning: The squeeze argument has been deprecated and will be removed in a future version. Append .squeeze(\"columns\") to the call to squeeze.\n",
            "\n",
            "\n",
            "  battles = pd.read_csv(\"revolutionary_war.csv\", parse_dates=[\"Start Date\"], index_col=\"Start Date\", usecols=[\"Start Date\", \"State\"], squeeze=True)\n"
          ]
        },
        {
          "output_type": "execute_result",
          "data": {
            "text/plain": [
              "Start Date\n",
              "1774-09-01    Massachusetts\n",
              "1774-12-14    New Hampshire\n",
              "1775-04-19    Massachusetts\n",
              "1775-04-19    Massachusetts\n",
              "1775-04-20         Virginia\n",
              "                  ...      \n",
              "1782-09-11         Virginia\n",
              "1782-09-13              NaN\n",
              "1782-10-18              NaN\n",
              "1782-12-06              NaN\n",
              "1783-01-22         Virginia\n",
              "Name: State, Length: 232, dtype: object"
            ]
          },
          "metadata": {},
          "execution_count": 54
        }
      ]
    },
    {
      "cell_type": "markdown",
      "source": [
        "## 3.2 Series 정렬\n",
        "\n",
        "### 3.2.1 sort_values 메서드를 사용하여 값 기준으로 정렬\n",
        "\n",
        "구글의 최저 및 최고 주가가 궁금한 경우\n",
        "\n",
        "sort_values 메서드 : 오름차순으로 정렬된 새 Series 반환"
      ],
      "metadata": {
        "id": "zRhbyIlklswq"
      }
    },
    {
      "cell_type": "code",
      "source": [
        "google.sort_values()"
      ],
      "metadata": {
        "colab": {
          "base_uri": "https://localhost:8080/"
        },
        "id": "mpi9zpUWmM_7",
        "outputId": "c38140a2-bf0c-45ac-db40-00b5d7717c35"
      },
      "execution_count": 58,
      "outputs": [
        {
          "output_type": "execute_result",
          "data": {
            "text/plain": [
              "Date\n",
              "2004-09-03      49.82\n",
              "2004-09-01      49.94\n",
              "2004-08-19      49.98\n",
              "2004-09-02      50.57\n",
              "2004-09-07      50.60\n",
              "               ...   \n",
              "2019-04-23    1264.55\n",
              "2019-10-25    1265.13\n",
              "2018-07-26    1268.33\n",
              "2019-04-26    1272.18\n",
              "2019-04-29    1287.58\n",
              "Name: Close, Length: 3824, dtype: float64"
            ]
          },
          "metadata": {},
          "execution_count": 58
        }
      ]
    },
    {
      "cell_type": "code",
      "source": [
        "pokemon.sort_index()"
      ],
      "metadata": {
        "colab": {
          "base_uri": "https://localhost:8080/"
        },
        "id": "5fCS2bT6m1sI",
        "outputId": "c6a1fea1-5b24-4bb4-e5b8-8f8837fc7bf7"
      },
      "execution_count": 60,
      "outputs": [
        {
          "output_type": "execute_result",
          "data": {
            "text/plain": [
              "Pokemon\n",
              "Abomasnow        Grass / Ice\n",
              "Abra                 Psychic\n",
              "Absol                   Dark\n",
              "Accelgor                 Bug\n",
              "Aegislash      Steel / Ghost\n",
              "                  ...       \n",
              "Zoroark                 Dark\n",
              "Zorua                   Dark\n",
              "Zubat        Poison / Flying\n",
              "Zweilous       Dark / Dragon\n",
              "Zygarde      Dragon / Ground\n",
              "Name: Type, Length: 809, dtype: object"
            ]
          },
          "metadata": {},
          "execution_count": 60
        }
      ]
    },
    {
      "cell_type": "code",
      "source": [
        "pd.Series([\"AA\", \"aa\", \"BB\"]).sort_values()"
      ],
      "metadata": {
        "colab": {
          "base_uri": "https://localhost:8080/"
        },
        "id": "dcTxsppTm9Os",
        "outputId": "e592f803-b27d-4e27-85b0-751048e9d870"
      },
      "execution_count": 61,
      "outputs": [
        {
          "output_type": "execute_result",
          "data": {
            "text/plain": [
              "0    AA\n",
              "2    BB\n",
              "1    aa\n",
              "dtype: object"
            ]
          },
          "metadata": {},
          "execution_count": 61
        }
      ]
    },
    {
      "cell_type": "markdown",
      "source": [
        "ascending 매개변수 : 정렬 순서를 설정\n",
        "- 기본이 오름차순(True)\n",
        "- 내림차순(False)"
      ],
      "metadata": {
        "id": "sCyVchEKnIPt"
      }
    },
    {
      "cell_type": "code",
      "source": [
        "google.sort_values(ascending=False)\n",
        "pokemon.sort_index(ascending=False)"
      ],
      "metadata": {
        "colab": {
          "base_uri": "https://localhost:8080/"
        },
        "id": "AzkdhzPTnSop",
        "outputId": "3fc374ba-0aee-40e6-9453-bbf65fb20fb9"
      },
      "execution_count": 66,
      "outputs": [
        {
          "output_type": "execute_result",
          "data": {
            "text/plain": [
              "Pokemon\n",
              "Bulbasaur      Grass / Poison\n",
              "Ivysaur        Grass / Poison\n",
              "Venusaur       Grass / Poison\n",
              "Charmander               Fire\n",
              "Charmeleon               Fire\n",
              "                    ...      \n",
              "Stakataka        Rock / Steel\n",
              "Blacephalon      Fire / Ghost\n",
              "Zeraora              Electric\n",
              "Meltan                  Steel\n",
              "Melmetal                Steel\n",
              "Name: Type, Length: 809, dtype: object"
            ]
          },
          "metadata": {},
          "execution_count": 66
        }
      ]
    },
    {
      "cell_type": "code",
      "source": [
        "battles.sort_values()\n",
        "# battles"
      ],
      "metadata": {
        "colab": {
          "base_uri": "https://localhost:8080/"
        },
        "id": "31E572bpqlbZ",
        "outputId": "619f5293-b029-4952-ec6a-a91d983107ba"
      },
      "execution_count": 70,
      "outputs": [
        {
          "output_type": "execute_result",
          "data": {
            "text/plain": [
              "Start Date\n",
              "1781-09-06    Connecticut\n",
              "1779-07-05    Connecticut\n",
              "1777-04-27    Connecticut\n",
              "1777-09-03       Delaware\n",
              "1777-05-17        Florida\n",
              "                 ...     \n",
              "1782-08-08            NaN\n",
              "1782-08-25            NaN\n",
              "1782-09-13            NaN\n",
              "1782-10-18            NaN\n",
              "1782-12-06            NaN\n",
              "Name: State, Length: 232, dtype: object"
            ]
          },
          "metadata": {},
          "execution_count": 70
        }
      ]
    },
    {
      "cell_type": "markdown",
      "source": [
        "na_position 매개변수 : NaN 값의 배치\n",
        "- 기본이 \"last\"\n",
        "- \"first\""
      ],
      "metadata": {
        "id": "TK_wVn8Pqv4C"
      }
    },
    {
      "cell_type": "code",
      "source": [
        "battles.sort_values(na_position=\"first\")"
      ],
      "metadata": {
        "colab": {
          "base_uri": "https://localhost:8080/"
        },
        "id": "kw4JjgcKrQ1F",
        "outputId": "a693a3ec-0314-48e4-9bf0-dcfc6f38ba65"
      },
      "execution_count": 71,
      "outputs": [
        {
          "output_type": "execute_result",
          "data": {
            "text/plain": [
              "Start Date\n",
              "1775-09-17         NaN\n",
              "1775-12-31         NaN\n",
              "1776-03-03         NaN\n",
              "1776-03-25         NaN\n",
              "1776-05-18         NaN\n",
              "                ...   \n",
              "1781-07-06    Virginia\n",
              "1781-07-01    Virginia\n",
              "1781-06-26    Virginia\n",
              "1781-04-25    Virginia\n",
              "1783-01-22    Virginia\n",
              "Name: State, Length: 232, dtype: object"
            ]
          },
          "metadata": {},
          "execution_count": 71
        }
      ]
    },
    {
      "cell_type": "markdown",
      "source": [
        "dropna 메서드 : 결측치 제거한 새 Series 반환\n",
        "- Series의 인덱스가 아닌 Value가 결측치인 것을 제거"
      ],
      "metadata": {
        "id": "vIW5fZIfrXVY"
      }
    },
    {
      "cell_type": "code",
      "source": [
        "battles.dropna().sort_values()"
      ],
      "metadata": {
        "colab": {
          "base_uri": "https://localhost:8080/"
        },
        "id": "tIqY3I0erwrC",
        "outputId": "b63c84b2-efef-4346-aaa6-83d0c60a937b"
      },
      "execution_count": 72,
      "outputs": [
        {
          "output_type": "execute_result",
          "data": {
            "text/plain": [
              "Start Date\n",
              "1781-09-06    Connecticut\n",
              "1779-07-05    Connecticut\n",
              "1777-04-27    Connecticut\n",
              "1777-09-03       Delaware\n",
              "1777-05-17        Florida\n",
              "                 ...     \n",
              "1781-07-06       Virginia\n",
              "1781-07-01       Virginia\n",
              "1781-06-26       Virginia\n",
              "1781-04-25       Virginia\n",
              "1783-01-22       Virginia\n",
              "Name: State, Length: 162, dtype: object"
            ]
          },
          "metadata": {},
          "execution_count": 72
        }
      ]
    },
    {
      "cell_type": "markdown",
      "source": [
        "### 3.2.2 sort_index 메서드를 사용해서 인덱스 기준으로 정렬\n",
        "\n",
        "sort_index 메서드 : 인덱스를 기준으로 Series 정렬"
      ],
      "metadata": {
        "id": "mLKiifg4sD2U"
      }
    },
    {
      "cell_type": "code",
      "source": [
        "pokemon.sort_index(ascending=True)"
      ],
      "metadata": {
        "colab": {
          "base_uri": "https://localhost:8080/"
        },
        "id": "TPP9LgyssNgv",
        "outputId": "9326d0c3-b7bd-4824-868f-05a03bdf63a5"
      },
      "execution_count": 75,
      "outputs": [
        {
          "output_type": "execute_result",
          "data": {
            "text/plain": [
              "Pokemon\n",
              "Abomasnow        Grass / Ice\n",
              "Abra                 Psychic\n",
              "Absol                   Dark\n",
              "Accelgor                 Bug\n",
              "Aegislash      Steel / Ghost\n",
              "                  ...       \n",
              "Zoroark                 Dark\n",
              "Zorua                   Dark\n",
              "Zubat        Poison / Flying\n",
              "Zweilous       Dark / Dragon\n",
              "Zygarde      Dragon / Ground\n",
              "Name: Type, Length: 809, dtype: object"
            ]
          },
          "metadata": {},
          "execution_count": 75
        }
      ]
    },
    {
      "cell_type": "markdown",
      "source": [
        "날짜 데이터의 오름차순 정렬은 예전 날짜에서 최근 날짜로\n",
        "- NaT : not a time"
      ],
      "metadata": {
        "id": "I2QDM05rseS3"
      }
    },
    {
      "cell_type": "code",
      "source": [
        "battles.sort_index().dropna()"
      ],
      "metadata": {
        "colab": {
          "base_uri": "https://localhost:8080/"
        },
        "id": "mNOurhgwsgtm",
        "outputId": "0f00ae96-70d7-4bc5-e7bc-5b8e209b2bdf"
      },
      "execution_count": 81,
      "outputs": [
        {
          "output_type": "execute_result",
          "data": {
            "text/plain": [
              "Start Date\n",
              "1774-09-01     Massachusetts\n",
              "1774-12-14     New Hampshire\n",
              "1775-04-19     Massachusetts\n",
              "1775-04-19     Massachusetts\n",
              "1775-04-20          Virginia\n",
              "                   ...      \n",
              "1782-08-26    South Carolina\n",
              "1782-09-11          Virginia\n",
              "1783-01-22          Virginia\n",
              "NaT               New Jersey\n",
              "NaT                 Virginia\n",
              "Name: State, Length: 162, dtype: object"
            ]
          },
          "metadata": {},
          "execution_count": 81
        }
      ]
    },
    {
      "cell_type": "markdown",
      "source": [
        "na_position 매개변수 : 결측치 배치\n",
        "- 기본 : \"last\""
      ],
      "metadata": {
        "id": "Z6nwHs39tBAM"
      }
    },
    {
      "cell_type": "code",
      "source": [
        "battles.sort_index(na_position=\"first\")"
      ],
      "metadata": {
        "colab": {
          "base_uri": "https://localhost:8080/"
        },
        "id": "OWY3Cl6WtGUF",
        "outputId": "299cd6ca-6b75-49c3-c3ba-96b0ab37253b"
      },
      "execution_count": 84,
      "outputs": [
        {
          "output_type": "execute_result",
          "data": {
            "text/plain": [
              "Start Date\n",
              "NaT              New Jersey\n",
              "NaT                Virginia\n",
              "NaT                     NaN\n",
              "NaT                     NaN\n",
              "1774-09-01    Massachusetts\n",
              "                  ...      \n",
              "1782-09-11         Virginia\n",
              "1782-09-13              NaN\n",
              "1782-10-18              NaN\n",
              "1782-12-06              NaN\n",
              "1783-01-22         Virginia\n",
              "Name: State, Length: 232, dtype: object"
            ]
          },
          "metadata": {},
          "execution_count": 84
        }
      ]
    },
    {
      "cell_type": "markdown",
      "source": [
        "### 3.2.3 nsmallest와 nlargest 메서드를 사용하여 가장 작은 값과 가장 큰 값 검색\n",
        "\n",
        "구글 주가가 가장 좋았던 날짜 5개를 찾고 싶다면?\n",
        "\n",
        "풀이법 1)\n",
        "- 값을 기준으로 내림차순 정렬하여 제일 앞 5개 추출\n",
        "\n",
        "풀이법 2)\n",
        "- nlargest 메서드 : Series에서 가장 큰 값을 반환\n",
        "- n 매개변수 : 반환 갯수 설정(기본 : 5)\n",
        "- 반환된 Series는 내림차순으로 정렬되어 있음"
      ],
      "metadata": {
        "id": "maXsDhgjtUGZ"
      }
    },
    {
      "cell_type": "code",
      "source": [
        "google.sort_values(ascending=False).head().index"
      ],
      "metadata": {
        "colab": {
          "base_uri": "https://localhost:8080/"
        },
        "id": "3pFaWoKXtcDJ",
        "outputId": "eb119bb7-ddbf-4072-ab4f-01a0258bdc0a"
      },
      "execution_count": 87,
      "outputs": [
        {
          "output_type": "execute_result",
          "data": {
            "text/plain": [
              "DatetimeIndex(['2019-04-29', '2019-04-26', '2018-07-26', '2019-10-25',\n",
              "               '2019-04-23'],\n",
              "              dtype='datetime64[ns]', name='Date', freq=None)"
            ]
          },
          "metadata": {},
          "execution_count": 87
        }
      ]
    },
    {
      "cell_type": "code",
      "source": [
        "google.nlargest()\n",
        "google.nlargest(n=5).index"
      ],
      "metadata": {
        "colab": {
          "base_uri": "https://localhost:8080/"
        },
        "id": "_jjJnApMuYeM",
        "outputId": "bf34b8e5-2536-4059-ba3f-bdccff15ccc8"
      },
      "execution_count": 91,
      "outputs": [
        {
          "output_type": "execute_result",
          "data": {
            "text/plain": [
              "DatetimeIndex(['2019-04-29', '2019-04-26', '2018-07-26', '2019-10-25',\n",
              "               '2019-04-23'],\n",
              "              dtype='datetime64[ns]', name='Date', freq=None)"
            ]
          },
          "metadata": {},
          "execution_count": 91
        }
      ]
    },
    {
      "cell_type": "code",
      "source": [
        "# pokemon.nlargest() # 수치값을 가지는 경우가 아니면 에러\n",
        "pokemon"
      ],
      "metadata": {
        "colab": {
          "base_uri": "https://localhost:8080/"
        },
        "id": "yB2Caojbus3i",
        "outputId": "8c9af762-d302-43e4-e407-308876abeaa0"
      },
      "execution_count": 93,
      "outputs": [
        {
          "output_type": "execute_result",
          "data": {
            "text/plain": [
              "Pokemon\n",
              "Bulbasaur      Grass / Poison\n",
              "Ivysaur        Grass / Poison\n",
              "Venusaur       Grass / Poison\n",
              "Charmander               Fire\n",
              "Charmeleon               Fire\n",
              "                    ...      \n",
              "Stakataka        Rock / Steel\n",
              "Blacephalon      Fire / Ghost\n",
              "Zeraora              Electric\n",
              "Meltan                  Steel\n",
              "Melmetal                Steel\n",
              "Name: Type, Length: 809, dtype: object"
            ]
          },
          "metadata": {},
          "execution_count": 93
        }
      ]
    },
    {
      "cell_type": "code",
      "source": [
        "google.nsmallest(n=5)"
      ],
      "metadata": {
        "colab": {
          "base_uri": "https://localhost:8080/"
        },
        "id": "QyBx3Sbnu25c",
        "outputId": "fc7f661e-64c2-41ad-a1f9-1c4634de700c"
      },
      "execution_count": 94,
      "outputs": [
        {
          "output_type": "execute_result",
          "data": {
            "text/plain": [
              "Date\n",
              "2004-09-03    49.82\n",
              "2004-09-01    49.94\n",
              "2004-08-19    49.98\n",
              "2004-09-02    50.57\n",
              "2004-09-07    50.60\n",
              "Name: Close, dtype: float64"
            ]
          },
          "metadata": {},
          "execution_count": 94
        }
      ]
    },
    {
      "cell_type": "markdown",
      "source": [
        "## inplace 매개변수로 Series 덮어쓰기\n",
        "\n"
      ],
      "metadata": {
        "id": "S1wlZ082vGCK"
      }
    },
    {
      "cell_type": "code",
      "source": [
        "battles.head(3)"
      ],
      "metadata": {
        "colab": {
          "base_uri": "https://localhost:8080/"
        },
        "id": "7CZVd4uTvUDe",
        "outputId": "c427950b-5f05-4190-84ae-57b20d228575"
      },
      "execution_count": 95,
      "outputs": [
        {
          "output_type": "execute_result",
          "data": {
            "text/plain": [
              "Start Date\n",
              "1774-09-01    Massachusetts\n",
              "1774-12-14    New Hampshire\n",
              "1775-04-19    Massachusetts\n",
              "Name: State, dtype: object"
            ]
          },
          "metadata": {},
          "execution_count": 95
        }
      ]
    },
    {
      "cell_type": "code",
      "source": [
        "battles.sort_values().head(3)"
      ],
      "metadata": {
        "colab": {
          "base_uri": "https://localhost:8080/"
        },
        "id": "KM22zwxzvYtH",
        "outputId": "26162810-af8d-4da2-ab27-94a794bc9f48"
      },
      "execution_count": 96,
      "outputs": [
        {
          "output_type": "execute_result",
          "data": {
            "text/plain": [
              "Start Date\n",
              "1781-09-06    Connecticut\n",
              "1779-07-05    Connecticut\n",
              "1777-04-27    Connecticut\n",
              "Name: State, dtype: object"
            ]
          },
          "metadata": {},
          "execution_count": 96
        }
      ]
    },
    {
      "cell_type": "markdown",
      "source": [
        "inplace 매개변수 : Series 객체를 수정할 때 사용\n",
        "- 기본값 : False\n",
        "- 수정하고 싶을 때 : True"
      ],
      "metadata": {
        "id": "_16TKwrmvp2m"
      }
    },
    {
      "cell_type": "code",
      "source": [
        "battles.head(3)"
      ],
      "metadata": {
        "colab": {
          "base_uri": "https://localhost:8080/"
        },
        "id": "oQ5usKBKv0rV",
        "outputId": "4bcf059e-56a9-44b0-9d97-d0b8a3e9179c"
      },
      "execution_count": 97,
      "outputs": [
        {
          "output_type": "execute_result",
          "data": {
            "text/plain": [
              "Start Date\n",
              "1774-09-01    Massachusetts\n",
              "1774-12-14    New Hampshire\n",
              "1775-04-19    Massachusetts\n",
              "Name: State, dtype: object"
            ]
          },
          "metadata": {},
          "execution_count": 97
        }
      ]
    },
    {
      "cell_type": "code",
      "source": [
        "# battles.sort_values(inplace=True) # 덮어쓰기 됨\n",
        "battles.head(3)"
      ],
      "metadata": {
        "colab": {
          "base_uri": "https://localhost:8080/"
        },
        "id": "UL6xGO4Yv4ZH",
        "outputId": "c9183d6f-8ac5-4ab6-e622-8662217158e4"
      },
      "execution_count": 101,
      "outputs": [
        {
          "output_type": "execute_result",
          "data": {
            "text/plain": [
              "Start Date\n",
              "1781-09-06    Connecticut\n",
              "1779-07-05    Connecticut\n",
              "1777-04-27    Connecticut\n",
              "Name: State, dtype: object"
            ]
          },
          "metadata": {},
          "execution_count": 101
        }
      ]
    },
    {
      "cell_type": "markdown",
      "source": [
        "주의사항\n",
        "- 기존 방식이 매번 반환값으로 Series 객체를 생성하여 반환하는 것 때문에 메모리 사용량을 걱정하여 \"inplace=True\"로 사용하여 반환없이 수정하고 싶어도 아무런 효과가 없음\n",
        " - 판다스는 항상 복사본을 생성함\n",
        "\n",
        "아래의 두 명령어는 동일함"
      ],
      "metadata": {
        "id": "e3vGv9TLwbOV"
      }
    },
    {
      "cell_type": "code",
      "source": [
        "battles.sort_values(inplace=True)\n",
        "battles = battles.sort_values()"
      ],
      "metadata": {
        "id": "bmboCdy2wuf7"
      },
      "execution_count": null,
      "outputs": []
    },
    {
      "cell_type": "markdown",
      "source": [
        "inplace 매개변수는 사용을 권장하지 않음"
      ],
      "metadata": {
        "id": "D_5b1ZimxHYj"
      }
    },
    {
      "cell_type": "markdown",
      "source": [
        "## 3.4 value_counts 메서드로 값 계산하기\n",
        "\n",
        "포켓몬의 가장 흔한 유형은 무엇인가?\n",
        "- 값들의 빈도수를 카운팅해야함\n",
        "\n",
        "value_counts 메서드 : Series의 Value들의 발생횟수를 카운팅해서 새 Series로 반환\n",
        "- 인덱스 레이블 : 기존 Series의 Value\n",
        "- 값 : 기존 Series의 Value 빈도수"
      ],
      "metadata": {
        "id": "D19IfDcWxPe9"
      }
    },
    {
      "cell_type": "code",
      "source": [
        "pokemon.value_counts()"
      ],
      "metadata": {
        "colab": {
          "base_uri": "https://localhost:8080/"
        },
        "id": "X8pOvxFBxxHk",
        "outputId": "baedf126-c862-4f23-a591-e602c3029c30"
      },
      "execution_count": 102,
      "outputs": [
        {
          "output_type": "execute_result",
          "data": {
            "text/plain": [
              "Normal                65\n",
              "Water                 61\n",
              "Grass                 38\n",
              "Psychic               35\n",
              "Fire                  30\n",
              "                      ..\n",
              "Fire / Psychic         1\n",
              "Normal / Ground        1\n",
              "Psychic / Fighting     1\n",
              "Dark / Ghost           1\n",
              "Fire / Ghost           1\n",
              "Name: Type, Length: 159, dtype: int64"
            ]
          },
          "metadata": {},
          "execution_count": 102
        }
      ]
    },
    {
      "cell_type": "markdown",
      "source": [
        "당연히 value_counts 메서드의 반환 Series의 길이는 nunique 메서드의 결과와 같다."
      ],
      "metadata": {
        "id": "0uoU4oBUybIm"
      }
    },
    {
      "cell_type": "code",
      "source": [
        "len(pokemon.value_counts())"
      ],
      "metadata": {
        "colab": {
          "base_uri": "https://localhost:8080/"
        },
        "id": "Rx9PvgciymL4",
        "outputId": "e734e62a-c567-4537-82f6-aed905b7d963"
      },
      "execution_count": 104,
      "outputs": [
        {
          "output_type": "execute_result",
          "data": {
            "text/plain": [
              "159"
            ]
          },
          "metadata": {},
          "execution_count": 104
        }
      ]
    },
    {
      "cell_type": "code",
      "source": [
        "pokemon.nunique()"
      ],
      "metadata": {
        "colab": {
          "base_uri": "https://localhost:8080/"
        },
        "id": "xiH60mrVytCE",
        "outputId": "c6f5332d-e173-411b-8506-b7c3f7053204"
      },
      "execution_count": 107,
      "outputs": [
        {
          "output_type": "execute_result",
          "data": {
            "text/plain": [
              "159"
            ]
          },
          "metadata": {},
          "execution_count": 107
        }
      ]
    },
    {
      "cell_type": "markdown",
      "source": [
        "ascending 매개변수 :\n",
        "- 기본 : False(내림차순)\n",
        "- 오름차순 : True"
      ],
      "metadata": {
        "id": "fm-BmEgizPkx"
      }
    },
    {
      "cell_type": "code",
      "source": [
        "pokemon.value_counts(ascending=True)"
      ],
      "metadata": {
        "colab": {
          "base_uri": "https://localhost:8080/"
        },
        "id": "WiywmbxAzKIg",
        "outputId": "0f151930-b269-4ace-b896-014d754f3390"
      },
      "execution_count": 108,
      "outputs": [
        {
          "output_type": "execute_result",
          "data": {
            "text/plain": [
              "Fire / Ghost         1\n",
              "Fighting / Dark      1\n",
              "Fighting / Steel     1\n",
              "Normal / Ground      1\n",
              "Fire / Psychic       1\n",
              "                    ..\n",
              "Fire                30\n",
              "Psychic             35\n",
              "Grass               38\n",
              "Water               61\n",
              "Normal              65\n",
              "Name: Type, Length: 159, dtype: int64"
            ]
          },
          "metadata": {},
          "execution_count": 108
        }
      ]
    },
    {
      "cell_type": "markdown",
      "source": [
        "포켓몬의 각 유형별 비율을 알고 싶을 때\n",
        "- normalize 매개변수 : True로 설정하면 빈도수를 비율로 반환"
      ],
      "metadata": {
        "id": "auGTF4axzZrD"
      }
    },
    {
      "cell_type": "code",
      "source": [
        "(pokemon.value_counts(normalize=True)*100).round(2)"
      ],
      "metadata": {
        "colab": {
          "base_uri": "https://localhost:8080/"
        },
        "id": "AKfRA3LmzgP1",
        "outputId": "ee10f8db-ea22-465c-e1ac-9c4f94710178"
      },
      "execution_count": 117,
      "outputs": [
        {
          "output_type": "execute_result",
          "data": {
            "text/plain": [
              "Normal                8.03\n",
              "Water                 7.54\n",
              "Grass                 4.70\n",
              "Psychic               4.33\n",
              "Fire                  3.71\n",
              "                      ... \n",
              "Fire / Psychic        0.12\n",
              "Normal / Ground       0.12\n",
              "Psychic / Fighting    0.12\n",
              "Dark / Ghost          0.12\n",
              "Fire / Ghost          0.12\n",
              "Name: Type, Length: 159, dtype: float64"
            ]
          },
          "metadata": {},
          "execution_count": 117
        }
      ]
    },
    {
      "cell_type": "markdown",
      "source": [
        "round() : 소숫점 몇 번째 자리까지 남겨두고 반올림"
      ],
      "metadata": {
        "id": "p3_nvz2g0FsO"
      }
    },
    {
      "cell_type": "markdown",
      "source": [
        "Google의 주가를 고유값별로 빈도 카운팅"
      ],
      "metadata": {
        "id": "_BO9Iggt0LSu"
      }
    },
    {
      "cell_type": "code",
      "source": [
        "google.value_counts()"
      ],
      "metadata": {
        "colab": {
          "base_uri": "https://localhost:8080/"
        },
        "id": "GPEOZhBP4Yzv",
        "outputId": "e97b05ab-9b2f-402c-9b62-ebdad24090f3"
      },
      "execution_count": 119,
      "outputs": [
        {
          "output_type": "execute_result",
          "data": {
            "text/plain": [
              "287.68     3\n",
              "194.27     3\n",
              "307.10     3\n",
              "288.92     3\n",
              "290.41     3\n",
              "          ..\n",
              "292.43     1\n",
              "293.41     1\n",
              "296.75     1\n",
              "295.46     1\n",
              "1265.13    1\n",
              "Name: Close, Length: 3696, dtype: int64"
            ]
          },
          "metadata": {},
          "execution_count": 119
        }
      ]
    },
    {
      "cell_type": "markdown",
      "source": [
        "숫자 데이터에 대한 고유값 빈도수 카운팅의 경우, 구간으로 나눠서 빈도수를 구하는 것이 더 유용함\n",
        "- 데이터의 범위를 확인해야함"
      ],
      "metadata": {
        "id": "bir67liO4t-g"
      }
    },
    {
      "cell_type": "code",
      "source": [
        "google.max()"
      ],
      "metadata": {
        "colab": {
          "base_uri": "https://localhost:8080/"
        },
        "id": "2GdDerYP47U7",
        "outputId": "5084ba00-18c3-4367-e29a-e87064dd330d"
      },
      "execution_count": 120,
      "outputs": [
        {
          "output_type": "execute_result",
          "data": {
            "text/plain": [
              "1287.58"
            ]
          },
          "metadata": {},
          "execution_count": 120
        }
      ]
    },
    {
      "cell_type": "code",
      "source": [
        "google.min()"
      ],
      "metadata": {
        "colab": {
          "base_uri": "https://localhost:8080/"
        },
        "id": "AS8smA2n492u",
        "outputId": "f4372c59-4e02-4e74-aa21-af066e356b3a"
      },
      "execution_count": 121,
      "outputs": [
        {
          "output_type": "execute_result",
          "data": {
            "text/plain": [
              "49.82"
            ]
          },
          "metadata": {},
          "execution_count": 121
        }
      ]
    },
    {
      "cell_type": "markdown",
      "source": [
        "실제 범위는 49.82에서 1287.58 이지만 0~1400으로 잡고, 200단위로 구간을 나눠보자.\n",
        "- bins 매개변수 : 구간을 리스트의 값으로 설정함\n",
        " - 리스트 값의 모든 인접한 쌍을 각 구간의 하한~상한으로 사용\n",
        " - 반환 Series는 빈도수에 따라 내림차순으로 정렬됨"
      ],
      "metadata": {
        "id": "RQGCIFP65EN1"
      }
    },
    {
      "cell_type": "code",
      "source": [
        "buckets = [0, 200, 400, 600, 800, 1000, 1200, 1400]\n",
        "google.value_counts(bins=buckets)"
      ],
      "metadata": {
        "colab": {
          "base_uri": "https://localhost:8080/"
        },
        "id": "TfkFb3r05k6b",
        "outputId": "7c841a2f-2b84-403e-95de-950c55f08086"
      },
      "execution_count": 123,
      "outputs": [
        {
          "output_type": "execute_result",
          "data": {
            "text/plain": [
              "(200.0, 400.0]      1568\n",
              "(-0.001, 200.0]      595\n",
              "(400.0, 600.0]       575\n",
              "(1000.0, 1200.0]     406\n",
              "(600.0, 800.0]       380\n",
              "(800.0, 1000.0]      207\n",
              "(1200.0, 1400.0]      93\n",
              "Name: Close, dtype: int64"
            ]
          },
          "metadata": {},
          "execution_count": 123
        }
      ]
    },
    {
      "cell_type": "markdown",
      "source": [
        "빈도수가 아닌 인덱스에 따른 정렬을 하려면\n",
        "- sort_index 메서드"
      ],
      "metadata": {
        "id": "9esBvmI36Ev7"
      }
    },
    {
      "cell_type": "code",
      "source": [
        "buckets = [0, 200, 400, 600, 800, 1000, 1200, 1400]\n",
        "google.value_counts(bins=buckets).sort_index()"
      ],
      "metadata": {
        "colab": {
          "base_uri": "https://localhost:8080/"
        },
        "id": "QAw49vIS6Lg2",
        "outputId": "98584c2a-479a-4bad-d1c3-0ea60b5485a9"
      },
      "execution_count": 124,
      "outputs": [
        {
          "output_type": "execute_result",
          "data": {
            "text/plain": [
              "(-0.001, 200.0]      595\n",
              "(200.0, 400.0]      1568\n",
              "(400.0, 600.0]       575\n",
              "(600.0, 800.0]       380\n",
              "(800.0, 1000.0]      207\n",
              "(1000.0, 1200.0]     406\n",
              "(1200.0, 1400.0]      93\n",
              "Name: Close, dtype: int64"
            ]
          },
          "metadata": {},
          "execution_count": 124
        }
      ]
    },
    {
      "cell_type": "markdown",
      "source": [
        "sort 매개변수 : value_counts의 반환 Series에 대한 정렬 여부\n",
        "- 기본 : True(값을 기준으로 내림차순 정렬함)\n",
        "- False : 인덱스를 기준으로 오름차순 정렬"
      ],
      "metadata": {
        "id": "Qh5ouTh56oZm"
      }
    },
    {
      "cell_type": "code",
      "source": [
        "google.value_counts(bins=buckets, sort=False)"
      ],
      "metadata": {
        "colab": {
          "base_uri": "https://localhost:8080/"
        },
        "id": "Z0Fo3ms_6sVb",
        "outputId": "3ec87799-29e6-4f94-8db8-969ddcb9ddea"
      },
      "execution_count": 125,
      "outputs": [
        {
          "output_type": "execute_result",
          "data": {
            "text/plain": [
              "(-0.001, 200.0]      595\n",
              "(200.0, 400.0]      1568\n",
              "(400.0, 600.0]       575\n",
              "(600.0, 800.0]       380\n",
              "(800.0, 1000.0]      207\n",
              "(1000.0, 1200.0]     406\n",
              "(1200.0, 1400.0]      93\n",
              "Name: Close, dtype: int64"
            ]
          },
          "metadata": {},
          "execution_count": 125
        }
      ]
    },
    {
      "cell_type": "markdown",
      "source": [
        "(-0.001, 200.0] : -0.001보다 크고, 200 이하라는 의미\n",
        "- 소괄호('(')는 개구간으로 값은 제외함을 의미\n",
        "- 대괄호(']')는 폐구간으로 값을 포함함을 의미\n",
        " - \"(-0.001, 200.0]\"는 \"반개구간\"임\n",
        "\n",
        "bins 매개변수 : 정수도 입력가능\n",
        "- 최댓값과 최솟값의 차이를 자동으로 계산해서, 입력받은 정수의 갯수만큼 등간격으로 구간들을 만들어줌"
      ],
      "metadata": {
        "id": "XMneT3ZD7LzN"
      }
    },
    {
      "cell_type": "code",
      "source": [
        "google.value_counts(bins=6, sort=False)"
      ],
      "metadata": {
        "colab": {
          "base_uri": "https://localhost:8080/"
        },
        "id": "Ft0C_T7-8Ro0",
        "outputId": "e58c1d05-441e-4318-d240-c7f8e0d7d338"
      },
      "execution_count": 126,
      "outputs": [
        {
          "output_type": "execute_result",
          "data": {
            "text/plain": [
              "(48.581, 256.113]      1204\n",
              "(256.113, 462.407]     1104\n",
              "(462.407, 668.7]        507\n",
              "(668.7, 874.993]        380\n",
              "(874.993, 1081.287]     292\n",
              "(1081.287, 1287.58]     337\n",
              "Name: Close, dtype: int64"
            ]
          },
          "metadata": {},
          "execution_count": 126
        }
      ]
    },
    {
      "cell_type": "markdown",
      "source": [
        "battles 데이터셋을 다뤄보자."
      ],
      "metadata": {
        "id": "Xqt2revt8iw9"
      }
    },
    {
      "cell_type": "code",
      "source": [
        "battles"
      ],
      "metadata": {
        "colab": {
          "base_uri": "https://localhost:8080/"
        },
        "id": "ZEUXe_Fa8nd_",
        "outputId": "d7f8cde4-8f06-4b94-bef3-d58dbad16ecd"
      },
      "execution_count": 127,
      "outputs": [
        {
          "output_type": "execute_result",
          "data": {
            "text/plain": [
              "Start Date\n",
              "1781-09-06    Connecticut\n",
              "1779-07-05    Connecticut\n",
              "1777-04-27    Connecticut\n",
              "1777-09-03       Delaware\n",
              "1777-05-17        Florida\n",
              "                 ...     \n",
              "1782-08-08            NaN\n",
              "1782-08-25            NaN\n",
              "1782-09-13            NaN\n",
              "1782-10-18            NaN\n",
              "1782-12-06            NaN\n",
              "Name: State, Length: 232, dtype: object"
            ]
          },
          "metadata": {},
          "execution_count": 127
        }
      ]
    },
    {
      "cell_type": "markdown",
      "source": [
        "독립전쟁에서 가장 많은 전투를 벌인 주는?"
      ],
      "metadata": {
        "id": "mJTNlu0O8wAX"
      }
    },
    {
      "cell_type": "code",
      "source": [
        "battles.value_counts()"
      ],
      "metadata": {
        "colab": {
          "base_uri": "https://localhost:8080/"
        },
        "id": "buVLmj3c8xzF",
        "outputId": "4097a638-fd4a-4957-abc7-606aab4bf2f6"
      },
      "execution_count": 129,
      "outputs": [
        {
          "output_type": "execute_result",
          "data": {
            "text/plain": [
              "South Carolina    31\n",
              "New York          28\n",
              "New Jersey        24\n",
              "Virginia          21\n",
              "Massachusetts     11\n",
              "Pennsylvania      10\n",
              "North Carolina     9\n",
              "Florida            8\n",
              "Georgia            6\n",
              "Rhode Island       3\n",
              "Vermont            3\n",
              "Connecticut        3\n",
              "Indiana            1\n",
              "Louisiana          1\n",
              "New Hampshire      1\n",
              "Delaware           1\n",
              "Ohio               1\n",
              "Name: State, dtype: int64"
            ]
          },
          "metadata": {},
          "execution_count": 129
        }
      ]
    },
    {
      "cell_type": "markdown",
      "source": [
        "dropna = False : NaN값을 포함해서 카운팅함"
      ],
      "metadata": {
        "id": "VFrUNK6j9GZ_"
      }
    },
    {
      "cell_type": "code",
      "source": [
        "battles.value_counts(dropna=False)"
      ],
      "metadata": {
        "colab": {
          "base_uri": "https://localhost:8080/"
        },
        "id": "qNNOWOOt9MRo",
        "outputId": "8d892cf0-a20d-4c7b-f01a-da827ae1bd1a"
      },
      "execution_count": 130,
      "outputs": [
        {
          "output_type": "execute_result",
          "data": {
            "text/plain": [
              "NaN               70\n",
              "South Carolina    31\n",
              "New York          28\n",
              "New Jersey        24\n",
              "Virginia          21\n",
              "Massachusetts     11\n",
              "Pennsylvania      10\n",
              "North Carolina     9\n",
              "Florida            8\n",
              "Georgia            6\n",
              "Rhode Island       3\n",
              "Vermont            3\n",
              "Connecticut        3\n",
              "Indiana            1\n",
              "Louisiana          1\n",
              "New Hampshire      1\n",
              "Delaware           1\n",
              "Ohio               1\n",
              "Name: State, dtype: int64"
            ]
          },
          "metadata": {},
          "execution_count": 130
        }
      ]
    },
    {
      "cell_type": "markdown",
      "source": [
        "독립전쟁 중 가장 많은 전투가 일어난 날짜는?"
      ],
      "metadata": {
        "id": "NKlcQMXy9bnV"
      }
    },
    {
      "cell_type": "code",
      "source": [
        "battles.index.value_counts()"
      ],
      "metadata": {
        "colab": {
          "base_uri": "https://localhost:8080/"
        },
        "id": "KynosQki9gqI",
        "outputId": "415ea151-ebef-431f-84ad-e092a0877831"
      },
      "execution_count": 133,
      "outputs": [
        {
          "output_type": "execute_result",
          "data": {
            "text/plain": [
              "1781-04-25    2\n",
              "1781-04-15    2\n",
              "1777-08-22    2\n",
              "1782-01-11    2\n",
              "1775-04-19    2\n",
              "             ..\n",
              "1776-09-16    1\n",
              "1781-10-25    1\n",
              "1777-07-08    1\n",
              "1779-07-22    1\n",
              "1782-12-06    1\n",
              "Name: Start Date, Length: 217, dtype: int64"
            ]
          },
          "metadata": {},
          "execution_count": 133
        }
      ]
    },
    {
      "cell_type": "markdown",
      "source": [
        "## 3.5 apply 메서드를 사용하여 모든 Series 값에 대한 함수 호출"
      ],
      "metadata": {
        "id": "ue6oeUiZ9xkR"
      }
    },
    {
      "cell_type": "code",
      "source": [
        "round(99.5)"
      ],
      "metadata": {
        "colab": {
          "base_uri": "https://localhost:8080/"
        },
        "id": "CGduxZHh-FwG",
        "outputId": "bbd00901-a3d0-4e68-cb46-face64c20941"
      },
      "execution_count": 134,
      "outputs": [
        {
          "output_type": "execute_result",
          "data": {
            "text/plain": [
              "100"
            ]
          },
          "metadata": {},
          "execution_count": 134
        }
      ]
    },
    {
      "cell_type": "code",
      "source": [
        "google.apply(round)"
      ],
      "metadata": {
        "colab": {
          "base_uri": "https://localhost:8080/"
        },
        "id": "WEkFUZ8Q-IAK",
        "outputId": "c893b92d-0577-4ad8-a8fe-1a0dab2df53d"
      },
      "execution_count": 138,
      "outputs": [
        {
          "output_type": "execute_result",
          "data": {
            "text/plain": [
              "Date\n",
              "2004-08-19      50\n",
              "2004-08-20      54\n",
              "2004-08-23      54\n",
              "2004-08-24      52\n",
              "2004-08-25      53\n",
              "              ... \n",
              "2019-10-21    1246\n",
              "2019-10-22    1243\n",
              "2019-10-23    1259\n",
              "2019-10-24    1261\n",
              "2019-10-25    1265\n",
              "Name: Close, Length: 3824, dtype: int64"
            ]
          },
          "metadata": {},
          "execution_count": 138
        }
      ]
    },
    {
      "cell_type": "markdown",
      "source": [
        "한 가지 유형을 가지는 포켓몬과 두 가지 유형을 가지는 포켓몬이 각각 몇마리인지 알고 싶은 경우"
      ],
      "metadata": {
        "id": "TagsKrmv-sSJ"
      }
    },
    {
      "cell_type": "code",
      "source": [
        "def single_or_multi(ptype):\n",
        "  if \"/\" in ptype:\n",
        "    return \"Multi\"\n",
        "  return \"Single\""
      ],
      "metadata": {
        "id": "PPssLT0o-zS3"
      },
      "execution_count": 139,
      "outputs": []
    },
    {
      "cell_type": "code",
      "source": [
        "pokemon.apply(single_or_multi).value_counts()"
      ],
      "metadata": {
        "colab": {
          "base_uri": "https://localhost:8080/"
        },
        "id": "pyP0kjTV_Yyr",
        "outputId": "b4b6f902-3309-4c4a-a0b7-239a4f43a972"
      },
      "execution_count": 141,
      "outputs": [
        {
          "output_type": "execute_result",
          "data": {
            "text/plain": [
              "Multi     405\n",
              "Single    404\n",
              "Name: Type, dtype: int64"
            ]
          },
          "metadata": {},
          "execution_count": 141
        }
      ]
    },
    {
      "cell_type": "markdown",
      "source": [
        "## 3.6 코딩 챌린지"
      ],
      "metadata": {
        "id": "1-Ceyp4i_ICO"
      }
    },
    {
      "cell_type": "code",
      "source": [
        "import datetime as dt\n",
        "today = dt.datetime(2023, 10, 13)\n",
        "today.strftime(\"%A\")"
      ],
      "metadata": {
        "colab": {
          "base_uri": "https://localhost:8080/",
          "height": 35
        },
        "id": "tC7oq9Jf_1Yc",
        "outputId": "f0c04d44-aedd-48f5-a37b-72f0f0fd1498"
      },
      "execution_count": 143,
      "outputs": [
        {
          "output_type": "execute_result",
          "data": {
            "text/plain": [
              "'Friday'"
            ],
            "application/vnd.google.colaboratory.intrinsic+json": {
              "type": "string"
            }
          },
          "metadata": {},
          "execution_count": 143
        }
      ]
    },
    {
      "cell_type": "code",
      "source": [
        "def day_of_week(date):\n",
        "  return date.strftime(\"%A\")"
      ],
      "metadata": {
        "id": "cQBJg41JAs32"
      },
      "execution_count": 144,
      "outputs": []
    },
    {
      "cell_type": "code",
      "source": [
        "days_of_war = pd.read_csv(\"revolutionary_war.csv\", parse_dates=[\"Start Date\"], usecols=[\"Start Date\"], squeeze=True)\n",
        "days_of_war"
      ],
      "metadata": {
        "colab": {
          "base_uri": "https://localhost:8080/"
        },
        "id": "Xsxk2qZFAzht",
        "outputId": "bce13b6c-13d5-4581-b4b7-03d8b4ae6ecf"
      },
      "execution_count": 155,
      "outputs": [
        {
          "output_type": "stream",
          "name": "stderr",
          "text": [
            "<ipython-input-155-62776a7cc91b>:1: FutureWarning: The squeeze argument has been deprecated and will be removed in a future version. Append .squeeze(\"columns\") to the call to squeeze.\n",
            "\n",
            "\n",
            "  days_of_war = pd.read_csv(\"revolutionary_war.csv\", parse_dates=[\"Start Date\"], usecols=[\"Start Date\"], squeeze=True)\n"
          ]
        },
        {
          "output_type": "execute_result",
          "data": {
            "text/plain": [
              "0     1774-09-01\n",
              "1     1774-12-14\n",
              "2     1775-04-19\n",
              "3     1775-04-19\n",
              "4     1775-04-20\n",
              "         ...    \n",
              "227   1782-09-11\n",
              "228   1782-09-13\n",
              "229   1782-10-18\n",
              "230   1782-12-06\n",
              "231   1783-01-22\n",
              "Name: Start Date, Length: 232, dtype: datetime64[ns]"
            ]
          },
          "metadata": {},
          "execution_count": 155
        }
      ]
    },
    {
      "cell_type": "code",
      "source": [
        "days_of_war.dropna().apply(day_of_week).value_counts()"
      ],
      "metadata": {
        "colab": {
          "base_uri": "https://localhost:8080/"
        },
        "id": "LFk0mEMWBfMq",
        "outputId": "4cd0cabb-9a63-442e-d56b-51914028fac7"
      },
      "execution_count": 158,
      "outputs": [
        {
          "output_type": "execute_result",
          "data": {
            "text/plain": [
              "Saturday     39\n",
              "Friday       39\n",
              "Wednesday    32\n",
              "Thursday     31\n",
              "Sunday       31\n",
              "Tuesday      29\n",
              "Monday       27\n",
              "Name: Start Date, dtype: int64"
            ]
          },
          "metadata": {},
          "execution_count": 158
        }
      ]
    }
  ]
}