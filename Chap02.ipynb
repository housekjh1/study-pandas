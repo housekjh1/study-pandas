{
  "nbformat": 4,
  "nbformat_minor": 0,
  "metadata": {
    "colab": {
      "provenance": [],
      "authorship_tag": "ABX9TyOcJ4xoXBiL1Cqe5x4W8PwA",
      "include_colab_link": true
    },
    "kernelspec": {
      "name": "python3",
      "display_name": "Python 3"
    },
    "language_info": {
      "name": "python"
    }
  },
  "cells": [
    {
      "cell_type": "markdown",
      "metadata": {
        "id": "view-in-github",
        "colab_type": "text"
      },
      "source": [
        "<a href=\"https://colab.research.google.com/github/housekjh1/study-pandas/blob/main/Chap02.ipynb\" target=\"_parent\"><img src=\"https://colab.research.google.com/assets/colab-badge.svg\" alt=\"Open In Colab\"/></a>"
      ]
    },
    {
      "cell_type": "markdown",
      "source": [
        "## 2.1 Series의 개요\n",
        "\n",
        "동일한 유형의 데이터만 담을 수 있으며 레이블이 있는 1차원 배열(리스트의 특징, 레이블(인덱스): 딕셔너리 특징)\n",
        "\n",
        "- 리스트와 딕셔너리의 특징을 모두 가짐\n",
        " - 리스트: 1차원 배열\n",
        " - 딕셔너리: 레이블(키)"
      ],
      "metadata": {
        "id": "UqMh__u-CNhS"
      }
    },
    {
      "cell_type": "code",
      "execution_count": 2,
      "metadata": {
        "id": "duSguG9ABuVA"
      },
      "outputs": [],
      "source": [
        "import pandas as pd\n",
        "import numpy as np"
      ]
    },
    {
      "cell_type": "markdown",
      "source": [
        "### 2.1.1 클래스 및 인스턴스\n",
        "- Series 클래스에서 생성자 호출로 Series 객체 생성"
      ],
      "metadata": {
        "id": "BGgDhAsNDoMQ"
      }
    },
    {
      "cell_type": "code",
      "source": [
        "pd.Series()"
      ],
      "metadata": {
        "colab": {
          "base_uri": "https://localhost:8080/"
        },
        "id": "AFV6p4viD06T",
        "outputId": "eb499760-d248-48fe-dd37-a1965f6b58b0"
      },
      "execution_count": 3,
      "outputs": [
        {
          "output_type": "stream",
          "name": "stderr",
          "text": [
            "<ipython-input-3-fa15c544da3b>:1: FutureWarning: The default dtype for empty Series will be 'object' instead of 'float64' in a future version. Specify a dtype explicitly to silence this warning.\n",
            "  pd.Series()\n"
          ]
        },
        {
          "output_type": "execute_result",
          "data": {
            "text/plain": [
              "Series([], dtype: float64)"
            ]
          },
          "metadata": {},
          "execution_count": 3
        }
      ]
    },
    {
      "cell_type": "markdown",
      "source": [
        "### 2.1.2 Series에 값 채우기\n",
        "\n",
        "수동으로 데이터 몇 가지를 만들어서 Series를 만드는 연습을 해보자.\n",
        "- 리스트, 딕셔너리, 튜플, 넘파이 ndarray 등 가능"
      ],
      "metadata": {
        "id": "cpqY-23NECc5"
      }
    },
    {
      "cell_type": "code",
      "source": [
        "ice_cream_flavors = [\"Choco\", \"Vanilla\", \"Strawberry\", \"Rum\"]\n",
        "pd.Series(ice_cream_flavors)"
      ],
      "metadata": {
        "colab": {
          "base_uri": "https://localhost:8080/"
        },
        "id": "k1_9BAVfEK-K",
        "outputId": "a33c3c5c-e19e-49c6-b931-e419020ba6f7"
      },
      "execution_count": 4,
      "outputs": [
        {
          "output_type": "execute_result",
          "data": {
            "text/plain": [
              "0         Choco\n",
              "1       Vanilla\n",
              "2    Strawberry\n",
              "3           Rum\n",
              "dtype: object"
            ]
          },
          "metadata": {},
          "execution_count": 4
        }
      ]
    },
    {
      "cell_type": "markdown",
      "source": [
        "Series 생성자는 data, index, dtype, name, copy, fastpath의 6개의 매개변수를 가진다.\n",
        "- None: data, index, name\n",
        "- False: copy, fastpath\n",
        "\n",
        "data 매개변수:\n",
        "- 첫 번째 매개변수로 Series에 값을 채우는 변수\n",
        "\n",
        "매개변수 이름없이 값을 전달하면 순서대로 전달됨(위치인자 방식)\n",
        "\n",
        "매개변수의 이름을 명시하는 것이 가독성에 좋음"
      ],
      "metadata": {
        "id": "b8p_HRiFE9lJ"
      }
    },
    {
      "cell_type": "code",
      "source": [
        "pd.Series(ice_cream_flavors)\n",
        "pd.Series(data=ice_cream_flavors)"
      ],
      "metadata": {
        "colab": {
          "base_uri": "https://localhost:8080/"
        },
        "id": "2AEre_SOFrI8",
        "outputId": "622f7333-d0e5-4be3-c009-da6d1ab7db4c"
      },
      "execution_count": 5,
      "outputs": [
        {
          "output_type": "execute_result",
          "data": {
            "text/plain": [
              "0         Choco\n",
              "1       Vanilla\n",
              "2    Strawberry\n",
              "3           Rum\n",
              "dtype: object"
            ]
          },
          "metadata": {},
          "execution_count": 5
        }
      ]
    },
    {
      "cell_type": "markdown",
      "source": [
        "### 2.1.3 Series 인덱스 사용자 정의\n",
        "\n",
        "Series의 위치 인덱스(기본)는 0부터 시작\n",
        "\n",
        "index 매개변수:\n",
        "- 인덱스 레이블 추가 할당\n",
        "- 내부적으로는 위치 인덱스 있음"
      ],
      "metadata": {
        "id": "lCkN69YUF9JA"
      }
    },
    {
      "cell_type": "code",
      "source": [
        "ice_cream_flavors = [\"Choco\", \"Vanilla\", \"Strawberry\", \"Rum\"]\n",
        "days_of_week = (\"Monday\", \"Wednesday\", \"Friday\", \"Saturday\")\n",
        "pd.Series(ice_cream_flavors, days_of_week)\n",
        "pd.Series(data=ice_cream_flavors, index=days_of_week)"
      ],
      "metadata": {
        "colab": {
          "base_uri": "https://localhost:8080/"
        },
        "id": "SUNcYYiaGW1_",
        "outputId": "d1a54daf-ca6d-42c1-8a56-bd97e811166e"
      },
      "execution_count": 7,
      "outputs": [
        {
          "output_type": "execute_result",
          "data": {
            "text/plain": [
              "Monday            Choco\n",
              "Wednesday       Vanilla\n",
              "Friday       Strawberry\n",
              "Saturday            Rum\n",
              "dtype: object"
            ]
          },
          "metadata": {},
          "execution_count": 7
        }
      ]
    },
    {
      "cell_type": "markdown",
      "source": [
        "딕셔너리와는 다르게 Series 인덱스는 중복 허용\n",
        "- 하지만 중복은 피하는 것이 좋음(빠른 검색을 위함)"
      ],
      "metadata": {
        "id": "9-mlDhyjHcRb"
      }
    },
    {
      "cell_type": "code",
      "source": [
        "ice_cream_flavors = [\"Choco\", \"Vanilla\", \"Strawberry\", \"Rum\"]\n",
        "days_of_week = (\"Monday\", \"Wednesday\", \"Friday\", \"Wednesday\")\n",
        "pd.Series(ice_cream_flavors, days_of_week)\n",
        "pd.Series(data=ice_cream_flavors, index=days_of_week)"
      ],
      "metadata": {
        "colab": {
          "base_uri": "https://localhost:8080/"
        },
        "id": "BIqsoDXtHj2m",
        "outputId": "745dce57-4117-4acc-e3d7-92cef496769b"
      },
      "execution_count": 8,
      "outputs": [
        {
          "output_type": "execute_result",
          "data": {
            "text/plain": [
              "Monday            Choco\n",
              "Wednesday       Vanilla\n",
              "Friday       Strawberry\n",
              "Wednesday           Rum\n",
              "dtype: object"
            ]
          },
          "metadata": {},
          "execution_count": 8
        }
      ]
    },
    {
      "cell_type": "markdown",
      "source": [
        "키워드 인자 방식을 지원하므로 매개변수의 순서를 바꿔도 됨"
      ],
      "metadata": {
        "id": "x9dxB5ucHwbY"
      }
    },
    {
      "cell_type": "code",
      "source": [
        "pd.Series(index=days_of_week, data=ice_cream_flavors)"
      ],
      "metadata": {
        "colab": {
          "base_uri": "https://localhost:8080/"
        },
        "id": "RvL08HgPH4Od",
        "outputId": "a18c15b5-729a-457e-e68e-8a9bd445c8e1"
      },
      "execution_count": 9,
      "outputs": [
        {
          "output_type": "execute_result",
          "data": {
            "text/plain": [
              "Monday            Choco\n",
              "Wednesday       Vanilla\n",
              "Friday       Strawberry\n",
              "Wednesday           Rum\n",
              "dtype: object"
            ]
          },
          "metadata": {},
          "execution_count": 9
        }
      ]
    },
    {
      "cell_type": "markdown",
      "source": [
        "Series 출력의 마지막 dtype 부분은 데이터 타입을 나타냄\n",
        "- bool, float, int\n",
        "- object: 문자열이나 복잡한 객체\n",
        "---\n",
        "부울, 정수 및 실수 리스트를 이용한 Series 생성 예제"
      ],
      "metadata": {
        "id": "WAsNhtqxII4O"
      }
    },
    {
      "cell_type": "code",
      "source": [
        "bunch_of_bools = [True, False, True]\n",
        "pd.Series(bunch_of_bools)"
      ],
      "metadata": {
        "colab": {
          "base_uri": "https://localhost:8080/"
        },
        "id": "zGVcpf8PIgZc",
        "outputId": "082c9b5f-2f95-4503-fcf6-1c08dfabb69e"
      },
      "execution_count": 10,
      "outputs": [
        {
          "output_type": "execute_result",
          "data": {
            "text/plain": [
              "0     True\n",
              "1    False\n",
              "2     True\n",
              "dtype: bool"
            ]
          },
          "metadata": {},
          "execution_count": 10
        }
      ]
    },
    {
      "cell_type": "code",
      "source": [
        "stock_price = [985.32, 950.44]\n",
        "time_of_day = [\"Open\", \"Close\"]\n",
        "pd.Series(data=stock_price, index=time_of_day)"
      ],
      "metadata": {
        "colab": {
          "base_uri": "https://localhost:8080/"
        },
        "id": "TZ7l4T3oI6fO",
        "outputId": "89d6f680-0c3c-4373-b54d-929b3f2f3504"
      },
      "execution_count": 11,
      "outputs": [
        {
          "output_type": "execute_result",
          "data": {
            "text/plain": [
              "Open     985.32\n",
              "Close    950.44\n",
              "dtype: float64"
            ]
          },
          "metadata": {},
          "execution_count": 11
        }
      ]
    },
    {
      "cell_type": "markdown",
      "source": [
        "dtype 매개변수를 이용해서 강제로 다른 유형으로 변환 가능"
      ],
      "metadata": {
        "id": "rDNbSGVEJWvU"
      }
    },
    {
      "cell_type": "code",
      "source": [
        "stock_price = [985, 950]\n",
        "time_of_day = [\"Open\", \"Close\"]\n",
        "pd.Series(data=stock_price, index=time_of_day, dtype='float')"
      ],
      "metadata": {
        "colab": {
          "base_uri": "https://localhost:8080/"
        },
        "id": "shbW__jwJbPx",
        "outputId": "5c94b8d6-b18a-4b98-c294-778bf8ec6bec"
      },
      "execution_count": 14,
      "outputs": [
        {
          "output_type": "execute_result",
          "data": {
            "text/plain": [
              "Open     985.0\n",
              "Close    950.0\n",
              "dtype: float64"
            ]
          },
          "metadata": {},
          "execution_count": 14
        }
      ]
    },
    {
      "cell_type": "markdown",
      "source": [
        "### 2.1.4 결측값이 있는 Series 생성\n",
        "\n",
        "지금까지 예제는 수동으로 데이터를 생성하였으므로 아무 문제가 없지만, **현실 세계의 데이터는 훨씬 복잡하다.**\n",
        "\n",
        "가장 흔한 문제는 **결측값**이다.\n",
        "\n",
        "판다스는 파일에서 데이터를 읽어올 때 결측값을 만나면 NaN 객체로 결측값을 대체함"
      ],
      "metadata": {
        "id": "nPv8cYK1Jrr8"
      }
    },
    {
      "cell_type": "code",
      "source": [
        "temperatures = [94, 88, np.nan, 91]\n",
        "pd.Series(temperatures)"
      ],
      "metadata": {
        "colab": {
          "base_uri": "https://localhost:8080/"
        },
        "id": "A691mMtYKAJW",
        "outputId": "14f26bc8-eb7e-4051-c899-1e79bcff28ec"
      },
      "execution_count": 15,
      "outputs": [
        {
          "output_type": "execute_result",
          "data": {
            "text/plain": [
              "0    94.0\n",
              "1    88.0\n",
              "2     NaN\n",
              "3    91.0\n",
              "dtype: float64"
            ]
          },
          "metadata": {},
          "execution_count": 15
        }
      ]
    },
    {
      "cell_type": "markdown",
      "source": [
        "NaN 값을 만나면 숫자의 경우 dtype을 정수에서 실수로 자동 변환"
      ],
      "metadata": {
        "id": "eGXwZYoaKpGO"
      }
    },
    {
      "cell_type": "markdown",
      "source": [
        "## 2.2 파이썬 객체에서 Series 생성\n",
        "\n",
        "data 매개변수는 기본 파이썬 자료구조 및 다른 라이브러리 객체를 포함하여 다양한 입력을 허용함\n",
        "- 딕셔너리, 튜플, 집합 및 넘파이 ndarray를 입력해보자.\n",
        "---\n",
        "딕셔너리는 키값을 인덱스 레이블로 설정함"
      ],
      "metadata": {
        "id": "hWUcZtfSK3jq"
      }
    },
    {
      "cell_type": "code",
      "source": [
        "calorie_info = {\"Cereal\": 125, \"Chocolate Bar\": 406, \"Ice Cream Sundae\": 342}\n",
        "diet = pd.Series(calorie_info)\n",
        "diet"
      ],
      "metadata": {
        "colab": {
          "base_uri": "https://localhost:8080/"
        },
        "id": "QHf3g58iKu4z",
        "outputId": "b377971f-df1f-4316-c6c6-6397d5c1af3d"
      },
      "execution_count": 16,
      "outputs": [
        {
          "output_type": "execute_result",
          "data": {
            "text/plain": [
              "Cereal              125\n",
              "Chocolate Bar       406\n",
              "Ice Cream Sundae    342\n",
              "dtype: int64"
            ]
          },
          "metadata": {},
          "execution_count": 16
        }
      ]
    },
    {
      "cell_type": "markdown",
      "source": [
        "튜플은 리스트와 동일한 방식으로 생성"
      ],
      "metadata": {
        "id": "U1L6AkEYL7wK"
      }
    },
    {
      "cell_type": "code",
      "source": [
        "pd.Series(data = (\"Red\", \"Green\", \"Blue\"))"
      ],
      "metadata": {
        "colab": {
          "base_uri": "https://localhost:8080/"
        },
        "id": "S8DeqU8PL--m",
        "outputId": "6bf18d1d-70a1-40e1-acdd-1fee1bc228e3"
      },
      "execution_count": 17,
      "outputs": [
        {
          "output_type": "execute_result",
          "data": {
            "text/plain": [
              "0      Red\n",
              "1    Green\n",
              "2     Blue\n",
              "dtype: object"
            ]
          },
          "metadata": {},
          "execution_count": 17
        }
      ]
    },
    {
      "cell_type": "code",
      "source": [
        "pd.Series(data = [(\"Red\", \"Green\", \"Blue\"), (195, 32, 43, 4)])"
      ],
      "metadata": {
        "colab": {
          "base_uri": "https://localhost:8080/"
        },
        "id": "EticsVqBMP3o",
        "outputId": "53b76d86-67c8-4e7d-a9e6-b2962e305acd"
      },
      "execution_count": 18,
      "outputs": [
        {
          "output_type": "execute_result",
          "data": {
            "text/plain": [
              "0    (Red, Green, Blue)\n",
              "1      (195, 32, 43, 4)\n",
              "dtype: object"
            ]
          },
          "metadata": {},
          "execution_count": 18
        }
      ]
    },
    {
      "cell_type": "markdown",
      "source": [
        "집합의 경우 리스트와 같은 순서나 딕셔너리와 같은 연관개념(키-값)이 없으므로 에러 발생"
      ],
      "metadata": {
        "id": "h_DI9dxbMbGu"
      }
    },
    {
      "cell_type": "code",
      "source": [
        "my_set = {\"Ricky\", \"Bobby\"}\n",
        "pd.Series(my_set)"
      ],
      "metadata": {
        "id": "qKRtl8adMw0m"
      },
      "execution_count": null,
      "outputs": []
    },
    {
      "cell_type": "code",
      "source": [
        "pd.Series(list(my_set))"
      ],
      "metadata": {
        "colab": {
          "base_uri": "https://localhost:8080/"
        },
        "id": "36bJgAAcMz-z",
        "outputId": "cecb8876-42f2-47f7-af27-4f32d370e319"
      },
      "execution_count": 20,
      "outputs": [
        {
          "output_type": "execute_result",
          "data": {
            "text/plain": [
              "0    Ricky\n",
              "1    Bobby\n",
              "dtype: object"
            ]
          },
          "metadata": {},
          "execution_count": 20
        }
      ]
    },
    {
      "cell_type": "markdown",
      "source": [
        "넘파이 ndarray 객체도 사용 가능"
      ],
      "metadata": {
        "id": "cWGo_7EAM9dR"
      }
    },
    {
      "cell_type": "code",
      "source": [
        "random_data = np.random.randint(1, 101, 10)\n",
        "random_data"
      ],
      "metadata": {
        "colab": {
          "base_uri": "https://localhost:8080/"
        },
        "id": "eFi5UA0ONApH",
        "outputId": "6ddee5c6-6647-41a2-9721-dc688eefd6ae"
      },
      "execution_count": 21,
      "outputs": [
        {
          "output_type": "execute_result",
          "data": {
            "text/plain": [
              "array([31,  2, 94, 26, 38, 94, 15,  1, 71, 47])"
            ]
          },
          "metadata": {},
          "execution_count": 21
        }
      ]
    },
    {
      "cell_type": "markdown",
      "source": [
        "ndarray 값의 순서가 그대로 유지됨"
      ],
      "metadata": {
        "id": "e9H725CxNONb"
      }
    },
    {
      "cell_type": "code",
      "source": [
        "pd.Series(random_data)"
      ],
      "metadata": {
        "colab": {
          "base_uri": "https://localhost:8080/"
        },
        "id": "B26R8b8SNJMc",
        "outputId": "b64b2826-ba64-4402-caaf-588bca971ef1"
      },
      "execution_count": 22,
      "outputs": [
        {
          "output_type": "execute_result",
          "data": {
            "text/plain": [
              "0    31\n",
              "1     2\n",
              "2    94\n",
              "3    26\n",
              "4    38\n",
              "5    94\n",
              "6    15\n",
              "7     1\n",
              "8    71\n",
              "9    47\n",
              "dtype: int64"
            ]
          },
          "metadata": {},
          "execution_count": 22
        }
      ]
    },
    {
      "cell_type": "markdown",
      "source": [
        "## 2.3 Series의 속성\n",
        "\n",
        "속성은 객체에 속하는 데이터의 조각\n",
        "- 속성은 객체의 내부 상태에 대한 정보를 나타냄\n",
        "- 속성의 값은 다른 객체일 수 있음"
      ],
      "metadata": {
        "id": "cVUoAPgXQMWv"
      }
    },
    {
      "cell_type": "code",
      "source": [
        "calorie_info = {\"Cereal\": 125, \"Chocolate Bar\": 406, \"Ice Cream Sundae\": 342}\n",
        "diet = pd.Series(calorie_info)\n",
        "diet"
      ],
      "metadata": {
        "colab": {
          "base_uri": "https://localhost:8080/"
        },
        "id": "LM6ebucmQ0aF",
        "outputId": "ce3e6a7f-0ac0-4b58-94f7-4b6f17025355"
      },
      "execution_count": 23,
      "outputs": [
        {
          "output_type": "execute_result",
          "data": {
            "text/plain": [
              "Cereal              125\n",
              "Chocolate Bar       406\n",
              "Ice Cream Sundae    342\n",
              "dtype: int64"
            ]
          },
          "metadata": {},
          "execution_count": 23
        }
      ]
    },
    {
      "cell_type": "markdown",
      "source": [
        "values 속성: Series 값들을 반환(넘파이의 ndarray 객체)"
      ],
      "metadata": {
        "id": "OSY9J-d5Q7g4"
      }
    },
    {
      "cell_type": "code",
      "source": [
        "diet.values"
      ],
      "metadata": {
        "colab": {
          "base_uri": "https://localhost:8080/"
        },
        "id": "1vDlmmVCRIas",
        "outputId": "18d5871d-b424-4fc8-fd7c-e4cf49dc51bb"
      },
      "execution_count": 24,
      "outputs": [
        {
          "output_type": "execute_result",
          "data": {
            "text/plain": [
              "array([125, 406, 342])"
            ]
          },
          "metadata": {},
          "execution_count": 24
        }
      ]
    },
    {
      "cell_type": "code",
      "source": [
        "type(diet.values)"
      ],
      "metadata": {
        "colab": {
          "base_uri": "https://localhost:8080/"
        },
        "id": "KVMiun7-RPOM",
        "outputId": "5038e2e1-981e-41ef-f30d-4b536674cbd8"
      },
      "execution_count": 25,
      "outputs": [
        {
          "output_type": "execute_result",
          "data": {
            "text/plain": [
              "numpy.ndarray"
            ]
          },
          "metadata": {},
          "execution_count": 25
        }
      ]
    },
    {
      "cell_type": "markdown",
      "source": [
        "판다스는 넘파이에 종속적임\n",
        "- 내부적으로 넘파이의 ndarray를 이용하여 Series의 값을 저장\n",
        "- ndarray 객체는 내부적으로 C를 사용하므로 속도가 빠르며, 효율적임\n",
        "\n",
        "> Series는 넘파이를 판다스에서 최적화시켜 사용하기 위한 계층이라고 볼 수 있음(wrapper)\n",
        "\n",
        "---\n",
        "\n",
        "index 속성: Series 인덱스 레이블을 저장하는 index 객체 반환\n",
        "- index 객체는 판다스 자체 객체임"
      ],
      "metadata": {
        "id": "yuOauRlnRX9x"
      }
    },
    {
      "cell_type": "code",
      "source": [
        "diet.index"
      ],
      "metadata": {
        "colab": {
          "base_uri": "https://localhost:8080/"
        },
        "id": "vrvIRsyNSXJg",
        "outputId": "1a568ca2-f675-4582-a818-b7b7bca9132f"
      },
      "execution_count": 26,
      "outputs": [
        {
          "output_type": "execute_result",
          "data": {
            "text/plain": [
              "Index(['Cereal', 'Chocolate Bar', 'Ice Cream Sundae'], dtype='object')"
            ]
          },
          "metadata": {},
          "execution_count": 26
        }
      ]
    },
    {
      "cell_type": "code",
      "source": [
        "type(diet.index)"
      ],
      "metadata": {
        "colab": {
          "base_uri": "https://localhost:8080/"
        },
        "id": "NVYszlnjSbvq",
        "outputId": "df3c628e-8045-40ec-c7fb-e22e1fc3b942"
      },
      "execution_count": 27,
      "outputs": [
        {
          "output_type": "execute_result",
          "data": {
            "text/plain": [
              "pandas.core.indexes.base.Index"
            ]
          },
          "metadata": {},
          "execution_count": 27
        }
      ]
    },
    {
      "cell_type": "markdown",
      "source": [
        "size 속성: Series 값의 개수 반환"
      ],
      "metadata": {
        "id": "rNfkLax5SmjH"
      }
    },
    {
      "cell_type": "code",
      "source": [
        "diet.size"
      ],
      "metadata": {
        "colab": {
          "base_uri": "https://localhost:8080/"
        },
        "id": "Ds87KSZ3SqFj",
        "outputId": "5087f103-2048-4834-9d9b-e4581085fe89"
      },
      "execution_count": 28,
      "outputs": [
        {
          "output_type": "execute_result",
          "data": {
            "text/plain": [
              "3"
            ]
          },
          "metadata": {},
          "execution_count": 28
        }
      ]
    },
    {
      "cell_type": "markdown",
      "source": [
        "shape 속성: 판다스 자료구조의 차원을 포함하는 튜플 반환"
      ],
      "metadata": {
        "id": "ynGzDfc5SvlC"
      }
    },
    {
      "cell_type": "code",
      "source": [
        "diet.shape"
      ],
      "metadata": {
        "colab": {
          "base_uri": "https://localhost:8080/"
        },
        "id": "JH4icolgS0dj",
        "outputId": "5cd609c9-7d5f-4d38-b6d6-a376bbcbc233"
      },
      "execution_count": 29,
      "outputs": [
        {
          "output_type": "execute_result",
          "data": {
            "text/plain": [
              "(3,)"
            ]
          },
          "metadata": {},
          "execution_count": 29
        }
      ]
    },
    {
      "cell_type": "markdown",
      "source": [
        "is_unique 속성: 모든 값이 유니크한 경우 True, 아니면 False"
      ],
      "metadata": {
        "id": "PmAi52IPS-ai"
      }
    },
    {
      "cell_type": "code",
      "source": [
        "diet.is_unique"
      ],
      "metadata": {
        "colab": {
          "base_uri": "https://localhost:8080/"
        },
        "id": "s34En54ZTOsY",
        "outputId": "59cfe70b-b546-41d6-f57d-b8ef8f653ac9"
      },
      "execution_count": 30,
      "outputs": [
        {
          "output_type": "execute_result",
          "data": {
            "text/plain": [
              "True"
            ]
          },
          "metadata": {},
          "execution_count": 30
        }
      ]
    },
    {
      "cell_type": "code",
      "source": [
        "pd.Series([3,3]).is_unique"
      ],
      "metadata": {
        "colab": {
          "base_uri": "https://localhost:8080/"
        },
        "id": "cVg1whmhTR2W",
        "outputId": "4a875677-6ba7-488c-fc73-e73494207264"
      },
      "execution_count": 31,
      "outputs": [
        {
          "output_type": "execute_result",
          "data": {
            "text/plain": [
              "False"
            ]
          },
          "metadata": {},
          "execution_count": 31
        }
      ]
    },
    {
      "cell_type": "markdown",
      "source": [
        "is_monotonic 속성: Series 값들이 언제나 이전 값보다 크면 True"
      ],
      "metadata": {
        "id": "NxlfSCoUTYUo"
      }
    },
    {
      "cell_type": "code",
      "source": [
        "pd.Series(data=[1,3,6]).is_monotonic_increasing"
      ],
      "metadata": {
        "colab": {
          "base_uri": "https://localhost:8080/"
        },
        "id": "A2qDL0RaTkW2",
        "outputId": "f739be50-f602-4981-9601-d94fc8c2e707"
      },
      "execution_count": 36,
      "outputs": [
        {
          "output_type": "execute_result",
          "data": {
            "text/plain": [
              "True"
            ]
          },
          "metadata": {},
          "execution_count": 36
        }
      ]
    },
    {
      "cell_type": "code",
      "source": [
        "pd.Series(data=[1,6,3]).is_monotonic_increasing"
      ],
      "metadata": {
        "colab": {
          "base_uri": "https://localhost:8080/"
        },
        "id": "iysYZk0LT1uD",
        "outputId": "f67bc439-3b9f-4998-edfb-2c74be9ddf95"
      },
      "execution_count": 37,
      "outputs": [
        {
          "output_type": "execute_result",
          "data": {
            "text/plain": [
              "False"
            ]
          },
          "metadata": {},
          "execution_count": 37
        }
      ]
    },
    {
      "cell_type": "markdown",
      "source": [
        "## 2.4 첫 번째 행과 마지막 행 검색"
      ],
      "metadata": {
        "id": "MwtsQUvPT7K9"
      }
    },
    {
      "cell_type": "code",
      "source": [
        "values = range(0,500,5)\n",
        "nums = pd.Series(data=values)\n",
        "nums"
      ],
      "metadata": {
        "colab": {
          "base_uri": "https://localhost:8080/"
        },
        "id": "EsKYryUtT_r4",
        "outputId": "6969ff82-85a3-4200-f4fb-fd07f2a22f03"
      },
      "execution_count": 38,
      "outputs": [
        {
          "output_type": "execute_result",
          "data": {
            "text/plain": [
              "0       0\n",
              "1       5\n",
              "2      10\n",
              "3      15\n",
              "4      20\n",
              "     ... \n",
              "95    475\n",
              "96    480\n",
              "97    485\n",
              "98    490\n",
              "99    495\n",
              "Length: 100, dtype: int64"
            ]
          },
          "metadata": {},
          "execution_count": 38
        }
      ]
    },
    {
      "cell_type": "code",
      "source": [
        "nums.head(10)"
      ],
      "metadata": {
        "colab": {
          "base_uri": "https://localhost:8080/"
        },
        "id": "M4LHa01RUOrW",
        "outputId": "30b0c1fe-1435-4964-c23d-bdac804cb9fc"
      },
      "execution_count": 40,
      "outputs": [
        {
          "output_type": "execute_result",
          "data": {
            "text/plain": [
              "0     0\n",
              "1     5\n",
              "2    10\n",
              "3    15\n",
              "4    20\n",
              "5    25\n",
              "6    30\n",
              "7    35\n",
              "8    40\n",
              "9    45\n",
              "dtype: int64"
            ]
          },
          "metadata": {},
          "execution_count": 40
        }
      ]
    },
    {
      "cell_type": "code",
      "source": [
        "nums.tail(10)"
      ],
      "metadata": {
        "colab": {
          "base_uri": "https://localhost:8080/"
        },
        "id": "8pWZSJiJUSUn",
        "outputId": "5612f057-a824-4b81-f7e4-1b409739a62a"
      },
      "execution_count": 42,
      "outputs": [
        {
          "output_type": "execute_result",
          "data": {
            "text/plain": [
              "90    450\n",
              "91    455\n",
              "92    460\n",
              "93    465\n",
              "94    470\n",
              "95    475\n",
              "96    480\n",
              "97    485\n",
              "98    490\n",
              "99    495\n",
              "dtype: int64"
            ]
          },
          "metadata": {},
          "execution_count": 42
        }
      ]
    },
    {
      "cell_type": "markdown",
      "source": [
        "## 2.5 수학 연산\n",
        "\n",
        "### 2.5.1 통계 연산\n",
        "오름차순으로 정렬된 숫자 사이에 NaN 값을 포함하는 Series 생성"
      ],
      "metadata": {
        "id": "o50bKVdhUbKM"
      }
    },
    {
      "cell_type": "code",
      "source": [
        "numbers = pd.Series([1,2,3,np.nan,4,5])\n",
        "numbers"
      ],
      "metadata": {
        "colab": {
          "base_uri": "https://localhost:8080/"
        },
        "id": "C1WNXXwPUlmS",
        "outputId": "e6002e89-a922-47d7-d756-3bf3af355dbc"
      },
      "execution_count": 45,
      "outputs": [
        {
          "output_type": "execute_result",
          "data": {
            "text/plain": [
              "0    1.0\n",
              "1    2.0\n",
              "2    3.0\n",
              "3    NaN\n",
              "4    4.0\n",
              "5    5.0\n",
              "dtype: float64"
            ]
          },
          "metadata": {},
          "execution_count": 45
        }
      ]
    },
    {
      "cell_type": "markdown",
      "source": [
        "count 메서드: null이 아닌 값의 개수를 카운팅해서 반환"
      ],
      "metadata": {
        "id": "0xVm7uoYU17G"
      }
    },
    {
      "cell_type": "code",
      "source": [
        "numbers.count()"
      ],
      "metadata": {
        "colab": {
          "base_uri": "https://localhost:8080/"
        },
        "id": "uoJl9oeRU6f-",
        "outputId": "17506e1f-a7ad-4fee-a3dc-607472e1882e"
      },
      "execution_count": 46,
      "outputs": [
        {
          "output_type": "execute_result",
          "data": {
            "text/plain": [
              "5"
            ]
          },
          "metadata": {},
          "execution_count": 46
        }
      ]
    },
    {
      "cell_type": "markdown",
      "source": [
        "sum 메서드: Series의 값을 모두 합함(NaN 값 무시)"
      ],
      "metadata": {
        "id": "aTkr5mMxVA9j"
      }
    },
    {
      "cell_type": "code",
      "source": [
        "numbers.sum()"
      ],
      "metadata": {
        "colab": {
          "base_uri": "https://localhost:8080/"
        },
        "id": "iLHSf-gVVF68",
        "outputId": "c352f48f-7e7c-4a39-9218-eb3847b3d32a"
      },
      "execution_count": 47,
      "outputs": [
        {
          "output_type": "execute_result",
          "data": {
            "text/plain": [
              "15.0"
            ]
          },
          "metadata": {},
          "execution_count": 47
        }
      ]
    },
    {
      "cell_type": "markdown",
      "source": [
        "skipna = False : 결측치를 강제로 포함시킬 수 있음"
      ],
      "metadata": {
        "id": "ep74959NVKqW"
      }
    },
    {
      "cell_type": "code",
      "source": [
        "numbers.sum(skipna=False)"
      ],
      "metadata": {
        "colab": {
          "base_uri": "https://localhost:8080/"
        },
        "id": "Z548CSseVYgw",
        "outputId": "f8684142-1db4-49c7-90ba-fcad89e71397"
      },
      "execution_count": 50,
      "outputs": [
        {
          "output_type": "execute_result",
          "data": {
            "text/plain": [
              "nan"
            ]
          },
          "metadata": {},
          "execution_count": 50
        }
      ]
    },
    {
      "cell_type": "markdown",
      "source": [
        "min_count 매개변수: 합을 계산하기 위한 최소한의 유효값의 수 설정"
      ],
      "metadata": {
        "id": "V2hWYvpxVkgP"
      }
    },
    {
      "cell_type": "code",
      "source": [
        "numbers.sum(min_count=3)"
      ],
      "metadata": {
        "colab": {
          "base_uri": "https://localhost:8080/"
        },
        "id": "Ti1CC2qVVtww",
        "outputId": "1b3611e7-7fdf-4afd-d413-9d34e1eeec83"
      },
      "execution_count": 51,
      "outputs": [
        {
          "output_type": "execute_result",
          "data": {
            "text/plain": [
              "15.0"
            ]
          },
          "metadata": {},
          "execution_count": 51
        }
      ]
    },
    {
      "cell_type": "code",
      "source": [
        "numbers.sum(min_count=6)"
      ],
      "metadata": {
        "colab": {
          "base_uri": "https://localhost:8080/"
        },
        "id": "puxS5dqBV0H8",
        "outputId": "355329ed-2400-4a4c-9c96-b02bb9d02ebb"
      },
      "execution_count": 54,
      "outputs": [
        {
          "output_type": "execute_result",
          "data": {
            "text/plain": [
              "nan"
            ]
          },
          "metadata": {},
          "execution_count": 54
        }
      ]
    },
    {
      "cell_type": "markdown",
      "source": [
        "product 메서드: Series의 모든 값을 곱함(Nan 무시)\n",
        "- skipna, min_count 매개변수 있음"
      ],
      "metadata": {
        "id": "jZZJZQ1BV5Za"
      }
    },
    {
      "cell_type": "code",
      "source": [
        "numbers.product()"
      ],
      "metadata": {
        "colab": {
          "base_uri": "https://localhost:8080/"
        },
        "id": "F6PP9wn2V9WE",
        "outputId": "67515dcc-92bb-47de-daf9-fde4f3d4afa1"
      },
      "execution_count": 55,
      "outputs": [
        {
          "output_type": "execute_result",
          "data": {
            "text/plain": [
              "120.0"
            ]
          },
          "metadata": {},
          "execution_count": 55
        }
      ]
    },
    {
      "cell_type": "code",
      "source": [
        "numbers.product(skipna=False)"
      ],
      "metadata": {
        "colab": {
          "base_uri": "https://localhost:8080/"
        },
        "id": "EHKDar8tWJdM",
        "outputId": "c4225ff4-29fa-4a87-8dc6-50ff561142f8"
      },
      "execution_count": 56,
      "outputs": [
        {
          "output_type": "execute_result",
          "data": {
            "text/plain": [
              "nan"
            ]
          },
          "metadata": {},
          "execution_count": 56
        }
      ]
    },
    {
      "cell_type": "code",
      "source": [
        "numbers.product(min_count=6)"
      ],
      "metadata": {
        "colab": {
          "base_uri": "https://localhost:8080/"
        },
        "id": "DSyw5qRbWNFT",
        "outputId": "0399058f-6903-4218-d3be-afb45792d15f"
      },
      "execution_count": 59,
      "outputs": [
        {
          "output_type": "execute_result",
          "data": {
            "text/plain": [
              "nan"
            ]
          },
          "metadata": {},
          "execution_count": 59
        }
      ]
    },
    {
      "cell_type": "markdown",
      "source": [
        "cumsum 메서드: 누적합을 값으로 가지는 Series 반환"
      ],
      "metadata": {
        "id": "FuZ78HlDWVT_"
      }
    },
    {
      "cell_type": "code",
      "source": [
        "numbers"
      ],
      "metadata": {
        "colab": {
          "base_uri": "https://localhost:8080/"
        },
        "id": "x86vFWxfWhZH",
        "outputId": "5a4eea4f-9f13-42f3-9d5d-0636bd3fdf26"
      },
      "execution_count": 60,
      "outputs": [
        {
          "output_type": "execute_result",
          "data": {
            "text/plain": [
              "0    1.0\n",
              "1    2.0\n",
              "2    3.0\n",
              "3    NaN\n",
              "4    4.0\n",
              "5    5.0\n",
              "dtype: float64"
            ]
          },
          "metadata": {},
          "execution_count": 60
        }
      ]
    },
    {
      "cell_type": "code",
      "source": [
        "numbers.cumsum()"
      ],
      "metadata": {
        "colab": {
          "base_uri": "https://localhost:8080/"
        },
        "id": "TNgqmVi2WkFq",
        "outputId": "6314826e-09d0-4cc5-91d6-44ba673e36ba"
      },
      "execution_count": 61,
      "outputs": [
        {
          "output_type": "execute_result",
          "data": {
            "text/plain": [
              "0     1.0\n",
              "1     3.0\n",
              "2     6.0\n",
              "3     NaN\n",
              "4    10.0\n",
              "5    15.0\n",
              "dtype: float64"
            ]
          },
          "metadata": {},
          "execution_count": 61
        }
      ]
    },
    {
      "cell_type": "code",
      "source": [
        "numbers.cumsum(skipna=False)"
      ],
      "metadata": {
        "colab": {
          "base_uri": "https://localhost:8080/"
        },
        "id": "63pwr7dhW1Z9",
        "outputId": "d43f80a7-6ff3-4842-f2ad-58aacbe7a759"
      },
      "execution_count": 62,
      "outputs": [
        {
          "output_type": "execute_result",
          "data": {
            "text/plain": [
              "0    1.0\n",
              "1    3.0\n",
              "2    6.0\n",
              "3    NaN\n",
              "4    NaN\n",
              "5    NaN\n",
              "dtype: float64"
            ]
          },
          "metadata": {},
          "execution_count": 62
        }
      ]
    },
    {
      "cell_type": "markdown",
      "source": [
        "pct_change 메서드: 값의 변동 비율을 계산해서 Series로 반환\n",
        "- 현재 인덱스의 값(n1), 이전 인덱스의 값(n0) : (n1-n0)/n0\n",
        "- 결측값에 대해서는 정방향 채우기(foward-fill) 방식을 기본으로 적용\n",
        " - NaN의 마지막 유효값으로 대체"
      ],
      "metadata": {
        "id": "qrzIIwLLXCIe"
      }
    },
    {
      "cell_type": "code",
      "source": [
        "numbers"
      ],
      "metadata": {
        "colab": {
          "base_uri": "https://localhost:8080/"
        },
        "id": "L-Wke15VXgoi",
        "outputId": "2515e4b6-1256-45b9-cc73-0fb22a43ddb2"
      },
      "execution_count": 64,
      "outputs": [
        {
          "output_type": "execute_result",
          "data": {
            "text/plain": [
              "0    1.0\n",
              "1    2.0\n",
              "2    3.0\n",
              "3    NaN\n",
              "4    4.0\n",
              "5    5.0\n",
              "dtype: float64"
            ]
          },
          "metadata": {},
          "execution_count": 64
        }
      ]
    },
    {
      "cell_type": "code",
      "source": [
        "numbers.pct_change()"
      ],
      "metadata": {
        "colab": {
          "base_uri": "https://localhost:8080/"
        },
        "id": "zZgBiIpWXWaR",
        "outputId": "86923547-c7b3-4cee-9778-ef7af53049cb"
      },
      "execution_count": 63,
      "outputs": [
        {
          "output_type": "execute_result",
          "data": {
            "text/plain": [
              "0         NaN\n",
              "1    1.000000\n",
              "2    0.500000\n",
              "3    0.000000\n",
              "4    0.333333\n",
              "5    0.250000\n",
              "dtype: float64"
            ]
          },
          "metadata": {},
          "execution_count": 63
        }
      ]
    },
    {
      "cell_type": "markdown",
      "source": [
        "fill-method 매개변수: 결측치 채우는 방식 설정\n",
        "- 기본: 정방향 채우기 (\"pad\", \"ffill\")\n",
        "- 역방향 채우기: \"bfill\" or \"backfill\""
      ],
      "metadata": {
        "id": "PqWTanc6YVed"
      }
    },
    {
      "cell_type": "code",
      "source": [
        "numbers.pct_change(fill_method=\"bfill\")"
      ],
      "metadata": {
        "colab": {
          "base_uri": "https://localhost:8080/"
        },
        "id": "sc9oWg0WYrx0",
        "outputId": "688c007f-003d-4ac4-f435-80257776f429"
      },
      "execution_count": 65,
      "outputs": [
        {
          "output_type": "execute_result",
          "data": {
            "text/plain": [
              "0         NaN\n",
              "1    1.000000\n",
              "2    0.500000\n",
              "3    0.333333\n",
              "4    0.000000\n",
              "5    0.250000\n",
              "dtype: float64"
            ]
          },
          "metadata": {},
          "execution_count": 65
        }
      ]
    },
    {
      "cell_type": "markdown",
      "source": [
        "mean 메서드: Series 값의 평균 반환"
      ],
      "metadata": {
        "id": "uhE8-7tzZKEU"
      }
    },
    {
      "cell_type": "code",
      "source": [
        "numbers.mean()"
      ],
      "metadata": {
        "colab": {
          "base_uri": "https://localhost:8080/"
        },
        "id": "g0anDSHUZOiR",
        "outputId": "473f7259-7a5d-4f2c-bf0a-fb8ad64fdb4f"
      },
      "execution_count": 66,
      "outputs": [
        {
          "output_type": "execute_result",
          "data": {
            "text/plain": [
              "3.0"
            ]
          },
          "metadata": {},
          "execution_count": 66
        }
      ]
    },
    {
      "cell_type": "markdown",
      "source": [
        "median 메서드: 중앙값 반환\n",
        "\n",
        "std 메서드: 표준편차\n",
        "\n",
        "max, min 메서드: 최댓값, 최솟값 반환"
      ],
      "metadata": {
        "id": "LlI1IIVgZSIc"
      }
    },
    {
      "cell_type": "code",
      "source": [
        "numbers.median()"
      ],
      "metadata": {
        "colab": {
          "base_uri": "https://localhost:8080/"
        },
        "id": "Qs53WsPqZeu7",
        "outputId": "fc0c7827-6dbb-4881-c2c9-5119adc63bed"
      },
      "execution_count": 67,
      "outputs": [
        {
          "output_type": "execute_result",
          "data": {
            "text/plain": [
              "3.0"
            ]
          },
          "metadata": {},
          "execution_count": 67
        }
      ]
    },
    {
      "cell_type": "code",
      "source": [
        "numbers.std()"
      ],
      "metadata": {
        "colab": {
          "base_uri": "https://localhost:8080/"
        },
        "id": "NmEsrPO5Z6v2",
        "outputId": "be3f6dd1-3bef-40e9-a518-1a6e432a2fc9"
      },
      "execution_count": 69,
      "outputs": [
        {
          "output_type": "execute_result",
          "data": {
            "text/plain": [
              "1.5811388300841898"
            ]
          },
          "metadata": {},
          "execution_count": 69
        }
      ]
    },
    {
      "cell_type": "code",
      "source": [
        "numbers.max()"
      ],
      "metadata": {
        "colab": {
          "base_uri": "https://localhost:8080/"
        },
        "id": "s_gc9EUFaEHr",
        "outputId": "e9a51b19-f51d-472c-95fd-f5e2272188ef"
      },
      "execution_count": 70,
      "outputs": [
        {
          "output_type": "execute_result",
          "data": {
            "text/plain": [
              "5.0"
            ]
          },
          "metadata": {},
          "execution_count": 70
        }
      ]
    },
    {
      "cell_type": "code",
      "source": [
        "numbers.min()"
      ],
      "metadata": {
        "colab": {
          "base_uri": "https://localhost:8080/"
        },
        "id": "Lcwa8trjaEf0",
        "outputId": "03b09c18-c1e7-4165-9419-bafed4b1cd2f"
      },
      "execution_count": 71,
      "outputs": [
        {
          "output_type": "execute_result",
          "data": {
            "text/plain": [
              "1.0"
            ]
          },
          "metadata": {},
          "execution_count": 71
        }
      ]
    },
    {
      "cell_type": "markdown",
      "source": [
        "알파벳 문자열에서는\n",
        "- min은 사전에서 앞쪽인 문자열\n",
        "- max는 사전에서 뒤쪽인 문자열"
      ],
      "metadata": {
        "id": "sr2eoDuVZzch"
      }
    },
    {
      "cell_type": "code",
      "source": [
        "animals = pd.Series([\"koala\", \"aardvark\", \"zevbra\"])\n",
        "animals.max()"
      ],
      "metadata": {
        "colab": {
          "base_uri": "https://localhost:8080/",
          "height": 35
        },
        "id": "LQO3dMTlaIrK",
        "outputId": "390c208f-bf19-42e0-b652-2769dd0fddd6"
      },
      "execution_count": 72,
      "outputs": [
        {
          "output_type": "execute_result",
          "data": {
            "text/plain": [
              "'zevbra'"
            ],
            "application/vnd.google.colaboratory.intrinsic+json": {
              "type": "string"
            }
          },
          "metadata": {},
          "execution_count": 72
        }
      ]
    },
    {
      "cell_type": "code",
      "source": [
        "animals.min()"
      ],
      "metadata": {
        "colab": {
          "base_uri": "https://localhost:8080/",
          "height": 35
        },
        "id": "Bpc-ef7LaTzZ",
        "outputId": "270c9b3b-695f-473c-c7d6-e08ad9d56a49"
      },
      "execution_count": 73,
      "outputs": [
        {
          "output_type": "execute_result",
          "data": {
            "text/plain": [
              "'aardvark'"
            ],
            "application/vnd.google.colaboratory.intrinsic+json": {
              "type": "string"
            }
          },
          "metadata": {},
          "execution_count": 73
        }
      ]
    },
    {
      "cell_type": "markdown",
      "source": [
        "describe 메서드: 데이터를 요약해주는 메서드\n",
        "- 개수, 평균, 표준편차, 최소, 최대 등 통계"
      ],
      "metadata": {
        "id": "MijH7gqJaWi8"
      }
    },
    {
      "cell_type": "code",
      "source": [
        "numbers.describe()"
      ],
      "metadata": {
        "colab": {
          "base_uri": "https://localhost:8080/"
        },
        "id": "kNz04huCaiCn",
        "outputId": "04663d63-e83e-4ad3-a950-a278d8a3828a"
      },
      "execution_count": 74,
      "outputs": [
        {
          "output_type": "execute_result",
          "data": {
            "text/plain": [
              "count    5.000000\n",
              "mean     3.000000\n",
              "std      1.581139\n",
              "min      1.000000\n",
              "25%      2.000000\n",
              "50%      3.000000\n",
              "75%      4.000000\n",
              "max      5.000000\n",
              "dtype: float64"
            ]
          },
          "metadata": {},
          "execution_count": 74
        }
      ]
    },
    {
      "cell_type": "markdown",
      "source": [
        "sample 메서드: 임의의 값을 선택해서 반환"
      ],
      "metadata": {
        "id": "poovLPlOa34B"
      }
    },
    {
      "cell_type": "code",
      "source": [
        "numbers.sample(3)"
      ],
      "metadata": {
        "colab": {
          "base_uri": "https://localhost:8080/"
        },
        "id": "iOtTuK9wa7Tg",
        "outputId": "775cc1b6-2f4d-46f9-b33a-a08a0d2af1d7"
      },
      "execution_count": 76,
      "outputs": [
        {
          "output_type": "execute_result",
          "data": {
            "text/plain": [
              "0    1.0\n",
              "2    3.0\n",
              "4    4.0\n",
              "dtype: float64"
            ]
          },
          "metadata": {},
          "execution_count": 76
        }
      ]
    },
    {
      "cell_type": "markdown",
      "source": [
        "unique 메서드: Series 값에서 유니크한 값들만 넘파이 ndarray로 반환"
      ],
      "metadata": {
        "id": "97G7oNZDbHJJ"
      }
    },
    {
      "cell_type": "code",
      "source": [
        "numbers.values"
      ],
      "metadata": {
        "colab": {
          "base_uri": "https://localhost:8080/"
        },
        "id": "qLGbzyxUbTwV",
        "outputId": "b56c8743-4448-4128-8f58-77428c353237"
      },
      "execution_count": 78,
      "outputs": [
        {
          "output_type": "execute_result",
          "data": {
            "text/plain": [
              "array([ 1.,  2.,  3., nan,  4.,  5.])"
            ]
          },
          "metadata": {},
          "execution_count": 78
        }
      ]
    },
    {
      "cell_type": "code",
      "source": [
        "numbers.unique()"
      ],
      "metadata": {
        "colab": {
          "base_uri": "https://localhost:8080/"
        },
        "id": "7dZ2uNXZbXyg",
        "outputId": "214e2737-ff20-409f-8a3d-aba5ed722ef6"
      },
      "execution_count": 81,
      "outputs": [
        {
          "output_type": "execute_result",
          "data": {
            "text/plain": [
              "array([ 1.,  2.,  3., nan,  4.,  5.])"
            ]
          },
          "metadata": {},
          "execution_count": 81
        }
      ]
    },
    {
      "cell_type": "code",
      "source": [
        "x = pd.Series([\"A\",\"B\",\"C\",\"A\"])\n",
        "x.unique()"
      ],
      "metadata": {
        "colab": {
          "base_uri": "https://localhost:8080/"
        },
        "id": "YkeDzKVQblw4",
        "outputId": "11b1712b-75ef-40ae-b015-0e3b08e07d94"
      },
      "execution_count": 82,
      "outputs": [
        {
          "output_type": "execute_result",
          "data": {
            "text/plain": [
              "array(['A', 'B', 'C'], dtype=object)"
            ]
          },
          "metadata": {},
          "execution_count": 82
        }
      ]
    },
    {
      "cell_type": "markdown",
      "source": [
        "nunique 메서드: 유니크한 값의 개수를 반환(length)"
      ],
      "metadata": {
        "id": "4VbhgaLPbwT-"
      }
    },
    {
      "cell_type": "code",
      "source": [
        "x.nunique()"
      ],
      "metadata": {
        "colab": {
          "base_uri": "https://localhost:8080/"
        },
        "id": "V2CXxdWcb3FL",
        "outputId": "1344fcca-b7cf-4455-affb-26c3ad71fc35"
      },
      "execution_count": 83,
      "outputs": [
        {
          "output_type": "execute_result",
          "data": {
            "text/plain": [
              "3"
            ]
          },
          "metadata": {},
          "execution_count": 83
        }
      ]
    },
    {
      "cell_type": "markdown",
      "source": [
        "### 2.5.2 산술연산"
      ],
      "metadata": {
        "id": "eI-OXOZOerAd"
      }
    },
    {
      "cell_type": "code",
      "source": [
        "s1 = pd.Series([5, np.nan, 15], [\"A\",\"B\",\"C\"])\n",
        "s1"
      ],
      "metadata": {
        "colab": {
          "base_uri": "https://localhost:8080/"
        },
        "id": "GMtXoTXnetQR",
        "outputId": "2e9bc1f9-bd9d-41de-e77c-6956bb6970f0"
      },
      "execution_count": 84,
      "outputs": [
        {
          "output_type": "execute_result",
          "data": {
            "text/plain": [
              "A     5.0\n",
              "B     NaN\n",
              "C    15.0\n",
              "dtype: float64"
            ]
          },
          "metadata": {},
          "execution_count": 84
        }
      ]
    },
    {
      "cell_type": "code",
      "source": [
        "s1+3\n",
        "s1-3\n",
        "s1*3\n",
        "s1/3\n",
        "s1.add(3)\n",
        "s1.sub(3)\n",
        "s1.subtract(3)\n",
        "s1.mul(3)\n",
        "s1.multiply(3)\n",
        "s1.div(3)\n",
        "s1.divide(3)"
      ],
      "metadata": {
        "colab": {
          "base_uri": "https://localhost:8080/"
        },
        "id": "OFjOtWqxe1mt",
        "outputId": "b49b5efd-b9a5-48f3-b3e0-52c0f82f2e95"
      },
      "execution_count": 85,
      "outputs": [
        {
          "output_type": "execute_result",
          "data": {
            "text/plain": [
              "A    1.666667\n",
              "B         NaN\n",
              "C    5.000000\n",
              "dtype: float64"
            ]
          },
          "metadata": {},
          "execution_count": 85
        }
      ]
    },
    {
      "cell_type": "code",
      "source": [
        "s1//4\n",
        "s1.floordiv(4)"
      ],
      "metadata": {
        "colab": {
          "base_uri": "https://localhost:8080/"
        },
        "id": "Wcw1MIS_fHEl",
        "outputId": "e92e8b78-f1d1-450a-9368-ca416f863e17"
      },
      "execution_count": 86,
      "outputs": [
        {
          "output_type": "execute_result",
          "data": {
            "text/plain": [
              "A    1.0\n",
              "B    NaN\n",
              "C    3.0\n",
              "dtype: float64"
            ]
          },
          "metadata": {},
          "execution_count": 86
        }
      ]
    },
    {
      "cell_type": "code",
      "source": [
        "s1%3\n",
        "s1.mod(3)"
      ],
      "metadata": {
        "colab": {
          "base_uri": "https://localhost:8080/"
        },
        "id": "UGAHh_w5fNTC",
        "outputId": "fad534fb-d652-424f-c609-fce28f4b47da"
      },
      "execution_count": 88,
      "outputs": [
        {
          "output_type": "execute_result",
          "data": {
            "text/plain": [
              "A    2.0\n",
              "B    NaN\n",
              "C    0.0\n",
              "dtype: float64"
            ]
          },
          "metadata": {},
          "execution_count": 88
        }
      ]
    },
    {
      "cell_type": "markdown",
      "source": [
        "### 브로드캐스팅"
      ],
      "metadata": {
        "id": "mBGJV1dzfYP9"
      }
    },
    {
      "cell_type": "code",
      "source": [
        "s1 = pd.Series([1,2,3],[\"A\",\"B\",\"C\"])\n",
        "s2 = pd.Series([4,5,6],[\"A\",\"B\",\"C\"])"
      ],
      "metadata": {
        "id": "tk7se2Xyfcyq"
      },
      "execution_count": 89,
      "outputs": []
    },
    {
      "cell_type": "code",
      "source": [
        "s1+s2"
      ],
      "metadata": {
        "colab": {
          "base_uri": "https://localhost:8080/"
        },
        "id": "4ZEew4-LfrIG",
        "outputId": "f97e13d0-bd96-48a3-9285-25cb6fb8f18d"
      },
      "execution_count": 90,
      "outputs": [
        {
          "output_type": "execute_result",
          "data": {
            "text/plain": [
              "A    5\n",
              "B    7\n",
              "C    9\n",
              "dtype: int64"
            ]
          },
          "metadata": {},
          "execution_count": 90
        }
      ]
    },
    {
      "cell_type": "code",
      "source": [
        "s1 = pd.Series([3,6,np.nan,12])\n",
        "s2 = pd.Series([2,6,np.nan,12])\n",
        "s1==s2\n",
        "s1.eq(s2)\n",
        "\n",
        "s1!=s2\n",
        "s1.ne(s2)"
      ],
      "metadata": {
        "colab": {
          "base_uri": "https://localhost:8080/"
        },
        "id": "Ku25jJvdf4pM",
        "outputId": "dfd6963c-39f9-4bb0-a15b-fc7655f28b97"
      },
      "execution_count": 95,
      "outputs": [
        {
          "output_type": "execute_result",
          "data": {
            "text/plain": [
              "0     True\n",
              "1    False\n",
              "2     True\n",
              "3    False\n",
              "dtype: bool"
            ]
          },
          "metadata": {},
          "execution_count": 95
        }
      ]
    },
    {
      "cell_type": "code",
      "source": [
        "s1 = pd.Series([5,10,15],[\"A\",\"B\",\"C\"])\n",
        "s2 = pd.Series([4,8,12,14],[\"B\",\"C\",\"D\",\"E\"])\n",
        "s1+s2"
      ],
      "metadata": {
        "colab": {
          "base_uri": "https://localhost:8080/"
        },
        "id": "opoPbgjignPM",
        "outputId": "ebe2f476-67c6-4590-efc5-131684bf966a"
      },
      "execution_count": 96,
      "outputs": [
        {
          "output_type": "execute_result",
          "data": {
            "text/plain": [
              "A     NaN\n",
              "B    14.0\n",
              "C    23.0\n",
              "D     NaN\n",
              "E     NaN\n",
              "dtype: float64"
            ]
          },
          "metadata": {},
          "execution_count": 96
        }
      ]
    },
    {
      "cell_type": "markdown",
      "source": [
        "## 2.6 Series를 파이썬의 내장함수에 전달"
      ],
      "metadata": {
        "id": "BuyoXg-gf0iy"
      }
    },
    {
      "cell_type": "code",
      "source": [
        "cities = pd.Series([\"Seoul\",\"Busan\",\"Daegu\",np.nan])\n",
        "cities"
      ],
      "metadata": {
        "colab": {
          "base_uri": "https://localhost:8080/"
        },
        "id": "U2Pfsgy5hcv8",
        "outputId": "172ce4fc-53b7-4c1b-c051-77bc5e479f54"
      },
      "execution_count": 103,
      "outputs": [
        {
          "output_type": "execute_result",
          "data": {
            "text/plain": [
              "0    Seoul\n",
              "1    Busan\n",
              "2    Daegu\n",
              "3      NaN\n",
              "dtype: object"
            ]
          },
          "metadata": {},
          "execution_count": 103
        }
      ]
    },
    {
      "cell_type": "code",
      "source": [
        "len(cities)"
      ],
      "metadata": {
        "colab": {
          "base_uri": "https://localhost:8080/"
        },
        "id": "AWKaD803hpwM",
        "outputId": "0e576a71-e534-4cfd-cb09-3447a67a166e"
      },
      "execution_count": 98,
      "outputs": [
        {
          "output_type": "execute_result",
          "data": {
            "text/plain": [
              "4"
            ]
          },
          "metadata": {},
          "execution_count": 98
        }
      ]
    },
    {
      "cell_type": "code",
      "source": [
        "type(cities)"
      ],
      "metadata": {
        "colab": {
          "base_uri": "https://localhost:8080/"
        },
        "id": "n0bP-TamhuwJ",
        "outputId": "44fef007-032f-4939-c6b9-a43f63a71ff6"
      },
      "execution_count": 99,
      "outputs": [
        {
          "output_type": "execute_result",
          "data": {
            "text/plain": [
              "pandas.core.series.Series"
            ]
          },
          "metadata": {},
          "execution_count": 99
        }
      ]
    },
    {
      "cell_type": "code",
      "source": [
        "dir(cities)"
      ],
      "metadata": {
        "id": "e4ybPM7ThxCI"
      },
      "execution_count": null,
      "outputs": []
    },
    {
      "cell_type": "code",
      "source": [
        "list(cities)"
      ],
      "metadata": {
        "colab": {
          "base_uri": "https://localhost:8080/"
        },
        "id": "kMAKW3e2h87D",
        "outputId": "79ea7215-eaaa-4cd6-f96f-562926c0b6ba"
      },
      "execution_count": 101,
      "outputs": [
        {
          "output_type": "execute_result",
          "data": {
            "text/plain": [
              "['Seoul', 'Busan', 'Daegu', nan]"
            ]
          },
          "metadata": {},
          "execution_count": 101
        }
      ]
    },
    {
      "cell_type": "code",
      "source": [
        "dict(cities)"
      ],
      "metadata": {
        "colab": {
          "base_uri": "https://localhost:8080/"
        },
        "id": "nDbz59G7h-6d",
        "outputId": "fe0791ba-57f8-4aa2-ff51-52f77e491394"
      },
      "execution_count": 102,
      "outputs": [
        {
          "output_type": "execute_result",
          "data": {
            "text/plain": [
              "{0: 'Seoul', 1: 'Busan', 2: 'Daegu', 3: nan}"
            ]
          },
          "metadata": {},
          "execution_count": 102
        }
      ]
    },
    {
      "cell_type": "code",
      "source": [
        "\"Seoul\" in cities # 인덱스 값 조회"
      ],
      "metadata": {
        "colab": {
          "base_uri": "https://localhost:8080/"
        },
        "id": "M7SzKIW_iMY1",
        "outputId": "227fcf5e-ff11-42d8-ade9-83e262e32cf6"
      },
      "execution_count": 106,
      "outputs": [
        {
          "output_type": "execute_result",
          "data": {
            "text/plain": [
              "False"
            ]
          },
          "metadata": {},
          "execution_count": 106
        }
      ]
    },
    {
      "cell_type": "code",
      "source": [
        "2 in cities # 인덱스 값 조회"
      ],
      "metadata": {
        "colab": {
          "base_uri": "https://localhost:8080/"
        },
        "id": "O3ax9QV5iW5l",
        "outputId": "5e6464ea-642d-4cf3-de4b-913f53231901"
      },
      "execution_count": 108,
      "outputs": [
        {
          "output_type": "execute_result",
          "data": {
            "text/plain": [
              "True"
            ]
          },
          "metadata": {},
          "execution_count": 108
        }
      ]
    },
    {
      "cell_type": "code",
      "source": [
        "\"Seoul\" in cities.values # 값 조회"
      ],
      "metadata": {
        "colab": {
          "base_uri": "https://localhost:8080/"
        },
        "id": "yuM5Dlqdiffr",
        "outputId": "001b77a0-ed2f-41d0-f59a-89513b297637"
      },
      "execution_count": 111,
      "outputs": [
        {
          "output_type": "execute_result",
          "data": {
            "text/plain": [
              "True"
            ]
          },
          "metadata": {},
          "execution_count": 111
        }
      ]
    },
    {
      "cell_type": "code",
      "source": [
        "100 not in cities"
      ],
      "metadata": {
        "colab": {
          "base_uri": "https://localhost:8080/"
        },
        "id": "cvEVppF0injm",
        "outputId": "b4a1fb45-22d5-46ec-daa7-775358919470"
      },
      "execution_count": 112,
      "outputs": [
        {
          "output_type": "execute_result",
          "data": {
            "text/plain": [
              "True"
            ]
          },
          "metadata": {},
          "execution_count": 112
        }
      ]
    },
    {
      "cell_type": "markdown",
      "source": [
        "## 2.7 코딩 챌린지"
      ],
      "metadata": {
        "id": "nFbsUcL3iz47"
      }
    },
    {
      "cell_type": "code",
      "source": [
        "superheroes = [\"Batman\",\"Superman\",\"Spider-Man\",\"Iron Man\",\"Captain America\",\"Wonder Woman\"]\n",
        "strength_levels = (100,120,90,95,110,120)"
      ],
      "metadata": {
        "id": "dkkzgs8di2xe"
      },
      "execution_count": 113,
      "outputs": []
    },
    {
      "cell_type": "code",
      "source": [
        "pd.Series(superheroes)"
      ],
      "metadata": {
        "colab": {
          "base_uri": "https://localhost:8080/"
        },
        "id": "3yQjviuWjLyz",
        "outputId": "763f693e-ddb8-4f0a-ad0d-6b9bfcc26510"
      },
      "execution_count": 129,
      "outputs": [
        {
          "output_type": "execute_result",
          "data": {
            "text/plain": [
              "0             Batman\n",
              "1           Superman\n",
              "2         Spider-Man\n",
              "3           Iron Man\n",
              "4    Captain America\n",
              "5       Wonder Woman\n",
              "dtype: object"
            ]
          },
          "metadata": {},
          "execution_count": 129
        }
      ]
    },
    {
      "cell_type": "code",
      "source": [
        "pd.Series(data=strength_levels)"
      ],
      "metadata": {
        "colab": {
          "base_uri": "https://localhost:8080/"
        },
        "id": "smvu9QkzjUys",
        "outputId": "7ce19d82-7d1a-4bf8-b316-b23b94d2c880"
      },
      "execution_count": 131,
      "outputs": [
        {
          "output_type": "execute_result",
          "data": {
            "text/plain": [
              "0    100\n",
              "1    120\n",
              "2     90\n",
              "3     95\n",
              "4    110\n",
              "5    120\n",
              "dtype: int64"
            ]
          },
          "metadata": {},
          "execution_count": 131
        }
      ]
    },
    {
      "cell_type": "code",
      "source": [
        "heroes = pd.Series(data=strength_levels, index=superheroes)\n",
        "heroes"
      ],
      "metadata": {
        "colab": {
          "base_uri": "https://localhost:8080/"
        },
        "id": "nEPOLavojgsp",
        "outputId": "d60471bc-37e6-4bbc-b267-c03660e45046"
      },
      "execution_count": 117,
      "outputs": [
        {
          "output_type": "execute_result",
          "data": {
            "text/plain": [
              "Batman             100\n",
              "Superman           120\n",
              "Spider-Man          90\n",
              "Iron Man            95\n",
              "Captain America    110\n",
              "Wonder Woman       120\n",
              "dtype: int64"
            ]
          },
          "metadata": {},
          "execution_count": 117
        }
      ]
    },
    {
      "cell_type": "code",
      "source": [
        "heroes.head(2)"
      ],
      "metadata": {
        "colab": {
          "base_uri": "https://localhost:8080/"
        },
        "id": "v6H0TdfDjp0I",
        "outputId": "858be03e-1951-4fca-f501-8e91ae54999a"
      },
      "execution_count": 118,
      "outputs": [
        {
          "output_type": "execute_result",
          "data": {
            "text/plain": [
              "Batman      100\n",
              "Superman    120\n",
              "dtype: int64"
            ]
          },
          "metadata": {},
          "execution_count": 118
        }
      ]
    },
    {
      "cell_type": "code",
      "source": [
        "heroes.tail(4)"
      ],
      "metadata": {
        "colab": {
          "base_uri": "https://localhost:8080/"
        },
        "id": "chBhWAPBjs4r",
        "outputId": "dcda3dde-a9b8-4001-9623-34eaa30fba0c"
      },
      "execution_count": 119,
      "outputs": [
        {
          "output_type": "execute_result",
          "data": {
            "text/plain": [
              "Spider-Man          90\n",
              "Iron Man            95\n",
              "Captain America    110\n",
              "Wonder Woman       120\n",
              "dtype: int64"
            ]
          },
          "metadata": {},
          "execution_count": 119
        }
      ]
    },
    {
      "cell_type": "code",
      "source": [
        "heroes.nunique()"
      ],
      "metadata": {
        "colab": {
          "base_uri": "https://localhost:8080/"
        },
        "id": "pUHXFUiiju_n",
        "outputId": "0f0c4ef2-1e20-4add-e49a-06caee95d104"
      },
      "execution_count": 127,
      "outputs": [
        {
          "output_type": "execute_result",
          "data": {
            "text/plain": [
              "5"
            ]
          },
          "metadata": {},
          "execution_count": 127
        }
      ]
    },
    {
      "cell_type": "code",
      "source": [
        "heroes.mean()"
      ],
      "metadata": {
        "colab": {
          "base_uri": "https://localhost:8080/"
        },
        "id": "r0OWK8iljzNg",
        "outputId": "4b1a797c-51d1-4556-a016-b95f4cfc9a22"
      },
      "execution_count": 121,
      "outputs": [
        {
          "output_type": "execute_result",
          "data": {
            "text/plain": [
              "105.83333333333333"
            ]
          },
          "metadata": {},
          "execution_count": 121
        }
      ]
    },
    {
      "cell_type": "code",
      "source": [
        "heroes.max()"
      ],
      "metadata": {
        "colab": {
          "base_uri": "https://localhost:8080/"
        },
        "id": "g9Y8YLXXj37U",
        "outputId": "517570c5-34df-491c-998e-9f06a2189b41"
      },
      "execution_count": 122,
      "outputs": [
        {
          "output_type": "execute_result",
          "data": {
            "text/plain": [
              "120"
            ]
          },
          "metadata": {},
          "execution_count": 122
        }
      ]
    },
    {
      "cell_type": "code",
      "source": [
        "heroes.min()"
      ],
      "metadata": {
        "colab": {
          "base_uri": "https://localhost:8080/"
        },
        "id": "hjYZpGj3j6Tp",
        "outputId": "aa94471c-52bb-44bd-a1a8-6d7a4b36a1ba"
      },
      "execution_count": 123,
      "outputs": [
        {
          "output_type": "execute_result",
          "data": {
            "text/plain": [
              "90"
            ]
          },
          "metadata": {},
          "execution_count": 123
        }
      ]
    },
    {
      "cell_type": "code",
      "source": [
        "heroes*2"
      ],
      "metadata": {
        "colab": {
          "base_uri": "https://localhost:8080/"
        },
        "id": "RLMRVFyAj9Uw",
        "outputId": "4a9cc585-b1fa-49cd-de53-996c904a1a2c"
      },
      "execution_count": 124,
      "outputs": [
        {
          "output_type": "execute_result",
          "data": {
            "text/plain": [
              "Batman             200\n",
              "Superman           240\n",
              "Spider-Man         180\n",
              "Iron Man           190\n",
              "Captain America    220\n",
              "Wonder Woman       240\n",
              "dtype: int64"
            ]
          },
          "metadata": {},
          "execution_count": 124
        }
      ]
    },
    {
      "cell_type": "code",
      "source": [
        "dict(heroes)"
      ],
      "metadata": {
        "colab": {
          "base_uri": "https://localhost:8080/"
        },
        "id": "LFTv_GR7kA_4",
        "outputId": "fb4d6044-17ad-406a-87d7-c41cb735b1e6"
      },
      "execution_count": 125,
      "outputs": [
        {
          "output_type": "execute_result",
          "data": {
            "text/plain": [
              "{'Batman': 100,\n",
              " 'Superman': 120,\n",
              " 'Spider-Man': 90,\n",
              " 'Iron Man': 95,\n",
              " 'Captain America': 110,\n",
              " 'Wonder Woman': 120}"
            ]
          },
          "metadata": {},
          "execution_count": 125
        }
      ]
    },
    {
      "cell_type": "code",
      "source": [
        "len(heroes)"
      ],
      "metadata": {
        "colab": {
          "base_uri": "https://localhost:8080/"
        },
        "id": "bBJvhWqguu_B",
        "outputId": "0413a268-16a0-442b-fd9c-7c983d2a22c8"
      },
      "execution_count": 133,
      "outputs": [
        {
          "output_type": "execute_result",
          "data": {
            "text/plain": [
              "6"
            ]
          },
          "metadata": {},
          "execution_count": 133
        }
      ]
    }
  ]
}